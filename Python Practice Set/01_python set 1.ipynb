{
 "cells": [
  {
   "cell_type": "markdown",
   "id": "ffa6fb82-240d-4db1-bdf0-43419c9e72d7",
   "metadata": {},
   "source": [
    "# ***PYTHON PRACTISE SET 1***"
   ]
  },
  {
   "cell_type": "markdown",
   "id": "37499593-2b4c-4f1f-ae1f-7329b34e5a0c",
   "metadata": {},
   "source": [
    "# Q1. Write a Python program that defines a function called \"add_numbers\" that takes two arguments (i.e.,numbers) and returns their sum. Within the function, add the two numbers together and return the result using the return statement. Call the function with the values 5 and 6, and print out the returned result. This will result in the | of 5 and 6, with the output of the program being the sum of these two numbers."
   ]
  },
  {
   "cell_type": "code",
   "execution_count": 1,
   "id": "5ec25cb3-2392-4578-9ac6-f2434f36d433",
   "metadata": {},
   "outputs": [
    {
     "name": "stdin",
     "output_type": "stream",
     "text": [
      "Enter the first number :  5\n",
      "Enter the second number :  6\n"
     ]
    },
    {
     "name": "stdout",
     "output_type": "stream",
     "text": [
      "The sum of 5 and 6 is 11\n"
     ]
    }
   ],
   "source": [
    "x = int(input(\"Enter the first number : \" ) )\n",
    "y = int(input(\"Enter the second number : \"))\n",
    "\n",
    "def add_numbers(x,y):\n",
    "    result = x+y\n",
    "    return result\n",
    "\n",
    "sum_result = add_numbers(x,y)\n",
    "\n",
    "print(f\"The sum of {x} and {y} is\" , sum_result)\n"
   ]
  },
  {
   "cell_type": "markdown",
   "id": "43da5482-a0f5-4eea-86e3-5e4e0393c87c",
   "metadata": {},
   "source": [
    " # <<<<<<<<<<<<<<< OR >>>>>>>>>>>>>>>>>>>"
   ]
  },
  {
   "cell_type": "code",
   "execution_count": 2,
   "id": "6a9b6000-a94f-4184-ad7a-86f3886f944e",
   "metadata": {},
   "outputs": [
    {
     "name": "stdout",
     "output_type": "stream",
     "text": [
      "The sum of 5 and 6 is: 11\n"
     ]
    }
   ],
   "source": [
    "def add_numbers(num1, num2):\n",
    "    # Add the two numbers together\n",
    "    result = num1 + num2\n",
    "    # Return the result\n",
    "    return result\n",
    "\n",
    "# Call the function with 5 and 6 as arguments and store the result\n",
    "sum_result = add_numbers(5, 6)\n",
    "\n",
    "# Print the result\n",
    "print(\"The sum of 5 and 6 is:\", sum_result)\n"
   ]
  },
  {
   "cell_type": "markdown",
   "id": "7cb91e69-3da0-4a72-aa75-b301a4164e79",
   "metadata": {},
   "source": [
    "# Q2. Write a Python program that calculates the square root of a given number using a built-in function. Specifically, the program should take an integer or float input from the user, calculate its square rootusing the 'sqrt()' function from the 'math' module, and print out the result to the user. As an example, calculate the square root of the number 625 using this program, which should output the value of 25."
   ]
  },
  {
   "cell_type": "code",
   "execution_count": 9,
   "id": "4078b3d2-8091-497f-9775-1bf919fb2d53",
   "metadata": {},
   "outputs": [
    {
     "name": "stdin",
     "output_type": "stream",
     "text": [
      "Enter a number:  625\n"
     ]
    },
    {
     "name": "stdout",
     "output_type": "stream",
     "text": [
      "The square root of 625.0 is: 25.0\n"
     ]
    }
   ],
   "source": [
    "import math\n",
    "\n",
    "# Get the number from the user\n",
    "number = float(input(\"Enter a number: \"))\n",
    "\n",
    "# Calculate the square root\n",
    "square_root = math.sqrt(number)\n",
    "\n",
    "# Print the result\n",
    "print(\"The square root of\", number, \"is:\", square_root)\n"
   ]
  },
  {
   "cell_type": "code",
   "execution_count": 13,
   "id": "9a81d55b-a382-464b-a188-b51817fdb1c7",
   "metadata": {},
   "outputs": [
    {
     "name": "stdin",
     "output_type": "stream",
     "text": [
      "Enter the number:  625\n"
     ]
    },
    {
     "name": "stdout",
     "output_type": "stream",
     "text": [
      "The square root of 625.0 is 25.0\n"
     ]
    }
   ],
   "source": [
    "from math import * # wehn you use [ from math import * ] then you can directly use sqrt() function but in above\n",
    "                    # situation you can't do that means if you only use import math then you have go for \n",
    "                     # math.sqrt() just like above \n",
    "\n",
    "# Get the number from the user\n",
    "x = float(input(\"Enter the number: \"))\n",
    "\n",
    "# Define a function to calculate the square root\n",
    "def square_root(x):\n",
    "    result = sqrt(x)\n",
    "    return result\n",
    "\n",
    "# Calculate the square root using the function\n",
    "result_num = square_root(x)\n",
    "\n",
    "# Print the result\n",
    "print(f\"The square root of {x} is {result_num}\")\n"
   ]
  },
  {
   "cell_type": "markdown",
   "id": "0814e790-fa2d-4702-abbe-5fcbfe378580",
   "metadata": {},
   "source": [
    "- ***IN above question you don't ask to create function but still i used it just for refrence***"
   ]
  },
  {
   "cell_type": "markdown",
   "id": "e1574b43-6922-4be3-be04-fe5a3db536e4",
   "metadata": {},
   "source": [
    "# Q3.Write a program that prints all prime numbers between 0 to 50."
   ]
  },
  {
   "cell_type": "code",
   "execution_count": 27,
   "id": "74c72789-dfff-4745-9ebc-5cec0b293ddc",
   "metadata": {},
   "outputs": [
    {
     "name": "stdin",
     "output_type": "stream",
     "text": [
      "Please, Enter the Lowest Range Value:  0\n",
      "Please, Enter the Upper Range Value:  50\n"
     ]
    },
    {
     "name": "stdout",
     "output_type": "stream",
     "text": [
      "The Prime Numbers in the range are:  2\n",
      "The Prime Numbers in the range are:  3\n",
      "The Prime Numbers in the range are:  5\n",
      "The Prime Numbers in the range are:  7\n",
      "The Prime Numbers in the range are:  11\n",
      "The Prime Numbers in the range are:  13\n",
      "The Prime Numbers in the range are:  17\n",
      "The Prime Numbers in the range are:  19\n",
      "The Prime Numbers in the range are:  23\n",
      "The Prime Numbers in the range are:  29\n",
      "The Prime Numbers in the range are:  31\n",
      "The Prime Numbers in the range are:  37\n",
      "The Prime Numbers in the range are:  41\n",
      "The Prime Numbers in the range are:  43\n",
      "The Prime Numbers in the range are:  47\n"
     ]
    }
   ],
   "source": [
    "# First, we will take the input:  \n",
    "lower_value = int(input (\"Please, Enter the Lowest Range Value: \"))  \n",
    "upper_value = int(input (\"Please, Enter the Upper Range Value: \"))  \n",
    "   \n",
    "for number in range (lower_value, upper_value + 1):  \n",
    "    if number > 1:  \n",
    "        for i in range (2, number):  \n",
    "            if (number % i) == 0:  \n",
    "                break  \n",
    "        else:  \n",
    "            print (\"The Prime Numbers in the range are: \", number)  "
   ]
  },
  {
   "cell_type": "markdown",
   "id": "0a48c2ce-02b2-4b26-af2d-4423f4d41751",
   "metadata": {},
   "source": [
    "- ***this is the problem arise when we don't intialize empty list to append the numbers***"
   ]
  },
  {
   "cell_type": "code",
   "execution_count": 30,
   "id": "1ebc863d-2ee9-4535-9b34-af250bbddcca",
   "metadata": {},
   "outputs": [
    {
     "name": "stdout",
     "output_type": "stream",
     "text": [
      "The prime number in the range are:  [2, 3, 5, 7, 11, 13, 17, 19, 23, 29, 31, 37, 41, 43, 47]\n"
     ]
    }
   ],
   "source": [
    "prime_list = []\n",
    "for number in range (0, 51):  \n",
    "    if number > 1:  \n",
    "        for i in range (2, int(number*0.5)+1): #here i can also use squr() , why i use sqrt() rather than entire\n",
    "                                                 #number cause it takes less iteration rather than first one \n",
    "            if (number % i) == 0:  \n",
    "                break  \n",
    "        else:  \n",
    "            prime_list.append(number)\n",
    "            \n",
    "print(\"The prime number in the range are: \",prime_list)\n",
    "            \n",
    "  "
   ]
  },
  {
   "cell_type": "raw",
   "id": "435ac2b4-beab-4e48-ad2e-7c3084de99ae",
   "metadata": {},
   "source": [
    "why we don't go upto square root of number to check its prime or not\n",
    "\n",
    "We don't need to check potential divisors up to the square root of a number because of a mathematical property of prime numbers and their divisors. The property that allows us to stop checking at the square root is known as the \"fundamental theorem of arithmetic.\" Here's an explanation of why this works:\n",
    "\n",
    "Fundamental Theorem of Arithmetic: This theorem states that every natural number greater than 1 can be uniquely expressed as a product of prime numbers (prime factorization). In other words, every composite number can be broken down into a combination of prime numbers.\n",
    "\n",
    "For example, let's consider a composite number, say 36:\n",
    "\n",
    "The prime factorization of 36 is 2 * 2 * 3 * 3.\n",
    "We can express 36 as a product of prime numbers: 36 = 2 * 2 * 3 * 3.\n",
    "Now, when we want to check if a number is prime, we're essentially looking for any divisors that are smaller than the square root of the number. This is because, if a number is composite (not prime), it must have prime factors that are less than or equal to its square root. Here's why:\n",
    "\n",
    "Suppose a composite number, N, has a prime factor, P, such that P > √N.\n",
    "\n",
    "In this case, if we have a factorization of N, it would have to be of the form P * Q, where Q is another number.\n",
    "\n",
    "But since P > √N, then Q would have to be less than √N, or else the product P * Q would be greater than N, which is not possible.\n",
    "\n",
    "So, when checking for divisors to determine if a number is prime, we only need to check potential divisors up to the square root of the number because any prime factors of a composite number must be smaller than or equal to its square root. Checking divisors beyond the square root would be unnecessary, as any divisors larger than the square root would imply the presence of a smaller divisor, making the number composite."
   ]
  },
  {
   "cell_type": "markdown",
   "id": "fbab4450-2dfb-40da-b8be-f80feb6f0ffc",
   "metadata": {},
   "source": [
    "# Q4.How can we swap the values of three variables (let's say a, b, and c) without using a fourth variable? For example, if we have a=5, b=8, and c=9, how can we obtain a=9, b=5, and c=8? The challenge is to perform this operation without using an additional variable to store any of the values during the swapping process."
   ]
  },
  {
   "cell_type": "code",
   "execution_count": 9,
   "id": "566d702c-c744-4dcf-b062-547f373d22ce",
   "metadata": {},
   "outputs": [
    {
     "name": "stdout",
     "output_type": "stream",
     "text": [
      "Before swapping a = 5 , b = 8 , c = 9\n",
      "After swapping a = 9 , b = 5 , c = 8\n"
     ]
    }
   ],
   "source": [
    "# Initial values\n",
    "a = 5\n",
    "b = 8\n",
    "c = 9\n",
    "\n",
    "# Displaying values before swapping\n",
    "print(\"Before swapping a =\", a, \", b =\", b, \", c =\", c)\n",
    "\n",
    "# Swapping values without using a fourth variable\n",
    "a = a + b + c  # a now holds the sum of all three variables\n",
    "b = a - (b + c)  # b is updated to hold the original value of a\n",
    "c = a - (b + c)  # c is updated to hold the original value of b\n",
    "a = a - (b + c)  # a is updated to hold the original value of c\n",
    "\n",
    "# Displaying values after swapping\n",
    "print(\"After swapping a =\", a, \", b =\", b, \", c =\", c)\n"
   ]
  },
  {
   "cell_type": "markdown",
   "id": "f136320a-333d-4cb6-a5e1-24a185425253",
   "metadata": {},
   "source": [
    "# Q5. Can you write a program that determines the nature of a given number (in this case, 87) as being positive, negative, or zero? The program should be designed to take the number as input and perform then necessary calculations to determine if the number is positive (i.e., greater than zero), negative (i.e., less than zero), or zero (i.e., equal to zero). The output of the program should indicate which of these three categories the given number falls into."
   ]
  },
  {
   "cell_type": "code",
   "execution_count": 17,
   "id": "65655ee5-a0d8-4920-acd7-778b604f3157",
   "metadata": {},
   "outputs": [
    {
     "name": "stdin",
     "output_type": "stream",
     "text": [
      "Enter the number:  87\n"
     ]
    },
    {
     "name": "stdout",
     "output_type": "stream",
     "text": [
      "The given number is positive\n"
     ]
    }
   ],
   "source": [
    "x = int(input(\"Enter the number: \"))\n",
    "\n",
    "# Checking the nature of number\n",
    "if x < 0 :\n",
    "    print(\"The given number is negative\")\n",
    "elif x == 0 :\n",
    "    print (\"The given number is zero\")\n",
    "else :\n",
    "    print(\"The given number is positive\")"
   ]
  },
  {
   "cell_type": "markdown",
   "id": "1892e507-98ab-43a1-8b78-959a3110558b",
   "metadata": {},
   "source": [
    "# Q6. How can you create a program that determines whether a given number (in this case, 98) is even or odd? The program should be designed to take the number as input and perform the necessar calculations to determine whether it is divisible by two. If the number is divisible by two without leaving a remainder, it is an even number, and if there is a remainder, it is an odd number. The output of theprogram should indicate whether the given number is even or odd."
   ]
  },
  {
   "cell_type": "code",
   "execution_count": 22,
   "id": "efa14099-f7ad-4516-b21a-52f2556812f4",
   "metadata": {},
   "outputs": [
    {
     "name": "stdin",
     "output_type": "stream",
     "text": [
      "Enter the number :  98\n"
     ]
    },
    {
     "name": "stdout",
     "output_type": "stream",
     "text": [
      "The given number 98 is even \n"
     ]
    }
   ],
   "source": [
    "x = int(input(\"Enter the number : \" ))\n",
    "\n",
    "\n",
    "# Checking whether the number is even or odd\n",
    "\n",
    "if x % 2 == 0 :\n",
    "    print (f\"The given number {x} is even number\")\n",
    "else:\n",
    "    print(f\"The given number {x} is odd number\")"
   ]
  },
  {
   "cell_type": "markdown",
   "id": "950417bc-94cb-44cd-9301-5e478f3bd6f1",
   "metadata": {},
   "source": [
    "# Q7.Write a program for sum of digits.the digits are 76543 and the output should be 25."
   ]
  },
  {
   "cell_type": "code",
   "execution_count": 4,
   "id": "4f554fb4-ee6a-48fb-908f-8ce36b3cbb05",
   "metadata": {},
   "outputs": [
    {
     "name": "stdin",
     "output_type": "stream",
     "text": [
      "Enter the digit:  76543\n"
     ]
    },
    {
     "name": "stdout",
     "output_type": "stream",
     "text": [
      "The sum of the digits is: 25\n"
     ]
    }
   ],
   "source": [
    "# Input: Taking a number as input\n",
    "num = int(input(\"Enter the digit: \"))\n",
    "\n",
    "# Initialize a variable to store the sum of digits\n",
    "sum_of_digits = 0\n",
    "\n",
    "# Loop through each digit in the number\n",
    "while num > 0:\n",
    "    # Add the last digit to the sum\n",
    "    sum_of_digits += num % 10\n",
    "    \n",
    "    # Remove the last digit from the number\n",
    "    num = num // 10\n",
    "\n",
    "# Output: Print the sum of digits\n",
    "print(\"The sum of the digits is:\", sum_of_digits)\n"
   ]
  },
  {
   "cell_type": "markdown",
   "id": "71a6c9fe-d162-4aa2-a5b4-82b293fceba8",
   "metadata": {},
   "source": [
    "# Q8.Write a program for reversing the given number 5436 and the output should be 6345."
   ]
  },
  {
   "cell_type": "code",
   "execution_count": 3,
   "id": "897effc6-8092-4ba6-bf73-b8cd06b96bdd",
   "metadata": {},
   "outputs": [
    {
     "name": "stdin",
     "output_type": "stream",
     "text": [
      "Enter the digit:  6345\n"
     ]
    },
    {
     "name": "stdout",
     "output_type": "stream",
     "text": [
      "The reversed number is: 5436\n"
     ]
    }
   ],
   "source": [
    "# Input: Taking a number as input\n",
    "num = int(input(\"Enter the digit: \"))\n",
    "\n",
    "# Initialize a variable to store the reversed number\n",
    "reversed_num = 0\n",
    "\n",
    "# Reverse the digits\n",
    "while num > 0:\n",
    "    # Extract the last digit\n",
    "    last_digit = num % 10\n",
    "    \n",
    "    # Add the last digit to the reversed number (shift and add)\n",
    "    reversed_num = (reversed_num * 10) + last_digit\n",
    "    \n",
    "    # Remove the last digit from the original number\n",
    "    num = num // 10\n",
    "\n",
    "# Output: Print the reversed number\n",
    "print(\"The reversed number is:\", reversed_num)\n"
   ]
  },
  {
   "cell_type": "markdown",
   "id": "b3682d40-3df0-488e-8739-b549462dcfd9",
   "metadata": {},
   "source": [
    "# Q9.Write a program to check if a given number 371 is an Armstrong number?"
   ]
  },
  {
   "cell_type": "code",
   "execution_count": 15,
   "id": "42737447-e864-4a3c-b11e-83ce4fe708a3",
   "metadata": {},
   "outputs": [
    {
     "name": "stdin",
     "output_type": "stream",
     "text": [
      "Enter the number:  371\n"
     ]
    },
    {
     "name": "stdout",
     "output_type": "stream",
     "text": [
      "The given number is an Armstrong number: 371\n"
     ]
    }
   ],
   "source": [
    "# Input: Taking a number as input\n",
    "num = int(input(\"Enter the number: \"))\n",
    "\n",
    "# Initialize variables\n",
    "sum_num = 0\n",
    "temp = num\n",
    "n1 = len(str(num))  # Find the number of digits\n",
    "\n",
    "while temp > 0:      \n",
    "    digit = temp % 10   # Extract the last digit\n",
    "    \n",
    "    sum_num += digit**n1   # Add the digit raised to the power of n1 to the sum\n",
    "    \n",
    "    temp = temp // 10  # Remove the last digit from the original number\n",
    "\n",
    "\n",
    "if sum_num == num:     # Check if the number is an Armstrong number\n",
    "\n",
    "    print('The given number is an Armstrong number:', sum_num)\n",
    "else:\n",
    "    print('The given number is not an Armstrong number.')\n",
    "\n",
    "\n"
   ]
  },
  {
   "cell_type": "markdown",
   "id": "56fc2088-931b-4fa1-8903-a608a342d7dc",
   "metadata": {},
   "source": [
    "# Q10.Write a program the given year is 1996, a leap year."
   ]
  },
  {
   "cell_type": "code",
   "execution_count": null,
   "id": "ddfec4a6-089d-4d0a-836d-539a0fe8a6f6",
   "metadata": {},
   "outputs": [],
   "source": []
  }
 ],
 "metadata": {
  "kernelspec": {
   "display_name": "Python 3 (ipykernel)",
   "language": "python",
   "name": "python3"
  },
  "language_info": {
   "codemirror_mode": {
    "name": "ipython",
    "version": 3
   },
   "file_extension": ".py",
   "mimetype": "text/x-python",
   "name": "python",
   "nbconvert_exporter": "python",
   "pygments_lexer": "ipython3",
   "version": "3.10.6"
  }
 },
 "nbformat": 4,
 "nbformat_minor": 5
}
