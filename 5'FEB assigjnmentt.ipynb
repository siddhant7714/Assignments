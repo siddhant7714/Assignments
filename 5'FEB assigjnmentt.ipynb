{
 "cells": [
  {
   "cell_type": "markdown",
   "id": "1d92570e-8c50-4dee-ab5e-175cd84fe27c",
   "metadata": {},
   "source": [
    "# Assignment '5 feb\n"
   ]
  },
  {
   "cell_type": "markdown",
   "id": "a9378539-f33d-4b39-8d42-63ba45dfafb3",
   "metadata": {},
   "source": [
    "- ***Q1. Explain Class and Object with respect to Object-Oriented Programming. Give a suitable example.***"
   ]
  },
  {
   "cell_type": "markdown",
   "id": "e10a6a0e-73ad-4c2c-bd57-bd802dbd32fe",
   "metadata": {},
   "source": [
    "A class is like a blueprint or template that defines the characteristics and behaviors of an object. It contains properties (attributes) and methods (behaviors) that are common to all objects of that class. It is like a cookie cutter that defines the shape and pattern of the cookie. The class does not contain any data or state of its own, but rather defines the structure and behavior of the objects that can be created from it.\n",
    "\n",
    "An object is an instance of a class. It is a concrete entity that has a state (data) and behavior (methods) defined by its class. It is like a cookie that is made from the cookie cutter, with its own unique shape, size, and flavor. Each object can have its own unique data and behavior, while still sharing the characteristics defined by its class.\n",
    "\n",
    "Let's consider an example of a class and object. Suppose we want to create a class for representing cars. We can define a Car class with properties like make, model, year, color, and methods like start, stop, accelerate, and brake. Here's an example implementation:"
   ]
  },
  {
   "cell_type": "code",
   "execution_count": 2,
   "id": "72f63bb8-202d-4db1-aa98-79bd7e9b14a0",
   "metadata": {},
   "outputs": [],
   "source": [
    "class Car:\n",
    "    def __init__(self, make, model, year, color):\n",
    "        self.make = make\n",
    "        self.model = model\n",
    "        self.year = year\n",
    "        self.color = color\n",
    "        self.speed = 0\n",
    "        \n",
    "    def start(self):\n",
    "        print(f\"{self.make} {self.model} started\")\n",
    "        \n",
    "    def stop(self):\n",
    "        print(f\"{self.make} {self.model} stopped\")\n",
    "        self.speed = 0\n",
    "        \n",
    "    def accelerate(self, speed):\n",
    "        self.speed += speed\n",
    "        print(f\"{self.make} {self.model} accelerated to {self.speed} mph\")\n",
    "        \n",
    "    def brake(self, speed):\n",
    "        self.speed -= speed\n",
    "        print(f\"{self.make} {self.model} slowed down to {self.speed} mph\")\n"
   ]
  },
  {
   "cell_type": "markdown",
   "id": "bdaddead-b537-4718-9608-4a24a7a7b1ae",
   "metadata": {},
   "source": [
    "In this implementation, we have defined a Car class with properties like make, model, year, color, and a method __init__ that initializes the properties of the object. We also have defined some methods like start, stop, accelerate, and brake that define the behavior of the car.\n",
    "\n",
    "We can create an object of this class by instantiating it using the Car class:"
   ]
  },
  {
   "cell_type": "code",
   "execution_count": 3,
   "id": "7ff31699-c80b-40dc-97d7-175aa2357900",
   "metadata": {},
   "outputs": [],
   "source": [
    "car1 = Car(\"Toyota\", \"Corolla\", 2022, \"red\")\n"
   ]
  },
  {
   "cell_type": "markdown",
   "id": "9481e3fe-4fa5-425f-977e-af9ee0b71ce8",
   "metadata": {},
   "source": [
    "Here, we have created an object car1 of the Car class with the make \"Toyota\", model \"Corolla\", year 2022, and color \"red\".\n",
    "\n",
    "We can access the properties and methods of this object using the dot notation:"
   ]
  },
  {
   "cell_type": "code",
   "execution_count": 4,
   "id": "ac10bfa9-02e5-4a8c-98ce-2600d800bb41",
   "metadata": {},
   "outputs": [
    {
     "name": "stdout",
     "output_type": "stream",
     "text": [
      "Toyota\n",
      "Corolla\n",
      "Toyota Corolla started\n",
      "Toyota Corolla accelerated to 50 mph\n"
     ]
    }
   ],
   "source": [
    "print(car1.make)   # Toyota\n",
    "print(car1.model)  # Corolla\n",
    "car1.start()       # Toyota Corolla started\n",
    "car1.accelerate(50) # Toyota Corolla accelerated to 50 mph\n"
   ]
  },
  {
   "cell_type": "markdown",
   "id": "de060b0e-63c3-4bdd-a9d6-f376c81618c0",
   "metadata": {},
   "source": [
    "Here, we have accessed the make and model properties of car1, and called the start and accelerate methods on it.\n",
    "\n",
    "In this way, we can create multiple objects of the Car class, each with their own unique data and behavior, while still sharing the common properties and methods defined by the class."
   ]
  },
  {
   "cell_type": "markdown",
   "id": "0787706f-5f85-4d7e-b33b-b843cb0a81af",
   "metadata": {},
   "source": [
    "-- ***Q2. Name the four pillars of OOPs.***"
   ]
  },
  {
   "cell_type": "markdown",
   "id": "3abd80d2-32b8-40cf-a996-4fe3e18d1367",
   "metadata": {},
   "source": [
    "Here's a brief explanation of each of the four pillars of OOP:\n",
    "\n",
    "1. Encapsulation:\n",
    "Encapsulation is the process of bundling data and methods that operate on that data within a single unit. In OOP, this unit is called a class. By bundling data and methods together, encapsulation provides several benefits such as data hiding, data protection, and improved modularity.\n",
    "\n",
    "2. Abstraction:\n",
    "Abstraction is the process of simplifying complex systems by breaking them down into smaller, more manageable parts. In OOP, this is achieved through the use of abstract classes and interfaces. By defining abstract classes and interfaces, we can specify a set of behaviors that classes must implement, without specifying how those behaviors are implemented.\n",
    "\n",
    "3. Inheritance:\n",
    "Inheritance is the process of creating new classes based on existing classes. In OOP, inheritance is used to create subclasses that inherit attributes and methods from their parent classes. This allows us to reuse code and create more specialized classes that add new functionality to the parent class.\n",
    "\n",
    "4. Polymorphism:\n",
    "Polymorphism is the ability of objects of different classes to be treated as if they are objects of the same class. In OOP, this is achieved through the use of interfaces and inheritance. By defining common methods and behaviors in a superclass or interface, we can create a collection of objects that can be treated as if they are the same type, even though they are different. This allows for greater flexibility and modularity in code design."
   ]
  },
  {
   "cell_type": "markdown",
   "id": "55840755-a7ea-4b5a-a0a9-bdeeb2bc1820",
   "metadata": {},
   "source": [
    "- ***Q3. Explain why the __init__() function is used. Give a suitable example.***"
   ]
  },
  {
   "cell_type": "markdown",
   "id": "4fe86fc4-0e09-4105-a799-6d14ee85d82a",
   "metadata": {},
   "source": [
    "In Object-Oriented Programming (OOP), the __init__() function is a special method that is called when an instance of a class is created. It is used to initialize the attributes of the object.\n",
    "\n",
    "The __init__() function allows us to set the initial values of the object's attributes when the object is created. This is important because it ensures that the object is in a valid state from the moment it is created.\n",
    "\n",
    "Here is an example to illustrate the use of __init__() function"
   ]
  },
  {
   "cell_type": "code",
   "execution_count": 6,
   "id": "51190679-bc61-4d1e-b12b-57b74cb8fbbd",
   "metadata": {},
   "outputs": [
    {
     "name": "stdout",
     "output_type": "stream",
     "text": [
      "John is 30 years old.\n"
     ]
    }
   ],
   "source": [
    "class Person:\n",
    "    def __init__(self, name, age):\n",
    "        self.name = name\n",
    "        self.age = age\n",
    "\n",
    "    def get_info(self):\n",
    "        return f\"{self.name} is {self.age} years old.\"\n",
    "\n",
    "person1 = Person(\"John\", 30)\n",
    "print(person1.get_info()) "
   ]
  },
  {
   "cell_type": "code",
   "execution_count": 7,
   "id": "aea6c56c-ec66-4952-80d7-583ef609e37f",
   "metadata": {},
   "outputs": [
    {
     "data": {
      "text/plain": [
       "'John is 30 years old.'"
      ]
     },
     "execution_count": 7,
     "metadata": {},
     "output_type": "execute_result"
    }
   ],
   "source": [
    "person1.get_info()"
   ]
  },
  {
   "cell_type": "markdown",
   "id": "a1d7ddb1-0b42-4c01-afcc-3b551b837623",
   "metadata": {},
   "source": [
    "By using the __init__() function, we ensure that the person1 object is created with the required attributes name and age, and we can then call the get_info() method on it to retrieve information about the person"
   ]
  },
  {
   "cell_type": "markdown",
   "id": "1024315a-6ae8-46b0-ad1b-b7e68a74dc1d",
   "metadata": {},
   "source": [
    "- ***Q4. Why self is used in OOPs?***"
   ]
  },
  {
   "cell_type": "markdown",
   "id": "9ad8e878-2e1c-4556-a4b1-0271ac4a841e",
   "metadata": {},
   "source": [
    "In Object-Oriented Programming (OOP), self is a special parameter that is used to refer to the instance of a class. It is a convention in Python to use the name self for this parameter, although you can use any other valid variable name as well.\n",
    "\n",
    "When a method is called on an instance of a class, the instance itself is passed as the first parameter to the method. By convention, this parameter is named self. This allows the method to access and modify the attributes of the instance."
   ]
  },
  {
   "cell_type": "markdown",
   "id": "94774894-7650-432e-a223-8c083bea1697",
   "metadata": {},
   "source": [
    "- ***Q5. What is inheritance? Give an example for each type of inheritance.***"
   ]
  },
  {
   "cell_type": "markdown",
   "id": "3d2a4b51-1990-4960-b03d-62b5ab93a1e0",
   "metadata": {},
   "source": [
    "Inheritance is one of the fundamental concepts of Object-Oriented Programming (OOP), which allows a class to inherit the properties (methods and attributes) of another class. The class that is being inherited from is called the superclass or parent class, and the class that inherits from it is called the subclass or child class.\n",
    "\n",
    "There are four types of inheritance in Python:\n",
    "\n",
    "1. **Single Inheritance**: In this type of inheritance, a subclass inherits the properties of a single superclass.\n",
    "\n",
    "Example:"
   ]
  },
  {
   "cell_type": "code",
   "execution_count": 14,
   "id": "a9d0d762-6ca2-492c-b94d-ed92f197e5e5",
   "metadata": {},
   "outputs": [
    {
     "name": "stdout",
     "output_type": "stream",
     "text": [
      "BMW\n",
      "Red\n",
      "4\n"
     ]
    }
   ],
   "source": [
    "class Vehicle:\n",
    "    def __init__(self, name, color):\n",
    "        self.name = name\n",
    "        self.color = color\n",
    "\n",
    "class Car(Vehicle):\n",
    "    def __init__(self, name, color, num_wheels):\n",
    "        super().__init__(name, color)\n",
    "        self.num_wheels = num_wheels\n",
    "\n",
    "car = Car(\"BMW\", \"Red\", 4)\n",
    "print(car.name)        # Output: BMW\n",
    "print(car.color)       # Output: Red\n",
    "print(car.num_wheels)  # Output: 4\n"
   ]
  },
  {
   "cell_type": "markdown",
   "id": "d059d784-d7c5-4b64-898d-b5ffed9602bb",
   "metadata": {},
   "source": [
    "In the above example, the Car class inherits from the Vehicle class, and it can access the name and color attributes of the Vehicle class using the super() function.\n",
    "\n",
    "2. **Multiple Inheritance:** In this type of inheritance, a subclass inherits the properties of multiple superclasses.\n",
    "\n",
    "Example:"
   ]
  },
  {
   "cell_type": "code",
   "execution_count": 15,
   "id": "3b6c70aa-e190-4332-85fc-5592edc4476e",
   "metadata": {},
   "outputs": [
    {
     "name": "stdout",
     "output_type": "stream",
     "text": [
      "BMW\n",
      "Red\n",
      "Petrol\n",
      "4\n"
     ]
    }
   ],
   "source": [
    "class Vehicle:\n",
    "    def __init__(self, name, color):\n",
    "        self.name = name\n",
    "        self.color = color\n",
    "\n",
    "class Engine:\n",
    "    def __init__(self, fuel_type):\n",
    "        self.fuel_type = fuel_type\n",
    "\n",
    "class Car(Vehicle, Engine):\n",
    "    def __init__(self, name, color, fuel_type, num_wheels):\n",
    "        Vehicle.__init__(self, name, color)\n",
    "        Engine.__init__(self, fuel_type)\n",
    "        self.num_wheels = num_wheels\n",
    "\n",
    "car = Car(\"BMW\", \"Red\", \"Petrol\", 4)\n",
    "print(car.name)        # Output: BMW\n",
    "print(car.color)       # Output: Red\n",
    "print(car.fuel_type)   # Output: Petrol\n",
    "print(car.num_wheels)  # Output: 4\n"
   ]
  },
  {
   "cell_type": "markdown",
   "id": "319680b3-093c-4d7a-9523-4640ab7cfd95",
   "metadata": {},
   "source": [
    "In the above example, the Car class inherits from both the Vehicle and Engine classes, and it can access the attributes of both classes using their respective constructor functions.\n",
    "\n",
    "3. ***Multi-Level Inheritance:*** In this type of inheritance, a subclass inherits properties from a parent class, which in turn, inherits properties from another parent class.\n",
    " \n",
    " Example:"
   ]
  },
  {
   "cell_type": "code",
   "execution_count": 16,
   "id": "321cc59f-7153-4db9-a469-c4cf10b0bc5d",
   "metadata": {},
   "outputs": [
    {
     "name": "stdout",
     "output_type": "stream",
     "text": [
      "Canis lupus familiaris\n",
      "True\n",
      "Labrador Retriever\n"
     ]
    }
   ],
   "source": [
    "class Animal:\n",
    "    def __init__(self, species):\n",
    "        self.species = species\n",
    "\n",
    "class Mammal(Animal):\n",
    "    def __init__(self, species, can_swim):\n",
    "        super().__init__(species)\n",
    "        self.can_swim = can_swim\n",
    "\n",
    "class Dog(Mammal):\n",
    "    def __init__(self, species, can_swim, breed):\n",
    "        super().__init__(species, can_swim)\n",
    "        self.breed = breed\n",
    "\n",
    "dog = Dog(\"Canis lupus familiaris\", True, \"Labrador Retriever\")\n",
    "print(dog.species)    # Output: Canis lupus familiaris\n",
    "print(dog.can_swim)   # Output: True\n",
    "print(dog.breed)      # Output: Labrador Retriever\n"
   ]
  },
  {
   "cell_type": "markdown",
   "id": "9e827847-1a7c-4e01-8582-b98365890956",
   "metadata": {},
   "source": [
    "In the above example, the Dog class inherits from the Mammal class, which in turn, inherits from the Animal class. The Dog class can access the attributes of both the Mammal and Animal classes using the super() function.\n",
    "\n",
    "4. ***Hierarchical Inheritance:*** Hierarchical inheritance is a type of inheritance in which a single base class is inherited by multiple derived classes. In this type of inheritance, each derived class inherits the properties and methods of the same base class, but may also have its own unique properties and methods.\n",
    "\n",
    "For example, consider a base class \"Animal\" which has common properties and methods such as name, age, eat, and sleep. From this base class, we can create two derived classes: \"Cat\" and \"Dog\". Both the derived classes inherit the common properties and methods from the base class, but they may have their own unique properties and methods as well."
   ]
  },
  {
   "cell_type": "code",
   "execution_count": 17,
   "id": "5437c3b1-6592-471f-8459-afd98b7f3802",
   "metadata": {},
   "outputs": [],
   "source": [
    "class Animal:\n",
    "    def __init__(self, name, age):\n",
    "        self.name = name\n",
    "        self.age = age\n",
    "    \n",
    "    def eat(self):\n",
    "        print(f\"{self.name} is eating.\")\n",
    "\n",
    "    def sleep(self):\n",
    "        print(f\"{self.name} is sleeping.\")\n",
    "\n",
    "class Cat(Animal):\n",
    "    def __init__(self, name, age, breed):\n",
    "        super().__init__(name, age)\n",
    "        self.breed = breed\n",
    "    \n",
    "    def meow(self):\n",
    "        print(\"Meow!\")\n",
    "\n",
    "class Dog(Animal):\n",
    "    def __init__(self, name, age, breed):\n",
    "        super().__init__(name, age)\n",
    "        self.breed = breed\n",
    "    \n",
    "    def bark(self):\n",
    "        print(\"Woof!\")\n"
   ]
  },
  {
   "cell_type": "code",
   "execution_count": 26,
   "id": "b44ff1d9-baf3-422a-bd79-07f2dcee6fcf",
   "metadata": {},
   "outputs": [
    {
     "name": "stdout",
     "output_type": "stream",
     "text": [
      "Whiskers is eating.\n",
      "Meow!\n",
      "Siamese \n",
      "\n",
      "\n",
      "Buddy is sleeping.\n",
      "Woof!\n",
      "Labrador\n"
     ]
    }
   ],
   "source": [
    "cat = Cat(\"Whiskers\", 3, \"Siamese\")\n",
    "cat.eat() # Output: Whiskers is eating.\n",
    "cat.meow() # Output: Meow!\n",
    "print(cat.breed,\"\\n\") # Output: Siamese\n",
    "\n",
    "print() #this is also act as break line statement \"\\n\"\n",
    "\n",
    "dog = Dog(\"Buddy\", 5, \"Labrador\")\n",
    "dog.sleep() # Output: Buddy is sleeping.\n",
    "dog.bark() # Output: Woof!\n",
    "print(dog.breed) # Output: Labrador\n"
   ]
  },
  {
   "cell_type": "markdown",
   "id": "76e7b4c2-0562-4f2d-a23a-a2d113837ee2",
   "metadata": {},
   "source": [
    "#     <<<<<<<<<<<<<<  COMPLETED   >>>>>>>>>>>>>>"
   ]
  },
  {
   "cell_type": "code",
   "execution_count": null,
   "id": "882499bd-36ee-4a79-a8f9-48704f62b1fc",
   "metadata": {},
   "outputs": [],
   "source": []
  }
 ],
 "metadata": {
  "kernelspec": {
   "display_name": "Python 3 (ipykernel)",
   "language": "python",
   "name": "python3"
  },
  "language_info": {
   "codemirror_mode": {
    "name": "ipython",
    "version": 3
   },
   "file_extension": ".py",
   "mimetype": "text/x-python",
   "name": "python",
   "nbconvert_exporter": "python",
   "pygments_lexer": "ipython3",
   "version": "3.10.6"
  }
 },
 "nbformat": 4,
 "nbformat_minor": 5
}
