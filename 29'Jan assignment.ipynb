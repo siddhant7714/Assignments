{
 "cells": [
  {
   "cell_type": "code",
   "execution_count": null,
   "id": "eb381afc-7b69-4107-a16c-2cd29bfa4df5",
   "metadata": {},
   "outputs": [],
   "source": [
    "- # Assignment (Date :- 29 "
   ]
  },
  {
   "cell_type": "markdown",
   "id": "8607b4ca-ca14-4e69-a292-009b0a44b631",
   "metadata": {},
   "source": [
    "***1.Who developed python programming language ?***"
   ]
  },
  {
   "cell_type": "raw",
   "id": "a435d4d4-6ca1-4161-81c5-c8f7e30c7e12",
   "metadata": {},
   "source": [
    "Python programming language was developed by Guido van Rossum in the late 1980s and was first released in 1991.Guido van Rossum started working on Python in the late 1980s, while he was working at the National Research Institute for Mathematics and Computer Science (CWI) in the Netherlands. He was motivated to create a new programming language that was easy to learn and use, while still being powerful enough for advanced programming tasks.\n",
    "\n",
    "The first version of Python, version 0.9.0, was released in 1991. The language quickly gained popularity among developers for its simplicity and ease of use. Guido continued to work on the language, releasing new versions and adding new features.\n",
    "\n",
    "In 2000, Python 2.0 was released, which introduced many new features, including list comprehensions, garbage collection, and support for Unicode. Python 2.0 also included a number of improvements to the language's syntax and semantics.\n",
    "\n",
    "In 2008, Python 3.0 was released, which was a major revision of the language that introduced many new features and changes. However, it was not fully backward-compatible with previous versions of Python, which led to some resistance from the community.\n",
    "\n",
    "Guido van Rossum continued to lead the development of Python for many years, but in 2018 he announced that he would be stepping down as the project's \"Benevolent Dictator for Life\" (BDL). He remains involved in the Python community, but has handed over day-to-day management of the project to a steering council.\n",
    "\n",
    "Today, Python is one of the most widely used programming languages in the world, with a large and active community of developers and users. Its popularity is due in part to its simplicity and ease of use, as well as its versatility and power."
   ]
  },
  {
   "cell_type": "markdown",
   "id": "1e193cd6-26f9-4974-bdce-5fe72c1a6b73",
   "metadata": {},
   "source": [
    "***2.Which type of programming does python support ?***"
   ]
  },
  {
   "cell_type": "raw",
   "id": "9d1fc6b2-33b2-4632-b1ea-29c00e37f738",
   "metadata": {},
   "source": [
    "Python supports several types of programming, including:\n",
    "\n",
    "1.Procedural programming: Procedural programming is a programming paradigm that involves writing procedures or     functions that perform specific tasks. In procedural programming, the focus is on defining the steps or procedures that need to be performed to accomplish a task, rather than on the objects or data being manipulated. Python supports procedural programming through its support for functions and procedures, which can be called from other parts of the program.\n",
    "\n",
    "2.Object-oriented programming: Object-oriented programming (OOP) is a programming paradigm that involves creating classes that encapsulate data and functionality, and creating objects that are instances of those classes. OOP is based on the concept of objects, which are entities that have properties (data) and methods (functions). Python supports OOP through its support for classes and objects, as well as features like inheritance, polymorphism, and encapsulation.\n",
    "\n",
    "3.Functional programming: Functional programming is a programming paradigm that involves writing functions that take input and produce output without modifying state or variables outside of the function. In functional programming, functions are treated as first-class objects that can be passed as arguments to other functions or returned as values from functions. Python supports functional programming through its support for functions, lambda expressions, and list comprehensions.\n",
    "\n",
    "4.Imperative programming: Imperative programming is a programming paradigm that involves writing code that specifies a sequence of steps that should be executed to accomplish a task. Imperative programming is based on the idea of changing the state of the program by executing statements that modify variables or data structures. Python supports imperative programming through its support for statements like if/else, for/while loops, and assignments.\n",
    "\n",
    "5.Event-driven programming: Event-driven programming is a programming paradigm that involves responding to events or signals from the operating system or other parts of the program. In event-driven programming, the focus is on reacting to events as they occur, rather than executing a predefined sequence of steps. Python supports event-driven programming through its support for libraries like asyncio, which allow programs to handle multiple events simultaneously.\n",
    "\n",
    "6.Concurrent programming: Concurrent programming is a programming paradigm that involves executing multiple tasks or processes simultaneously. Concurrent programming is useful for applications that need to handle multiple requests or perform multiple tasks at the same time. Python supports concurrent programming through its support for features like threads, multiprocessing, and asyncio.\n",
    "\n",
    "Overall, Python's support for multiple programming paradigms makes it a versatile language that can be used for a wide range of applications. By choosing the right programming paradigm for a particular task, Python developers can write code that is efficient, easy to maintain, and easy to understand."
   ]
  },
  {
   "cell_type": "markdown",
   "id": "3b94a1d7-4f74-414b-b8cc-5264eecb751e",
   "metadata": {},
   "source": [
    "***3.Is python case sensitive when dealing with identifiers ?***"
   ]
  },
  {
   "cell_type": "raw",
   "id": "b83a7c1b-99de-4256-a7b1-0705c0878d7d",
   "metadata": {},
   "source": [
    "Yes, Python is case sensitive when dealing with identifiers. This means that Python distinguishes between identifiers with different capitalization, and treats them as separate and distinct names.\n",
    "\n",
    "For example, the following identifiers are all distinct in Python:\n",
    "\n",
    "example:- spam\n",
    "          SPAM\n",
    "          Spam\n",
    "               \n",
    "               \n",
    "\n",
    "If you define a variable or function with one of these names, you cannot refer to it with a different capitalization. For example, if you define a variable called spam, you cannot refer to it as Spam or SPAM.\n",
    "\n",
    "It's worth noting that Python's case sensitivity applies only to identifiers like variable names, function names, and class names. Python keywords like if, while, and for are not case sensitive and can be written in either lowercase or uppercase."
   ]
  },
  {
   "cell_type": "markdown",
   "id": "c7fa93e3-5139-434c-913c-86b1b56dcf46",
   "metadata": {},
   "source": [
    "\n",
    "\n",
    "***4.What is correct extension of the python file?***"
   ]
  },
  {
   "cell_type": "raw",
   "id": "8d040c80-19e2-496e-8c53-e8bfe06311ab",
   "metadata": {},
   "source": [
    "In Python, the correct extension for a Python source code file is .py.\n",
    "\n",
    "This convention is widely used in the Python community and helps to identify Python code files and distinguish them from other types of files. For example, if you save a Python program in a file called my_program.py, you can run it by executing the command python my_program.py in your terminal or command prompt.\n",
    "\n",
    "It's worth noting that Python can also run code from files with other extensions, such as .pyc (compiled Python files) or .pyo (optimized Python files). However, these files are generated by the Python interpreter and are not intended to be edited by developers.\n",
    "\n",
    "In general, it's recommended to use the .py extension for your Python code files to ensure compatibility with other tools and developers."
   ]
  },
  {
   "cell_type": "markdown",
   "id": "a1689b88-72be-478f-82c1-03a278657f42",
   "metadata": {},
   "source": [
    "***5. Is python code compiled or interpreted ?***"
   ]
  },
  {
   "cell_type": "raw",
   "id": "007d58ef-e7da-4528-ac95-e96d073a65a4",
   "metadata": {},
   "source": [
    "Python is an interpreted language, which means that Python code is executed directly by the Python interpreter without the need for a separate compilation step. When you run a Python program, the interpreter reads the source code line by line and executes each statement as it encounters it.\n",
    "\n",
    "However, Python also includes a bytecode compilation step, which can improve the performance of your code. When you run a Python program for the first time, the interpreter compiles the code into bytecode, which is a lower-level representation of the Python code that can be executed more quickly than the original source code. The compiled bytecode is then saved to disk in .pyc files, which can be reused in subsequent runs of the program if the source code has not changed.\n",
    "\n",
    "It's worth noting that Python's bytecode compilation is automatic and transparent to the developer, and you don't need to explicitly compile your code before running it. Additionally, Python's dynamic typing and interpreted nature make it well suited for rapid development and prototyping, as you can quickly test and modify code without the overhead of compilation.\n",
    "\n",
    "In summary, Python is an interpreted language with automatic bytecode compilation, which can improve the performance of your code but is not required for the language to function."
   ]
  },
  {
   "cell_type": "markdown",
   "id": "6de91db2-a006-4c9a-9250-135641c5bb3c",
   "metadata": {},
   "source": [
    "***6.Name few blocks of code used to define in python programming language.***"
   ]
  },
  {
   "cell_type": "raw",
   "id": "2e12eaaf-3b24-40b5-b7f9-7c09406eea65",
   "metadata": {},
   "source": [
    "In Python, there are several blocks of code that are used to define different types of code structures. Here are a few examples:\n",
    "\n",
    "1.Function blocks: A function block is a section of code that performs a specific task. It is defined using the def keyword, followed by the function name and a set of parentheses that contain any arguments the function takes. The code block is then indented below the function definition. Here's an example:"
   ]
  },
  {
   "cell_type": "code",
   "execution_count": 6,
   "id": "f2cb7903-d654-47f2-8b57-262410b0b705",
   "metadata": {},
   "outputs": [
    {
     "name": "stdout",
     "output_type": "stream",
     "text": [
      "Hello, siddhant!\n"
     ]
    }
   ],
   "source": [
    "#function code block:\n",
    "\n",
    "def greet(name):   #input statement\n",
    "    print(\"Hello, \" + name + \"!\") \n",
    "    \n",
    "greet(\"siddhant\")  #output statement  \n"
   ]
  },
  {
   "cell_type": "raw",
   "id": "0a1f64b9-5e74-4e0b-85ca-f5c8112ebe8c",
   "metadata": {},
   "source": [
    "2.Conditional blocks: A conditional block is a section of code that is executed only if a certain condition is    true. It is defined using the if keyword, followed by the condition to be evaluated, and a colon. The code block to be executed if the condition is true is then indented below the if statement. Here's an example:"
   ]
  },
  {
   "cell_type": "code",
   "execution_count": 12,
   "id": "48f96e19-2bb4-4bf8-acd7-71ee7b8c7db8",
   "metadata": {},
   "outputs": [
    {
     "name": "stdin",
     "output_type": "stream",
     "text": [
      "enter the number:  16\n"
     ]
    },
    {
     "name": "stdout",
     "output_type": "stream",
     "text": [
      "16 is positive\n",
      "16 is positive\n",
      "16 is positive\n",
      "16 is positive\n"
     ]
    }
   ],
   "source": [
    "x = int(input(\"enter the number: \"))\n",
    "\n",
    "if x > 0:\n",
    "    print(\"{} is positive\".format(x))  #we can write any of the below statment under prin in term to get my output\n",
    "    print(f\"{x} is positive\" )        #we got same output thats why they don't give any error.16\n",
    "    print(str(x) + \" is positive\")\n",
    "    print(f'{x} is positive')\n"
   ]
  },
  {
   "cell_type": "markdown",
   "id": "38dcff65-1858-41fe-b2c6-97c7450faa97",
   "metadata": {},
   "source": [
    " ***7.state the character to give single line comment in python.***"
   ]
  },
  {
   "cell_type": "raw",
   "id": "da04e875-35ab-4e8a-8b9b-e4474654449d",
   "metadata": {},
   "source": [
    "In Python, the character used to give a single-line comment is the hash symbol #. Any text that follows the hash symbol on the same line is treated as a comment and is ignored by the Python interpreter. Here's an example:"
   ]
  },
  {
   "cell_type": "code",
   "execution_count": 15,
   "id": "c53e632e",
   "metadata": {},
   "outputs": [
    {
     "name": "stdout",
     "output_type": "stream",
     "text": [
      "Hello, world!\n"
     ]
    }
   ],
   "source": [
    "***8.Mention the functions which can help us  to find the version of python that we are currently working on***\n"
   ]
  },
  {
   "cell_type": "markdown",
   "id": "f66d9781-fa7c-4043-b54b-4f61a4be7c1e",
   "metadata": {},
   "source": [
    "***8.Mention the functions which can help us  to find the version of python that we are currently working on***\n"
   ]
  },
  {
   "cell_type": "code",
   "execution_count": 18,
   "id": "8bc011da-ea02-466a-b53d-cc4933cdb3e1",
   "metadata": {},
   "outputs": [
    {
     "name": "stdout",
     "output_type": "stream",
     "text": [
      "3.10.6 | packaged by conda-forge | (main, Aug 22 2022, 20:35:26) [GCC 10.4.0] \n",
      "\n",
      "3.10.6 \n",
      "\n",
      "sys.version_info(major=3, minor=10, micro=6, releaselevel='final', serial=0) \n",
      "\n"
     ]
    }
   ],
   "source": [
    "\n",
    "''' 1:- **sys.version**: This function returns a string that contains the version number and \n",
    "        some additional information about the Python interpreter. Here's an example:'''\n",
    "import sys\n",
    "print(sys.version,\"\\n\")\n",
    "\n",
    "\n",
    "\n",
    "'''2:- **platform.python_version()**: This function returns a string that contains the version number \n",
    "       of the Python interpreter. Here's an example:'''\n",
    "import platform\n",
    "print(platform.python_version(),\"\\n\")\n",
    "\n",
    "\n",
    "\n",
    "'''3:-**sys.version_info**: This function returns a tuple that contains the version number of the \n",
    "      Python interpreter as integers.Here's an example: '''\n",
    "import sys\n",
    "print(sys.version_info,\"\\n\")\n"
   ]
  },
  {
   "cell_type": "markdown",
   "id": "7096a82f-fba1-49b3-a9f4-0d750f2baa39",
   "metadata": {},
   "source": [
    "***9.Python supports the creation of anonynmous function at runtime, using a construct called ...............***"
   ]
  },
  {
   "cell_type": "raw",
   "id": "6cb14977-58ad-4be8-bb74-5e087853ebcc",
   "metadata": {},
   "source": [
    "Python supports the creation of anonymous functions at runtime using a construct called \"lambda\" function. The lambda function is a small, anonymous function that can take any number of arguments, but can only have one expression. It is defined using the keyword \"lambda\" followed by the arguments and the expression separated by a colon. Here's the syntax:\n",
    "\n",
    "code :-lambda arguments: expression\n",
    "\n",
    "For example, you can define a lambda function that takes two arguments and returns their sum like this:"
   ]
  },
  {
   "cell_type": "code",
   "execution_count": 24,
   "id": "58a005bf-a4a7-4a1c-9d62-1f8f3c39efb1",
   "metadata": {},
   "outputs": [
    {
     "name": "stdin",
     "output_type": "stream",
     "text": [
      "enter the number:  4\n",
      "enter the number:  5\n"
     ]
    },
    {
     "name": "stdout",
     "output_type": "stream",
     "text": [
      "9\n"
     ]
    }
   ],
   "source": [
    "x = int(input(\"enter the number: \"))\n",
    "y = int(input(\"enter the number: \"))\n",
    "\n",
    "\n",
    "add = lambda x, y: x + y  #this is anonymous function\n",
    "\n",
    "result = add(x, y)\n",
    "print(result)\n",
    "\n"
   ]
  },
  {
   "cell_type": "markdown",
   "id": "60f4a8f1-cba7-43dc-9f57-f0797991ae4b",
   "metadata": {},
   "source": [
    "***10.What does pip stand for python ?***"
   ]
  },
  {
   "cell_type": "raw",
   "id": "1cab034a-2b3e-4df3-b689-ad1a57f2419a",
   "metadata": {},
   "source": [
    "In Python, \"pip\" stands for \"Pip Installs Packages\". It is a package manager for Python that allows you to easily install and manage third-party Python modules and libraries. It is a command-line tool that comes bundled with Python versions 2.7.9 and later, and Python versions 3.4 and later.\n",
    "\n",
    "With pip, you can search for available packages on the Python Package Index (PyPI), download and install packages, uninstall packages, upgrade packages, and much more. Pip makes it easy to work with Python packages and dependencies, and is an essential tool for any Python developer."
   ]
  },
  {
   "cell_type": "markdown",
   "id": "49d6e372-9b48-422a-81b5-f75d9748bdb2",
   "metadata": {},
   "source": [
    "***11.Mention a few built-in funcions in python***"
   ]
  },
  {
   "cell_type": "raw",
   "id": "e87b28fe-a832-46b5-aa47-7ddce5762977",
   "metadata": {},
   "source": [
    "Python comes with a wide range of built-in functions that are available for use in any Python program. Here are some commonly used built-in functions in Python:\n",
    "\n",
    "print() - used to print output to the console.\n",
    "input() - used to get input from the user.\n",
    "len() - used to get the length of a string, list, tuple, dictionary, or set.\n",
    "type() - used to get the data type of a variable.\n",
    "range() - used to generate a sequence of numbers.\n",
    "min() and max() - used to get the minimum and maximum values in a list or tuple.\n",
    "sum() - used to get the sum of all values in a list or tuple.\n",
    "abs() - used to get the absolute value of a number.\n",
    "round() - used to round a number to a specified number of decimal places.\n",
    "str() - used to convert a value to a string.\n",
    "int(), float(), and bool() - used to convert a value to an integer, float, or boolean.\n",
    "These are just a few examples of the many built-in functions available in Python. You can find a complete list of built-in functions in the Python documentation."
   ]
  },
  {
   "cell_type": "markdown",
   "id": "d5524ac3-2d85-4de0-887b-4005518a9694",
   "metadata": {},
   "source": [
    "***12.What is maximum possible length of an identifiers in Python ?***"
   ]
  },
  {
   "cell_type": "raw",
   "id": "986913d9-488b-457d-a07c-561d475996ad",
   "metadata": {},
   "source": [
    "In Python, the maximum possible length of an identifier is not explicitly defined. However, there are some practical limitations to consider. According to the Python documentation, identifiers can be of any length, but it is recommended to keep them reasonably short (less than 79 characters) for readability purposes.\n",
    "\n",
    "In addition to the length limitation, Python has some rules regarding the characters that can be used in an identifier. Identifiers must start with a letter or an underscore character, and can be followed by any combination of letters, digits, and underscore characters. Identifiers are case-sensitive, which means that myVariable and myvariable are two different identifiers in Python.\n",
    "\n",
    "It's worth noting that even though identifiers can be of any length, it's generally a good practice to use descriptive names that are easy to read and understand."
   ]
  },
  {
   "cell_type": "markdown",
   "id": "976ddfaa-998c-48e9-a830-5657a356a416",
   "metadata": {},
   "source": [
    "****13.What are the benefits of using Python ?***"
   ]
  },
  {
   "cell_type": "raw",
   "id": "447f67cb-8e0e-497a-9a6c-81dd01511f07",
   "metadata": {},
   "source": [
    "There are several benefits of using Python, some of them are:\n",
    "\n",
    "Easy to learn: Python has a simple syntax and is easy to read and write. Its code is also highly readable, which makes it easier to maintain and collaborate with others.\n",
    "\n",
    "Wide range of libraries: Python has a large and comprehensive standard library that provides support for many common programming tasks, such as working with files, data manipulation, and networking.\n",
    "\n",
    "Versatile: Python can be used for a wide range of applications, from web development to scientific computing, data analysis, artificial intelligence, and more.\n",
    "\n",
    "Cross-platform: Python code can run on different platforms like Windows, Linux, and macOS, which makes it highly portable.\n",
    "\n",
    "Interpreted language: Python code can be executed directly without the need for a compiler. This makes the development process faster and more efficient.\n",
    "\n",
    "Open-source: Python is an open-source language, which means that it is free to use, distribute, and modify.\n",
    "\n",
    "Large community: Python has a large and active community of developers, which provides support, resources, and third-party packages and libraries.\n",
    "\n",
    "Overall, Python is a versatile, powerful, and easy-to-learn language that can be used for a wide range of applications. Its popularity has been growing rapidly in recent years due to its simplicity and versatility.\n",
    "\n",
    "\n",
    "\n"
   ]
  },
  {
   "cell_type": "markdown",
   "id": "40b553f6-ba37-4470-9929-0c43b3f9f19c",
   "metadata": {},
   "source": [
    "***14.How is the memory manangment in python ?***"
   ]
  },
  {
   "cell_type": "raw",
   "id": "26e7d2c6-c083-47da-aa89-1f02d73ef138",
   "metadata": {},
   "source": [
    "Python has a built-in garbage collector that tracks objects that are no longer being used by the program and frees up their memory automatically. The garbage collector runs periodically and checks which objects are still in use by the program. Objects that are no longer being used are removed from memory.\n",
    "\n",
    "Python also provides a mechanism called \"reference counting\" to track the usage of objects. When an object is created, Python assigns a reference count to it. This count is increased every time the object is referenced by another part of the program. When the reference count reaches zero, the object is no longer being used and is deleted from memory.\n",
    "\n",
    "Python's memory management system is designed to be efficient and easy to use, without requiring manual memory management from the programmer. This makes it easier to write programs without worrying about memory allocation and deallocation, which can be a complex and error-prone process in other languages."
   ]
  },
  {
   "cell_type": "code",
   "execution_count": 25,
   "id": "e0a097ba-6d23-49da-8d90-cb4b2d299a64",
   "metadata": {},
   "outputs": [],
   "source": [
    "x = [1, 2, 3]  # create a list object and assign it to the variable x\n",
    "y = x  # create a new reference to the same list object\n",
    "\n",
    "# now x and y both refer to the same list object in memory\n",
    "# the reference count for the list object is 2\n",
    "\n",
    "del x  # delete the reference to the list object from the variable x\n",
    "\n",
    "# now only y refers to the list object in memory\n",
    "# the reference count for the list object is 1\n",
    "\n",
    "# when the program terminates, the garbage collector will automatically reclaim the memor\n",
    "# used by the list object since it is no longer being referenced by the program\n"
   ]
  },
  {
   "cell_type": "code",
   "execution_count": 1,
   "id": "06078842-a4cc-4141-8d2e-c98211183794",
   "metadata": {},
   "outputs": [],
   "source": [
    " # here as we can see x is deleted from above thats why it gives name error but when we call y here is output"
   ]
  },
  {
   "cell_type": "code",
   "execution_count": 34,
   "id": "803ca823-2ce9-4ad8-85cd-997db4e0435a",
   "metadata": {},
   "outputs": [
    {
     "data": {
      "text/plain": [
       "[1, 2, 3]"
      ]
     },
     "execution_count": 34,
     "metadata": {},
     "output_type": "execute_result"
    }
   ],
   "source": [
    " #this is example of memory managment"
   ]
  },
  {
   "cell_type": "markdown",
   "id": "00e08eaf-48f1-4da3-a33a-c33ae74ac8c1",
   "metadata": {},
   "source": [
    "***15.How to install python in windows and set path variables***"
   ]
  },
  {
   "cell_type": "raw",
   "id": "0711910f-0d06-49ce-9013-e0fdd4745316",
   "metadata": {},
   "source": [
    "Here are the steps to install Python on Windows and set the PATH variable:\n",
    "\n",
    "Download the latest version of Python for Windows from the official website (https://www.python.org/downloads/windows/).\n",
    "\n",
    "Double-click on the downloaded file and follow the installation wizard. Make sure to select the option to add Python to the PATH environment variable during installation.\n",
    "\n",
    "Once the installation is complete, open the Start menu and search for \"Environment Variables\". Click on \"Edit the system environment variables\".\n",
    "\n",
    "In the System Properties window, click on the \"Environment Variables\" button.\n",
    "\n",
    "Under the \"System Variables\" section, scroll down and locate the \"Path\" variable. Click on \"Edit\".\n",
    "\n",
    "Click on \"New\" and enter the path to the Python installation directory. The path is usually \"C:\\Python39\" or similar, depending on the version of Python you installed.\n",
    "\n",
    "Click on \"OK\" to close all the windows and save the changes.\n",
    "\n",
    "Open the Command Prompt and type \"python\". If Python is installed correctly, you should see the Python version information displayed.\n",
    "\n",
    "That's it! You have successfully installed Python on Windows and set the PATH variable."
   ]
  },
  {
   "cell_type": "markdown",
   "id": "d3bab54d-7403-4cef-a3a8-6d94ac5571ad",
   "metadata": {},
   "source": [
    "***16.Is indentation required in python***"
   ]
  },
  {
   "cell_type": "markdown",
   "id": "1eee76dd-6943-4b1b-86a3-1ea0d63870f7",
   "metadata": {},
   "source": [
    "Yes, indentation is required in Python as it is used to define the block of code. Python uses whitespace indentation to indicate the grouping of statements in a block. Blocks of code are defined by their indentation level, which must be consistent throughout the block.\n",
    "\n",
    "For example, consider the following code snippet:"
   ]
  },
  {
   "cell_type": "code",
   "execution_count": 42,
   "id": "2f47e4b5-c580-442c-8bfd-bafcea8312c0",
   "metadata": {},
   "outputs": [
    {
     "name": "stdin",
     "output_type": "stream",
     "text": [
      "enter the number:  7\n"
     ]
    },
    {
     "name": "stdout",
     "output_type": "stream",
     "text": [
      "7 is positive\n"
     ]
    }
   ],
   "source": [
    "x = int(input(\"enter the number: \"))\n",
    "\n",
    "if x > 0:\n",
    "    print(f\"{x} is positive\")\n",
    "else:\n",
    "    print(f\"{x} is zero or negative\")\n"
   ]
  },
  {
   "cell_type": "markdown",
   "id": "bacc941f-2d5b-4e41-9cd4-3879a55333f8",
   "metadata": {},
   "source": [
    "In this code, the block of code under the if statement is indented with four spaces, and the block of code under the else statement is also indented with four spaces. This indentation is required to ensure that the code is executed correctly.\n",
    "\n",
    "If the indentation is incorrect, Python will raise an IndentationError and the code will not run."
   ]
  },
  {
   "cell_type": "markdown",
   "id": "53145693-bfb3-490b-800c-2556f00c6fbc",
   "metadata": {},
   "source": [
    "#     <<<<<<<<<<<<<<  COMPLETED   >>>>>>>>>>>>>>"
   ]
  },
  {
   "cell_type": "code",
   "execution_count": null,
   "id": "72783282-7d58-47dd-8b19-1d735bff8bb9",
   "metadata": {},
   "outputs": [],
   "source": []
  }
 ],
 "metadata": {
  "kernelspec": {
   "display_name": "Python 3 (ipykernel)",
   "language": "python",
   "name": "python3"
  },
  "language_info": {
   "codemirror_mode": {
    "name": "ipython",
    "version": 3
   },
   "file_extension": ".py",
   "mimetype": "text/x-python",
   "name": "python",
   "nbconvert_exporter": "python",
   "pygments_lexer": "ipython3",
   "version": "3.10.6"
  }
 },
 "nbformat": 4,
 "nbformat_minor": 5
}
