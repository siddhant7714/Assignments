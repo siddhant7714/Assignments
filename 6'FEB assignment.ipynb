{
 "cells": [
  {
   "cell_type": "markdown",
   "id": "2e7eb4da-e341-4596-886b-2ff25aa915a2",
   "metadata": {},
   "source": [
    "- # Assignment :- 6'feb"
   ]
  },
  {
   "cell_type": "markdown",
   "id": "279daeaa-517b-40df-91b0-3cecd8f388b2",
   "metadata": {},
   "source": [
    "- ***Q1. Create a function which will take a list as an argument and return the product of all the numbers after creating a flat list.***\n",
    "\n",
    "- ***list1 = [1,2,3,4, [44,55,66, True], False, (34,56,78,89,34), {1,2,3,3,2,1}, {1:34, \"key2\": [55, 67, 78, 89],4: (45,22, 61, 34)}, [56, 'data science'], 'Machine Learning']***\n",
    "\n",
    "***Note: you must extract numeric keys and values of the dictionary also.***"
   ]
  },
  {
   "cell_type": "code",
   "execution_count": 16,
   "id": "2f929942-058a-434b-9aa8-8d5a8fab3482",
   "metadata": {},
   "outputs": [
    {
     "name": "stdout",
     "output_type": "stream",
     "text": [
      "Flattened list: [1, 2, 3, 4, 44, 55, 66, True, False, 34, 56, 78, 89, 34, 1, 2, 3, 1, 34, 55, 67, 78, 89, 4, 45, 22, 61, 34, 56] \n",
      "\n",
      "Product of all numbers in the flattened list: 0\n"
     ]
    }
   ],
   "source": [
    "def flatten_and_multiply(lst):\n",
    "    def flatten(lst):\n",
    "        flattened_list = []\n",
    "        for item in lst:\n",
    "            if isinstance(item, (list, tuple, set)):\n",
    "                flattened_list.extend(flatten(item))\n",
    "            elif isinstance(item, dict):\n",
    "                for key, value in item.items():\n",
    "                    flattened_list.extend(flatten([key, value]))\n",
    "            elif isinstance(item, (int, float)):\n",
    "                flattened_list.append(item)\n",
    "        return flattened_list\n",
    "\n",
    "    flattened = flatten(lst)\n",
    "    \n",
    "    # Calculate the product of all numbers in the flattened list\n",
    "    product = 1\n",
    "    for num in flattened:\n",
    "        product *= num\n",
    "    \n",
    "    return product\n",
    "\n",
    "# Test the function with the given list\n",
    "list1 = [1,2,3,4, [44,55,66, True], False, (34,56,78,89,34), {1,2,3,3,2,1}, {1:34, \"key2\": [55, 67, 78, 89], 4: (45, 22, 61, 34)}, [56, 'data science'], 'Machine Learning']\n",
    "flattened_list = flatten(list1)\n",
    "print(\"Flattened list:\", flattened_list,\"\\n\")\n",
    "\n",
    "result = flatten_and_multiply(list1)\n",
    "print(\"Product of all numbers in the flattened list:\", result)\n"
   ]
  },
  {
   "cell_type": "markdown",
   "id": "31dbce3e-c5df-4794-a6b1-a2363bf9715f",
   "metadata": {},
   "source": [
    "- ***Q2. Write a python program for encrypting a message sent to you by your friend. The logic of encryption should be such that, for a the output should be z. For b, the output should be y. For c, the output should be x respectively. Also, the whitespace should be replaced with a dollar sign. Keep the punctuation marks unchanged.***\n",
    "\n",
    "- ***Input Sentence: I want to become a Data Scientist.***\n",
    "\n",
    "- ***Encrypt the above input sentence using the program you just created.***\n",
    "\n",
    "***Note: Convert the given input sentence into lowercase before encrypting. The final output should be lowercase.***"
   ]
  },
  {
   "cell_type": "code",
   "execution_count": 12,
   "id": "3ea1a467-f948-4a24-af85-17f2debc6419",
   "metadata": {},
   "outputs": [],
   "source": [
    "def encrypt_message(message):\n",
    "    # Convert the message to lowercase\n",
    "    message = message.lower()\n",
    "\n",
    "    # Create a dictionary to store the encryption mapping\n",
    "    mapping = {chr(i): chr(219 - i) for i in range(ord('a'), ord('z')+1)}\n",
    "\n",
    "    # Replace the whitespace with a dollar sign\n",
    "    message = message.replace(' ', '$')\n",
    "\n",
    "    # Encrypt the message using the mapping\n",
    "    encrypted_message = ''\n",
    "    for char in message:\n",
    "        if char in mapping:\n",
    "            encrypted_message += mapping[char]\n",
    "        else:\n",
    "            encrypted_message += char\n",
    "\n",
    "    return encrypted_message\n"
   ]
  },
  {
   "cell_type": "code",
   "execution_count": 13,
   "id": "14902121-97e2-474f-8c4e-e5e7527065cb",
   "metadata": {},
   "outputs": [
    {
     "name": "stdout",
     "output_type": "stream",
     "text": [
      "r$dzmg$gl$yvxlnv$z$wzgz$hxrvmgrhg.\n"
     ]
    }
   ],
   "source": [
    "input_sentence = \"I want to become a Data Scientist.\"\n",
    "encrypted_sentence = encrypt_message(input_sentence)\n",
    "print(encrypted_sentence)  # Output: r dzmhg gl yrnvny z wztv hfgsvmgl.\n"
   ]
  },
  {
   "cell_type": "code",
   "execution_count": 14,
   "id": "8e4c9840-d501-4196-8be1-16a0c6d6d277",
   "metadata": {},
   "outputs": [],
   "source": [
    "def encrypt_message(message):\n",
    "    # Convert the message to lowercase\n",
    "    message = message.lower()\n",
    "\n",
    "    # Create a dictionary to store the encryption mapping\n",
    "    mapping = {chr(i): chr(219 - i) for i in range(ord('a'), ord('z')+1)}\n",
    "\n",
    "    # Replace the whitespace with a dollar sign\n",
    "    message = message.replace('$', ' ')\n",
    "\n",
    "    # Encrypt the message using the mapping\n",
    "    encrypted_message = ''\n",
    "    for char in message:\n",
    "        if char in mapping:\n",
    "            encrypted_message += mapping[char]\n",
    "        else:\n",
    "            encrypted_message += char\n",
    "\n",
    "    return encrypted_message\n"
   ]
  },
  {
   "cell_type": "code",
   "execution_count": 15,
   "id": "9e466a4a-a3ff-4517-aa87-072b8b7bf343",
   "metadata": {},
   "outputs": [
    {
     "name": "stdout",
     "output_type": "stream",
     "text": [
      "i want to become a data scientist.\n"
     ]
    }
   ],
   "source": [
    "input_sentence = \"r$dzmg$gl$yvxlnv$z$wzgz$hxrvmgrhg.\"\n",
    "encrypted_sentence = encrypt_message(input_sentence)\n",
    "print(encrypted_sentence) \n"
   ]
  },
  {
   "cell_type": "code",
   "execution_count": null,
   "id": "d9042232-c869-4495-a503-d64420a10f16",
   "metadata": {},
   "outputs": [],
   "source": []
  }
 ],
 "metadata": {
  "kernelspec": {
   "display_name": "Python 3 (ipykernel)",
   "language": "python",
   "name": "python3"
  },
  "language_info": {
   "codemirror_mode": {
    "name": "ipython",
    "version": 3
   },
   "file_extension": ".py",
   "mimetype": "text/x-python",
   "name": "python",
   "nbconvert_exporter": "python",
   "pygments_lexer": "ipython3",
   "version": "3.10.6"
  }
 },
 "nbformat": 4,
 "nbformat_minor": 5
}
