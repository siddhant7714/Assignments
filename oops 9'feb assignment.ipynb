{
 "cells": [
  {
   "cell_type": "markdown",
   "id": "e6d5ac5d-95e4-42a4-af3f-9d0025c528f4",
   "metadata": {},
   "source": [
    "# OOPS Assignment 9'feb "
   ]
  },
  {
   "cell_type": "markdown",
   "id": "86560dec-41b1-4634-a757-bcc2de62f158",
   "metadata": {},
   "source": [
    "- ***Q1, Create a vehicle class with an init method having instance variables as name_of_vehicle, max_speed\n",
    "and average_of_vehicle.***"
   ]
  },
  {
   "cell_type": "code",
   "execution_count": 1,
   "id": "fe6ac3c8-287c-4c26-8122-a2d0398e7843",
   "metadata": {},
   "outputs": [],
   "source": [
    "class Vehicle:\n",
    "    def __init__(self, name_of_vehicle, max_speed, average_of_vehicle):\n",
    "        self.name_of_vehicle = name_of_vehicle\n",
    "        self.max_speed = max_speed\n",
    "        self.average_of_vehicle = average_of_vehicle\n"
   ]
  },
  {
   "cell_type": "code",
   "execution_count": 2,
   "id": "b43d6633-8d72-4351-b951-13c728a1abf5",
   "metadata": {},
   "outputs": [
    {
     "name": "stdout",
     "output_type": "stream",
     "text": [
      "Name of Vehicle: Toyota Camry\n",
      "Max Speed: 140\n",
      "Average MPG: 30\n"
     ]
    }
   ],
   "source": [
    "# Creating an instance of Vehicle class\n",
    "car = Vehicle(\"Toyota Camry\", 140, 30)\n",
    "\n",
    "# Accessing instance variables\n",
    "print(\"Name of Vehicle:\", car.name_of_vehicle)\n",
    "print(\"Max Speed:\", car.max_speed)\n",
    "print(\"Average MPG:\", car.average_of_vehicle)\n"
   ]
  },
  {
   "cell_type": "markdown",
   "id": "ba81723a-b0df-43b5-8d33-5dee210c2be9",
   "metadata": {},
   "source": [
    "- ***Q2. Create a child class car from the vehicle class created in Que 1, which will inherit the vehicle class. Create a method named seating_capacity which takes capacity as an argument and returns the name of the vehicle and its seating capacity.***"
   ]
  },
  {
   "cell_type": "code",
   "execution_count": 14,
   "id": "86c828d3-b839-4bf0-a59f-abb04dd1c3bb",
   "metadata": {},
   "outputs": [
    {
     "name": "stdin",
     "output_type": "stream",
     "text": [
      "Enter the seating capacity of the vehicle:  2\n"
     ]
    },
    {
     "name": "stdout",
     "output_type": "stream",
     "text": [
      "Toyota Camry has a seating capacity of 2 passengers.\n"
     ]
    }
   ],
   "source": [
    "class Vehicle:\n",
    "    def __init__(self, name_of_vehicle, max_speed, average_of_vehicle):\n",
    "        self.name_of_vehicle = name_of_vehicle\n",
    "        self.max_speed = max_speed\n",
    "        self.average_of_vehicle = average_of_vehicle\n",
    "\n",
    "class Car(Vehicle):\n",
    "    def __init__(self, name_of_vehicle, max_speed, average_of_vehicle):\n",
    "        super().__init__(name_of_vehicle, max_speed, average_of_vehicle)\n",
    "\n",
    "    def seating_capacity(self, capacity):\n",
    "        return f\"{self.name_of_vehicle} has a seating capacity of {capacity} passengers.\"\n",
    "\n",
    "    \n",
    "# Create an instance of the Car class\n",
    "my_car = Car(\"Toyota Camry\", 140, 30)\n",
    "    \n",
    "    \n",
    "# Get the seating capacity from the user\n",
    "capacity = int(input(\"Enter the seating capacity of the vehicle: \"))\n",
    "\n",
    "\n",
    "# Call the seating_capacity method\n",
    "result = my_car.seating_capacity(capacity)\n",
    "\n",
    "# Print the result\n",
    "print(result)\n",
    "\n"
   ]
  },
  {
   "cell_type": "markdown",
   "id": "461b6f82-7ff3-440f-ab7b-720cb49e9017",
   "metadata": {},
   "source": [
    "- ***Q3. What is multiple inheritance? Write a python code to demonstrate multiple inheritance.***"
   ]
  },
  {
   "cell_type": "markdown",
   "id": "bbfc7329-1f65-4004-baf4-432805f726e1",
   "metadata": {},
   "source": [
    "- **Multiple inheritance is a feature in object-oriented programming languages like Python that allows a class to inherit attributes and methods from more than one parent class. This means that a class can have multiple base classes, and it inherits properties and behaviors from all of them. Multiple inheritance can be useful when you want to create a class that combines features from different parent classes.**\n",
    "\n",
    "- ***Here's a Python code example that demonstrates multiple inheritance:***"
   ]
  },
  {
   "cell_type": "code",
   "execution_count": 17,
   "id": "1777ae7e-85b7-4d8d-8b27-854c4a80efe5",
   "metadata": {},
   "outputs": [
    {
     "name": "stdout",
     "output_type": "stream",
     "text": [
      "My name is John and I am 35 years old.\n",
      "Employee ID: M12345, Salary: $75000\n",
      "My name is John and I am 35 years old. I work in the HR department. Employee ID: M12345, Salary: $75000\n"
     ]
    }
   ],
   "source": [
    "# Parent class 1\n",
    "class Person:\n",
    "    def __init__(self, name, age):\n",
    "        self.name = name\n",
    "        self.age = age\n",
    "\n",
    "    def introduce(self):\n",
    "        return f\"My name is {self.name} and I am {self.age} years old.\"\n",
    "\n",
    "# Parent class 2\n",
    "class Employee:\n",
    "    def __init__(self, employee_id, salary):\n",
    "        self.employee_id = employee_id\n",
    "        self.salary = salary\n",
    "\n",
    "    def display_employee_info(self):\n",
    "        return f\"Employee ID: {self.employee_id}, Salary: ${self.salary}\"\n",
    "\n",
    "# Child class inheriting from both Person and Employee\n",
    "class Manager(Person, Employee):\n",
    "    def __init__(self, name, age, employee_id, salary, department):\n",
    "        # Call constructors of both parent classes\n",
    "        Person.__init__(self, name, age)\n",
    "        Employee.__init__(self, employee_id, salary)\n",
    "        self.department = department\n",
    "\n",
    "    def manager_info(self):\n",
    "        return f\"{self.introduce()} I work in the {self.department} department. {self.display_employee_info()}\"\n",
    "\n",
    "# Create an instance of Manager\n",
    "manager = Manager(\"John\", 35, \"M12345\", 75000, \"HR\")\n",
    "\n",
    "# Call methods from both parent classes and the child class\n",
    "print(manager.introduce())           \n",
    "print(manager.display_employee_info())\n",
    "print(manager.manager_info())        "
   ]
  },
  {
   "cell_type": "markdown",
   "id": "9c0da738-6c26-4ad4-8850-208bf3d97142",
   "metadata": {},
   "source": [
    " - We have two parent classes, Person and Employee, each with their own attributes and methods.\n",
    "\n",
    "- The Manager class is a child class that inherits from both Person and Employee. It initializes its attributes and calls the constructors of both parent classes.\n",
    "\n",
    "- The Manager class also has its own method, manager_info(), which combines information from both parent classes to provide a complete profile of the manager.\n",
    "\n",
    "- When we create an instance of the Manager class and call its methods, it demonstrates multiple inheritance by accessing attributes and methods from both parent classes."
   ]
  },
  {
   "cell_type": "markdown",
   "id": "1cdb7bdf-6416-4146-8ae9-9020d3576921",
   "metadata": {},
   "source": [
    "- ***Q4. What are getter and setter in python? Create a class and create a getter and a setter method in this\n",
    "class.***"
   ]
  },
  {
   "cell_type": "markdown",
   "id": "b4c013eb-b0dc-4d83-957d-f654e1105681",
   "metadata": {},
   "source": [
    "Getter and setter methods are a common pattern in object-oriented programming languages like Python. They are used to control access to the attributes (instance variables) of a class, allowing you to get and set their values while providing encapsulation and validation if necessary.\n",
    "\n",
    "Here's a brief explanation of getter and setter methods:\n",
    "\n",
    "- **Getter Method:**\n",
    "A getter method is used to retrieve the value of an attribute (instance variable) from an object.\n",
    "It provides read-only access to the attribute, allowing other parts of the code to view its value.\n",
    "Typically, getter methods have names like get_attribute_name() where attribute_name is the name of the attribute they retrieve.\n",
    "\n",
    "- **Setter Method:**\n",
    "A setter method is used to modify the value of an attribute within an object.\n",
    "It provides controlled write access to the attribute, allowing you to validate and set the new value.\n",
    "Typically, setter methods have names like set_attribute_name(value) where attribute_name is the name of the attribute they set, and value is the new value to be assigned."
   ]
  },
  {
   "cell_type": "code",
   "execution_count": 18,
   "id": "49984f2a-4500-4f0b-a264-6cbb3fd25c33",
   "metadata": {},
   "outputs": [],
   "source": [
    "class BankAccount:\n",
    "    def __init__(self, account_number, balance=0):\n",
    "        # Initialize the BankAccount with an account number and an optional initial balance\n",
    "        self._account_number = account_number\n",
    "        self._balance = balance\n",
    "\n",
    "    def get_account_number(self):\n",
    "        # Getter method for retrieving the account number\n",
    "        return self._account_number\n",
    "\n",
    "    def set_balance(self, balance):\n",
    "        # Setter method for setting the balance with validation\n",
    "        if balance >= 0:\n",
    "            self._balance = balance\n",
    "        else:\n",
    "            print(\"Invalid balance. Balance cannot be negative.\")\n",
    "\n",
    "    def get_balance(self):\n",
    "        # Getter method for retrieving the balance\n",
    "        return self._balance\n",
    "\n",
    "    def deposit(self, amount):\n",
    "        # Method to deposit money into the account with validation\n",
    "        if amount > 0:\n",
    "            self._balance += amount\n",
    "        else:\n",
    "            print(\"Invalid amount. Amount must be greater than zero.\")\n",
    "\n",
    "    def withdraw(self, amount):\n",
    "        # Method to withdraw money from the account with validation\n",
    "        if amount > 0 and amount <= self._balance:\n",
    "            self._balance -= amount\n",
    "        else:\n",
    "            print(\"Invalid amount or insufficient balance.\")\n"
   ]
  },
  {
   "cell_type": "code",
   "execution_count": 19,
   "id": "4a68caae-8240-4c5b-923f-9cb44fe958f0",
   "metadata": {},
   "outputs": [],
   "source": [
    "# Create an instance of BankAccount\n",
    "account = BankAccount(\"12345678\")"
   ]
  },
  {
   "cell_type": "code",
   "execution_count": 20,
   "id": "2fbb7e9d-3f7e-40c1-bde3-72e3e5e33d09",
   "metadata": {},
   "outputs": [
    {
     "data": {
      "text/plain": [
       "'12345678'"
      ]
     },
     "execution_count": 20,
     "metadata": {},
     "output_type": "execute_result"
    }
   ],
   "source": [
    "# Set an initial balance\n",
    "account.set_balance(1000)\n",
    "\n",
    "# Get the account number\n",
    "account.get_account_number()\n"
   ]
  },
  {
   "cell_type": "code",
   "execution_count": 21,
   "id": "709547ec-c025-416e-bb14-086922489a73",
   "metadata": {},
   "outputs": [
    {
     "data": {
      "text/plain": [
       "1000"
      ]
     },
     "execution_count": 21,
     "metadata": {},
     "output_type": "execute_result"
    }
   ],
   "source": [
    "# Get the current balance\n",
    "account.get_balance()\n"
   ]
  },
  {
   "cell_type": "code",
   "execution_count": 22,
   "id": "5a2d4f75-1874-41c4-a609-d67906d9631b",
   "metadata": {},
   "outputs": [
    {
     "data": {
      "text/plain": [
       "1500"
      ]
     },
     "execution_count": 22,
     "metadata": {},
     "output_type": "execute_result"
    }
   ],
   "source": [
    "# Deposit money into the account\n",
    "account.deposit(500)\n",
    "\n",
    "# Get the updated balance after the deposit\n",
    "account.get_balance()\n"
   ]
  },
  {
   "cell_type": "code",
   "execution_count": 23,
   "id": "41cd50ed-e43f-4b4d-8393-df47ddb1d82b",
   "metadata": {},
   "outputs": [
    {
     "data": {
      "text/plain": [
       "1300"
      ]
     },
     "execution_count": 23,
     "metadata": {},
     "output_type": "execute_result"
    }
   ],
   "source": [
    "# Withdraw money from the account\n",
    "account.withdraw(200)\n",
    "\n",
    "# Get the updated balance after the withdrawal\n",
    "account.get_balance()\n"
   ]
  },
  {
   "cell_type": "code",
   "execution_count": 24,
   "id": "68673153-635e-4764-bd35-c1476ec5f8eb",
   "metadata": {},
   "outputs": [
    {
     "name": "stdout",
     "output_type": "stream",
     "text": [
      "Invalid balance. Balance cannot be negative.\n"
     ]
    }
   ],
   "source": [
    "# Try to set a negative balance (validation check)\n",
    "account.set_balance(-100)\n"
   ]
  },
  {
   "cell_type": "code",
   "execution_count": 25,
   "id": "8f213214-c1da-4e63-8f4f-031d1204b26d",
   "metadata": {},
   "outputs": [
    {
     "name": "stdout",
     "output_type": "stream",
     "text": [
      "Invalid amount or insufficient balance.\n"
     ]
    }
   ],
   "source": [
    "\n",
    "# Try to withdraw an amount greater than the balance (validation check)\n",
    "account.withdraw(2000)"
   ]
  },
  {
   "cell_type": "markdown",
   "id": "e1d7ae07-993d-468f-9e93-9d423eaaa537",
   "metadata": {},
   "source": [
    "**In this commented code:**\n",
    "\n",
    "The class BankAccount is defined to represent a bank account with attributes and methods for managing the account.\n",
    "\n",
    "Getter and setter methods are used for accessing and modifying the private attributes _account_number and _balance. These methods provide encapsulation and allow for validation checks to ensure that the data remains consistent and valid.\n",
    "\n",
    "Comments explain the purpose of each method and the expected behavior, including validation checks for invalid inputs."
   ]
  },
  {
   "cell_type": "markdown",
   "id": "69e2a0d3-1e24-472a-a677-a4a3701f855e",
   "metadata": {},
   "source": [
    "- ***Q5.What is method overriding in python? Write a python code to demonstrate method overriding.***"
   ]
  },
  {
   "cell_type": "markdown",
   "id": "07d58138-b5b7-4330-a5a4-aeb50f75e4fb",
   "metadata": {},
   "source": [
    "**Method overriding in Python is a concept in object-oriented programming where a subclass provides a specific implementation for a method that is already defined in its superclass (parent class). The overridden method in the subclass should have the same name, parameters, and return type as the method in the superclass. Method overriding allows a subclass to provide its own behavior for a specific method while inheriting other attributes and methods from the superclass.**\n",
    "\n",
    "- ***Here's a Python code example that demonstrates method overriding:***"
   ]
  },
  {
   "cell_type": "code",
   "execution_count": 28,
   "id": "f1d84035-cff5-45cd-92fc-c1224cb89ab3",
   "metadata": {},
   "outputs": [
    {
     "name": "stdout",
     "output_type": "stream",
     "text": [
      "Circle Area: 78.5\n",
      "Rectangle Area: 24\n"
     ]
    }
   ],
   "source": [
    "class Shape:\n",
    "    def area(self):\n",
    "        return 0  # Default implementation returns 0\n",
    "\n",
    "class Circle(Shape):\n",
    "    def __init__(self, radius):\n",
    "        self.radius = radius\n",
    "\n",
    "    # Overriding the 'area' method to calculate the area of a circle\n",
    "    def area(self):\n",
    "        return 3.14 * self.radius ** 2\n",
    "\n",
    "class Rectangle(Shape):\n",
    "    def __init__(self, length, width):\n",
    "        self.length = length\n",
    "        self.width = width\n",
    "\n",
    "    # Overriding the 'area' method to calculate the area of a rectangle\n",
    "    def area(self):\n",
    "        return self.length * self.width\n",
    "\n",
    "# Create instances of Circle and Rectangle\n",
    "circle = Circle(5)\n",
    "rectangle = Rectangle(4, 6)\n",
    "\n",
    "# Call the 'area' method on instances\n",
    "circle_area = circle.area()\n",
    "rectangle_area = rectangle.area()\n",
    "\n",
    "# Display the calculated areas\n",
    "print(f\"Circle Area: {circle_area}\")\n",
    "print(f\"Rectangle Area: {rectangle_area}\")\n"
   ]
  },
  {
   "cell_type": "markdown",
   "id": "6311ed6d-aee1-4d9c-90bf-e17c845bddbe",
   "metadata": {},
   "source": [
    "In this example:\n",
    "\n",
    "- We have a base class Shape with a method area that returns 0 (a default implementation).\n",
    "\n",
    "- Two subclasses, Circle and Rectangle, inherit from the Shape class.\n",
    "\n",
    "- Both Circle and Rectangle classes override the area method with their own implementations to calculate the area specific to their shapes.\n",
    "\n",
    "- When we create instances of Circle and Rectangle and call the area method on them, the overridden method in each subclass is executed, providing the correct area calculation for that shape.\n",
    "\n",
    "- Method overriding allows you to customize the behavior of inherited methods in a way that is appropriate for each subclass, making your code more flexible and tailored to specific use cases."
   ]
  },
  {
   "cell_type": "code",
   "execution_count": null,
   "id": "1ef0f2dd-8d5d-4ca6-8a96-e1c088cb9f64",
   "metadata": {},
   "outputs": [],
   "source": [
    "<<<<<<<<<<<<<<<<<<<<<<<<< C"
   ]
  }
 ],
 "metadata": {
  "kernelspec": {
   "display_name": "Python 3 (ipykernel)",
   "language": "python",
   "name": "python3"
  },
  "language_info": {
   "codemirror_mode": {
    "name": "ipython",
    "version": 3
   },
   "file_extension": ".py",
   "mimetype": "text/x-python",
   "name": "python",
   "nbconvert_exporter": "python",
   "pygments_lexer": "ipython3",
   "version": "3.10.6"
  }
 },
 "nbformat": 4,
 "nbformat_minor": 5
}
