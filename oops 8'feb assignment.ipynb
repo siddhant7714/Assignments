{
 "cells": [
  {
   "cell_type": "markdown",
   "id": "4fb9e828-cb58-4c3d-b472-ccdd1b8c3f06",
   "metadata": {},
   "source": [
    "# OOPS Assignment 8'feb"
   ]
  },
  {
   "cell_type": "markdown",
   "id": "d6b6e815-7cb9-4838-8b64-d4b86bd0ba0b",
   "metadata": {},
   "source": [
    " - ***Q1. What is Abstraction in OOps? Explain with an example.***"
   ]
  },
  {
   "cell_type": "markdown",
   "id": "1c1c747f-1f4f-4881-bacc-0648ece0ae98",
   "metadata": {},
   "source": [
    "- ***In object-oriented programming (OOP), abstraction is one of the fundamental principles that allows you to simplify complex systems by modeling them at a higher, more conceptual level while hiding the unnecessary implementation details. Abstraction is the process of focusing on the essential characteristics and behavior of an object or concept while ignoring the non-essential details.***\n",
    "\n",
    "- ***Here's an explanation of abstraction with an example:***\n",
    "\n",
    "- ***Example: Abstraction in a Car Class***\n",
    "\n",
    "- ***Let's say you want to create a software representation of a car. In this context, abstraction would involve identifying the essential properties and behaviors of a car without getting into the minute details of how a car engine, transmission, or brakes work. You want to create a high-level representation that captures what's important about a car for your software application.***\n",
    "\n",
    "- ***Abstraction in Action:***\n",
    "\n",
    "- ***Identifying Essential Properties: Abstraction begins by identifying the key properties and behaviors of a car that are relevant to your application. These might include properties like the car's make, model, year, color, and behaviors like starting the engine, accelerating, braking, and turning.***\n",
    "\n",
    "- ***Ignoring Implementation Details: Abstraction means you don't need to understand the intricate details of how an internal combustion engine works or how the transmission shifts gears. You abstract away from these details, focusing on what the car does rather than how it does it.***\n",
    "\n",
    "- ***Creating a Car Class: In OOP, you can create a class called \"Car\" that encapsulates these essential properties and behaviors. For example:***\n",
    "\n",
    "- ***Reusability: Abstraction promotes reusability. Once you've defined a \"Car\" class, you can create multiple car objects, each with its own make, model, and year, and perform actions on them without recreating the entire car concept from scratch.***\n",
    "\n",
    "- ***5. Real-World Example: Think of abstraction as using a TV remote. You know the essential buttons like power, volume, and channel, but you don't need to know the intricate electronics inside the TV. The remote abstracts the TV's functionality, allowing you to control it without understanding its internal details.***\n"
   ]
  },
  {
   "cell_type": "code",
   "execution_count": 1,
   "id": "45d72881-ef98-41e7-97c8-2e0475908876",
   "metadata": {},
   "outputs": [],
   "source": [
    "class Car:\n",
    "    def __init__(self, make, model, year, color):\n",
    "        self.make = make\n",
    "        self.model = model\n",
    "        self.year = year\n",
    "        self.color = color\n",
    "        self.is_running = False\n",
    "    \n",
    "    def start_engine(self):\n",
    "        self.is_running = True\n",
    "        print(f\"The {self.color} {self.make} {self.model}'s engine is running.\")\n",
    "    \n",
    "    def stop_engine(self):\n",
    "        self.is_running = False\n",
    "        print(f\"The {self.color} {self.make} {self.model}'s engine has stopped.\")\n",
    "    \n",
    "    def accelerate(self):\n",
    "        if self.is_running:\n",
    "            print(f\"The {self.color} {self.make} {self.model} is accelerating.\")\n",
    "        else:\n",
    "            print(\"Cannot accelerate, the engine is not running.\")\n"
   ]
  },
  {
   "cell_type": "code",
   "execution_count": 6,
   "id": "a012b61d-feab-47ff-b86b-d452f711939e",
   "metadata": {},
   "outputs": [
    {
     "name": "stdout",
     "output_type": "stream",
     "text": [
      "The Blue Toyota Camry's engine is running.\n",
      "The Red Ford Mustang's engine is running.\n",
      "The Blue Toyota Camry's engine has stopped.\n",
      "\n",
      "\n",
      "The Red Ford Mustang is accelerating.\n",
      "Cannot accelerate, the engine is not running.\n"
     ]
    }
   ],
   "source": [
    "# Creating car objects\n",
    "car1 = Car(\"Toyota\", \"Camry\", 2022, \"Blue\")\n",
    "car2 = Car(\"Ford\", \"Mustang\", 2023, \"Red\")\n",
    "\n",
    "# Starting and stopping car engines\n",
    "car1.start_engine()\n",
    "car2.start_engine()\n",
    "car1.stop_engine()\n",
    "\n",
    "# Adding a line gap for clarity\n",
    "print(\"\\n\")\n",
    "\n",
    "# Accelerating\n",
    "car2.accelerate()\n",
    "car1.accelerate()\n"
   ]
  },
  {
   "cell_type": "markdown",
   "id": "0e3c81de-b47e-45f0-9c9d-3cdd1e8c51fd",
   "metadata": {},
   "source": [
    " ***In this example, the \"Car\" class abstracts the essential characteristics and behaviors of a car, allowing you to work with car objects in your software without needing to understand the intricate details of how a car's engine works. You can create car objects, start and stop their engines, and accelerate without worrying about the internal workings of the engine.***\n",
    "\n",
    "***In summary, abstraction in OOP is about simplifying complex systems by focusing on what's essential and hiding unnecessary implementation details, making it easier to work with objects in your code.***"
   ]
  },
  {
   "cell_type": "markdown",
   "id": "36534487-4149-4d4a-af63-e0f743e6aff4",
   "metadata": {},
   "source": [
    "- ***Q2. Differentiate between Abstraction and Encapsulation. Explain with an example.***"
   ]
  },
  {
   "cell_type": "raw",
   "id": "3d708034-5d3a-48c5-85a8-c20ae536aa28",
   "metadata": {},
   "source": [
    "Abstraction and encapsulation are two fundamental concepts in object-oriented programming (OOP), but they serve distinct purposes and are used to achieve different goals. Let's differentiate between them and provide examples for better understanding:\n",
    "\n",
    "Abstraction:\n",
    "\n",
    "Purpose: Abstraction is a concept that focuses on simplifying complex systems by modeling them at a higher, more conceptual level, while hiding the unnecessary implementation details. It deals with identifying the essential properties and behaviors of an object or concept.\n",
    "\n",
    "Key Points:\n",
    "\n",
    "Abstraction identifies what an object does rather than how it does it.\n",
    "It provides a clear and simplified representation of an object.\n",
    "Abstraction is about creating a high-level view or model of an object or concept.\n",
    "Example of Abstraction:\n",
    "\n",
    "In a car rental system, you may have a \"Car\" class that abstracts the essential characteristics and behaviors of a car, such as make, model, year, color, and actions like starting the engine, stopping the engine, and accelerating. You don't need to know the intricate details of the car's engine or transmission to use this class effectively.\n",
    "\n",
    "Encapsulation:\n",
    "\n",
    "Purpose: Encapsulation is a concept that focuses on bundling the data (attributes) and methods (functions) that operate on that data into a single unit called a class. It restricts direct access to some of an object's components, and it prevents the accidental modification of data.\n",
    "\n",
    "Key Points:\n",
    "\n",
    "Encapsulation protects the internal state of an object from external interference.\n",
    "It ensures that an object's attributes are accessed and modified through well-defined methods.\n",
    "It helps maintain data integrity and provides controlled access to an object's properties.\n",
    "Example of Encapsulation:\n",
    "\n",
    "Consider the \"Car\" class mentioned earlier. In encapsulation, you might declare the attributes (make, model, year, color) as private or protected within the class, meaning they can't be accessed directly from outside the class. To access or modify these attributes, you would define getter and setter methods:"
   ]
  },
  {
   "cell_type": "code",
   "execution_count": 1,
   "id": "2c2c0e9d-9f38-48f7-9092-9ed9561cb26a",
   "metadata": {},
   "outputs": [
    {
     "name": "stdout",
     "output_type": "stream",
     "text": [
      "Toyota\n",
      "Honda\n"
     ]
    }
   ],
   "source": [
    "class Car:\n",
    "    def __init__(self, make, model, year, color):\n",
    "        self.__make = make  # Encapsulation: Private attribute\n",
    "        self.__model = model\n",
    "        self.__year = year\n",
    "        self.__color = color\n",
    "        self.__is_running = False\n",
    "    \n",
    "    def start_engine(self):\n",
    "        self.__is_running = True\n",
    "        print(f\"The {self.__color} {self.__make} {self.__model}'s engine is running.\")\n",
    "    \n",
    "    def stop_engine(self):\n",
    "        self.__is_running = False\n",
    "        print(f\"The {self.__color} {self.__make} {self.__model}'s engine has stopped.\")\n",
    "    \n",
    "    def accelerate(self):\n",
    "        if self.__is_running:\n",
    "            print(f\"The {self.__color} {self.__make} {self.__model} is accelerating.\")\n",
    "        else:\n",
    "            print(\"Cannot accelerate, the engine is not running.\")\n",
    "\n",
    "    # Getter and setter methods for encapsulated attributes\n",
    "    def get_make(self):\n",
    "        return self.__make\n",
    "\n",
    "    def set_make(self, make):\n",
    "        self.__make = make\n",
    "\n",
    "# Create a car object\n",
    "car = Car(\"Toyota\", \"Camry\", 2022, \"Blue\")\n",
    "\n",
    "# Access encapsulated attribute using getter\n",
    "print(car.get_make())  # Outputs: Toyota\n",
    "\n",
    "# Modify encapsulated attribute using setter\n",
    "car.set_make(\"Honda\")\n",
    "print(car.get_make())  # Outputs: Honda\n"
   ]
  },
  {
   "cell_type": "raw",
   "id": "b19ec96a-2b37-41ee-a7cd-cd25daa73d91",
   "metadata": {},
   "source": [
    "In this example, the attributes of the \"Car\" class are encapsulated (made private), and access to them is controlled through getter and setter methods, ensuring data integrity and providing controlled access."
   ]
  },
  {
   "cell_type": "markdown",
   "id": "28271429-0556-439c-ac8e-2b386b31aea3",
   "metadata": {},
   "source": [
    "- ***Q3. What is abc module in python? Why is it used?***"
   ]
  },
  {
   "cell_type": "markdown",
   "id": "4843fd61-4eef-447c-8009-04002b4289de",
   "metadata": {},
   "source": [
    "The abc module in Python stands for \"Abstract Base Classes.\" It provides a framework for defining abstract base classes, which are classes that cannot be instantiated themselves but serve as templates for other classes to inherit from. Abstract base classes are used to enforce a common interface or set of methods that must be implemented by concrete (subclass) classes. Here's why the abc module is used:\n",
    "\n",
    "Enforce Method Implementation: The primary purpose of the abc module is to enforce that certain methods must be implemented in concrete subclasses. This ensures that all subclasses of an abstract base class adhere to a common interface.\n",
    "\n",
    "Define a Blueprint: Abstract base classes serve as blueprints or templates for creating related classes. They define a common structure that subclasses should follow.\n",
    "\n",
    "Provide Clarity and Documentation: By defining the expected methods in an abstract base class, the code becomes more readable and self-documenting. It's clear which methods need to be implemented by subclasses.\n",
    "\n",
    "Runtime Checks: The abc module allows for runtime checks to ensure that concrete subclasses have implemented the required methods. This helps catch implementation errors early in the development process.\n",
    "\n",
    "Here's a simple example of using the abc module to create an abstract base class and enforce method implementation:"
   ]
  },
  {
   "cell_type": "markdown",
   "id": "aae2944c-3be4-4d66-9361-101945a1f036",
   "metadata": {},
   "source": [
    "Certainly, let's consider another example using the abc module. In this example, we'll create an abstract base class for representing animals and concrete subclasses for specific animals:"
   ]
  },
  {
   "cell_type": "code",
   "execution_count": 3,
   "id": "44d81e80-e0a8-4ae9-8393-192764a0f63a",
   "metadata": {},
   "outputs": [
    {
     "name": "stdout",
     "output_type": "stream",
     "text": [
      "Buddy says Woof!\n",
      "Whiskers says Meow!\n",
      "Daffy says Quack!\n"
     ]
    }
   ],
   "source": [
    "from abc import ABC, abstractmethod\n",
    "\n",
    "# Define an abstract base class for animals\n",
    "class Animal(ABC):\n",
    "\n",
    "    def __init__(self, name):\n",
    "        self.name = name\n",
    "\n",
    "    @abstractmethod\n",
    "    def speak(self):\n",
    "        pass\n",
    "\n",
    "# Concrete subclasses for specific animals\n",
    "class Dog(Animal):\n",
    "\n",
    "    def speak(self):\n",
    "        return f\"{self.name} says Woof!\"\n",
    "\n",
    "class Cat(Animal):\n",
    "\n",
    "    def speak(self):\n",
    "        return f\"{self.name} says Meow!\"\n",
    "\n",
    "class Duck(Animal):\n",
    "\n",
    "    def speak(self):\n",
    "        return f\"{self.name} says Quack!\"\n",
    "\n",
    "# Using the classes\n",
    "dog = Dog(\"Buddy\")\n",
    "cat = Cat(\"Whiskers\")\n",
    "duck = Duck(\"Daffy\")\n",
    "\n",
    "print(dog.speak())  # Output: Buddy says Woof!\n",
    "print(cat.speak())  # Output: Whiskers says Meow!\n",
    "print(duck.speak())  # Output: Daffy says Quack!\n",
    "\n"
   ]
  },
  {
   "cell_type": "code",
   "execution_count": 4,
   "id": "c145be57-1afa-4e4b-8497-6d84d7b0b290",
   "metadata": {},
   "outputs": [
    {
     "ename": "TypeError",
     "evalue": "Can't instantiate abstract class Animal with abstract method speak",
     "output_type": "error",
     "traceback": [
      "\u001b[0;31m---------------------------------------------------------------------------\u001b[0m",
      "\u001b[0;31mTypeError\u001b[0m                                 Traceback (most recent call last)",
      "Cell \u001b[0;32mIn [4], line 2\u001b[0m\n\u001b[1;32m      1\u001b[0m \u001b[38;5;66;03m# Trying to create an instance of the abstract base class (will raise an error)\u001b[39;00m\n\u001b[0;32m----> 2\u001b[0m animal \u001b[38;5;241m=\u001b[39m \u001b[43mAnimal\u001b[49m\u001b[43m(\u001b[49m\u001b[38;5;124;43m\"\u001b[39;49m\u001b[38;5;124;43mGeneric Animal\u001b[39;49m\u001b[38;5;124;43m\"\u001b[39;49m\u001b[43m)\u001b[49m\n",
      "\u001b[0;31mTypeError\u001b[0m: Can't instantiate abstract class Animal with abstract method speak"
     ]
    }
   ],
   "source": [
    "# Trying to create an instance of the abstract base class (will raise an error)\n",
    "\n",
    "animal = Animal(\"Generic Animal\")  # TypeError: Can't instantiate abstract class Animal with abstract methods speak\n"
   ]
  },
  {
   "cell_type": "markdown",
   "id": "1b5477ce-26d5-4661-aa9e-11dc35d35d22",
   "metadata": {},
   "source": [
    "In this example, the Animal class is an abstract base class with an abstract method speak. Concrete subclasses (Dog, Cat, and Duck) inherit from Animal and provide their implementations of the speak method. Attempting to create an instance of the abstract base class Animal will result in a TypeError, ensuring that subclasses implement the required speak method."
   ]
  },
  {
   "cell_type": "markdown",
   "id": "567e2b57-34c3-4989-8085-944665d830bd",
   "metadata": {},
   "source": [
    "- ***Q4. How can we achieve data abstraction?***"
   ]
  },
  {
   "cell_type": "markdown",
   "id": "62f8fbd5-be9f-4704-8f85-1d1c8a27af6c",
   "metadata": {},
   "source": [
    "Data abstraction is a concept in programming that focuses on exposing only the essential features and hiding the implementation details of data structures or objects. It allows you to work with data at a higher level of understanding, emphasizing what data does rather than how it's stored or processed. Here's how you can achieve data abstraction:\n",
    "\n",
    "Use Classes and Objects:\n",
    "\n",
    "Create classes to represent data structures or objects.\n",
    "Define attributes (data) and methods (functions) within the class to interact with the data.\n",
    "Encapsulation:\n",
    "\n",
    "Encapsulate (or wrap) the data within the class and make it private or protected to prevent direct access from outside the class.\n",
    "Provide public methods (getters and setters) to access and modify the data. This controls how data is accessed and modified, ensuring data integrity.\n",
    "Abstraction with Methods:\n",
    "\n",
    "Define methods within the class that allow you to perform operations on the data.\n",
    "These methods should provide a high-level interface for working with the data without revealing the internal details.\n",
    "Hide Complexity:\n",
    "\n",
    "Within the class methods, handle the complex data processing or operations without exposing the details to the outside world.\n",
    "Users of the class only need to call methods and don't need to know how data is processed internally.\n",
    "Here's a simple example in Python to illustrate data abstraction:"
   ]
  },
  {
   "cell_type": "code",
   "execution_count": 5,
   "id": "44912949-13d7-44af-93cc-2fe210f5f5d8",
   "metadata": {},
   "outputs": [
    {
     "name": "stdout",
     "output_type": "stream",
     "text": [
      "Current Balance: 1300\n"
     ]
    }
   ],
   "source": [
    "class BankAccount:\n",
    "    def __init__(self, account_number, balance):\n",
    "        self.__account_number = account_number  # Private attribute\n",
    "        self.__balance = balance  # Private attribute\n",
    "    \n",
    "    def deposit(self, amount):\n",
    "        if amount > 0:\n",
    "            self.__balance += amount\n",
    "    \n",
    "    def withdraw(self, amount):\n",
    "        if 0 < amount <= self.__balance:\n",
    "            self.__balance -= amount\n",
    "    \n",
    "    def get_balance(self):\n",
    "        return self.__balance  # Getter method to access balance\n",
    "\n",
    "# Create a bank account object\n",
    "account = BankAccount(\"12345\", 1000)\n",
    "\n",
    "# Perform operations through public methods\n",
    "account.deposit(500)\n",
    "account.withdraw(200)\n",
    "balance = account.get_balance()\n",
    "print(\"Current Balance:\", balance)\n"
   ]
  },
  {
   "cell_type": "markdown",
   "id": "35c6946c-1788-45d5-a075-387c6c3d9e0d",
   "metadata": {},
   "source": [
    "In this example, the BankAccount class encapsulates the account number and balance. It provides methods for depositing, withdrawing, and getting the balance. The internal details of how the balance is stored or how transactions are processed are hidden from the user. This achieves data abstraction, allowing users to work with a bank account object without worrying about the underlying implementation details."
   ]
  },
  {
   "cell_type": "code",
   "execution_count": 6,
   "id": "76c5523d-066e-4c3a-bcd5-f89076827c7b",
   "metadata": {},
   "outputs": [
    {
     "name": "stdout",
     "output_type": "stream",
     "text": [
      "Circle Area: 78.5\n"
     ]
    }
   ],
   "source": [
    "from abc import ABC, abstractmethod\n",
    "\n",
    "# Step 1: Define an abstract class (optional)\n",
    "class Shape(ABC):\n",
    "\n",
    "    @abstractmethod\n",
    "    def area(self):\n",
    "        pass\n",
    "\n",
    "# Step 2: Create a concrete subclass\n",
    "class Circle(Shape):\n",
    "\n",
    "    def __init__(self, radius):\n",
    "        self.radius = radius\n",
    "\n",
    "    def area(self):\n",
    "        return 3.14 * self.radius * self.radius\n",
    "\n",
    "# Step 6: Client code usage\n",
    "circle = Circle(5)\n",
    "circle_area = circle.area()\n",
    "print(\"Circle Area:\", circle_area)\n"
   ]
  },
  {
   "cell_type": "markdown",
   "id": "c54dfe5d-2ac8-4ce7-97f4-8e79dacf4e83",
   "metadata": {},
   "source": [
    "In this example, the Shape class (abstract class) defines an abstract method area, which is implemented in the Circle subclass. Users can create a Circle object and calculate its area without needing to know the internal details of how the area is calculated. This demonstrates data abstraction by providing a high-level interface to work with shapes while hiding implementation complexities."
   ]
  },
  {
   "cell_type": "markdown",
   "id": "89f01a8a-1877-4e12-92bf-bfb263293d58",
   "metadata": {},
   "source": [
    "- ***Q5. Can we create an instance of an abstract class? Explain your answer..***"
   ]
  },
  {
   "cell_type": "markdown",
   "id": "f7251b9e-d222-4b13-9cfe-2a535874d0b0",
   "metadata": {},
   "source": [
    "No, you cannot create an instance of an abstract class in Python. Attempting to create an instance of an abstract class will result in a TypeError. Abstract classes are meant to be used as blueprints or templates for concrete subclasses, and they often contain one or more abstract methods that have no implementation in the abstract class itself.\n",
    "\n",
    "**Here's an example to illustrate this:**"
   ]
  },
  {
   "cell_type": "code",
   "execution_count": 7,
   "id": "ca1e34c2-f7ae-4767-b2fc-c31046041831",
   "metadata": {},
   "outputs": [
    {
     "ename": "TypeError",
     "evalue": "Can't instantiate abstract class Shape with abstract method area",
     "output_type": "error",
     "traceback": [
      "\u001b[0;31m---------------------------------------------------------------------------\u001b[0m",
      "\u001b[0;31mTypeError\u001b[0m                                 Traceback (most recent call last)",
      "Cell \u001b[0;32mIn [7], line 11\u001b[0m\n\u001b[1;32m      8\u001b[0m         \u001b[38;5;28;01mpass\u001b[39;00m\n\u001b[1;32m     10\u001b[0m \u001b[38;5;66;03m# Attempting to create an instance of the abstract class (will raise a TypeError)\u001b[39;00m\n\u001b[0;32m---> 11\u001b[0m shape \u001b[38;5;241m=\u001b[39m \u001b[43mShape\u001b[49m\u001b[43m(\u001b[49m\u001b[43m)\u001b[49m\n",
      "\u001b[0;31mTypeError\u001b[0m: Can't instantiate abstract class Shape with abstract method area"
     ]
    }
   ],
   "source": [
    "from abc import ABC, abstractmethod\n",
    "\n",
    "# Abstract class with an abstract method\n",
    "class Shape(ABC):\n",
    "\n",
    "    @abstractmethod\n",
    "    def area(self):\n",
    "        pass\n",
    "\n",
    "# Attempting to create an instance of the abstract class (will raise a TypeError)\n",
    "shape = Shape()  # TypeError: Can't instantiate abstract class Shape with abstract methods area\n"
   ]
  },
  {
   "cell_type": "markdown",
   "id": "02624e16-a1d1-4307-9871-363721a594b6",
   "metadata": {},
   "source": [
    "- ***In this example, the Shape class is an abstract class with the abstract method area. When you try to create an instance of Shape, Python raises a TypeError because it's not allowed to create objects from abstract classes. Instead, you're expected to create concrete subclasses that inherit from the abstract class and implement the abstract methods, providing specific functionality.***"
   ]
  },
  {
   "cell_type": "markdown",
   "id": "5acc7086-d683-4af2-851f-d207b134bf61",
   "metadata": {},
   "source": [
    "# <<<<<<<<<<<<<< Completed >>>>>>>>>>>>>>>"
   ]
  },
  {
   "cell_type": "code",
   "execution_count": null,
   "id": "e52df495-5c67-49e6-b91a-5a74ff71036e",
   "metadata": {},
   "outputs": [],
   "source": []
  }
 ],
 "metadata": {
  "kernelspec": {
   "display_name": "Python 3 (ipykernel)",
   "language": "python",
   "name": "python3"
  },
  "language_info": {
   "codemirror_mode": {
    "name": "ipython",
    "version": 3
   },
   "file_extension": ".py",
   "mimetype": "text/x-python",
   "name": "python",
   "nbconvert_exporter": "python",
   "pygments_lexer": "ipython3",
   "version": "3.10.6"
  }
 },
 "nbformat": 4,
 "nbformat_minor": 5
}
