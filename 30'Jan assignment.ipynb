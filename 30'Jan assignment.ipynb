{
 "cells": [
  {
   "cell_type": "markdown",
   "id": "13737bcd-95ae-4b57-889b-f87baf019fbb",
   "metadata": {},
   "source": [
    "***1. Write a program to accept percentage from the user and display the grade according to the following \n",
    "criteria:*** \n",
    "\n"
   ]
  },
  {
   "cell_type": "code",
   "execution_count": 1,
   "id": "a084541c-abec-434b-bd2f-b9e2dadcd3f7",
   "metadata": {},
   "outputs": [],
   "source": [
    "#Here is a Python program that accepts a percentage from the user and displays the corresponding grade based\n",
    "# on the criteria given:"
   ]
  },
  {
   "cell_type": "code",
   "execution_count": 3,
   "id": "4901b992-a14c-4503-9bd3-635550d3748a",
   "metadata": {},
   "outputs": [
    {
     "name": "stdin",
     "output_type": "stream",
     "text": [
      "Enter the percentage:  90\n"
     ]
    },
    {
     "name": "stdout",
     "output_type": "stream",
     "text": [
      "Your grade is  B\n"
     ]
    }
   ],
   "source": [
    "percentage = float(input(\"Enter the percentage: \"))\n",
    "\n",
    "\n",
    "if percentage > 90 :\n",
    "    grade = \"A\"\n",
    "elif percentage > 80 :\n",
    "    grade = \"B\"\n",
    "elif percentage >= 60:\n",
    "    grade = \"C\"\n",
    "else :\n",
    "    grade = \"D\"\n",
    "    \n",
    "print(\"Your grade is \", grade)    "
   ]
  },
  {
   "cell_type": "markdown",
   "id": "ffb93680-e7c5-4f04-83c4-b3eda9145602",
   "metadata": {},
   "source": [
    "***2. Write a program to accept the cost price of a bike and display the road tax to be paid according to the \n",
    "following criteria:***"
   ]
  },
  {
   "cell_type": "code",
   "execution_count": 6,
   "id": "2ad3d3d3-e5cc-4113-9a74-aec84fdded4c",
   "metadata": {},
   "outputs": [
    {
     "name": "stdin",
     "output_type": "stream",
     "text": [
      "Enter the cost price of the bike (in Rs):  51000\n"
     ]
    },
    {
     "name": "stdout",
     "output_type": "stream",
     "text": [
      "The road tax to be paid is: Rs 5100.0\n"
     ]
    }
   ],
   "source": [
    "# Accept the cost price of the bike from the user\n",
    "cost_price = float(input(\"Enter the cost price of the bike (in Rs): \"))\n",
    "\n",
    "# Determine the road tax based on the cost price\n",
    "if cost_price > 100000:\n",
    "    road_tax = cost_price * 0.15\n",
    "elif cost_price > 50000:\n",
    "    road_tax = cost_price * 0.10\n",
    "else:\n",
    "    road_tax = cost_price * 0.05\n",
    "\n",
    "# Display the road tax to the user\n",
    "print(\"The road tax to be paid is: Rs\", road_tax)\n"
   ]
  },
  {
   "cell_type": "raw",
   "id": "4c6d7427-3a8e-4c7a-977f-f7e491494f78",
   "metadata": {},
   "source": [
    "3. Accept any city from the user and display monuments of that city. \n",
    "City               monument\n",
    "Delhi              Red Fort \n",
    "Agra               Taj Mahal \n",
    "Jaipur             Jal Mahal \n"
   ]
  },
  {
   "cell_type": "code",
   "execution_count": 10,
   "id": "b0e6704c-4b86-4e73-8f61-051afe35b0f2",
   "metadata": {},
   "outputs": [
    {
     "name": "stdin",
     "output_type": "stream",
     "text": [
      "Enter the name of city: Agra\n"
     ]
    },
    {
     "name": "stdout",
     "output_type": "stream",
     "text": [
      "The monument of Agra is Taj Mahal\n"
     ]
    }
   ],
   "source": [
    "# Define dictionary of cities and thier monuments\n",
    "monuments = { \"Delhi\": \"Red fort\", \n",
    "              \"Agra\" : \"Taj Mahal\",\n",
    "              \"Jaipur\": \"Jal Mahal\"\n",
    "}\n",
    "\n",
    "# taking input of city from users \n",
    "city = input (\"Enter the name of city:\" )\n",
    "\n",
    "if city in monuments:\n",
    "    print (\"The monument of\", city ,\"is\" , monuments[city])\n",
    "else :\n",
    "    print(\"Sorry,no monument found for\", city)"
   ]
  },
  {
   "cell_type": "markdown",
   "id": "153ca9e2-4a94-453a-b711-b16d6b7a527b",
   "metadata": {},
   "source": [
    "In this program, we define a dictionary called monuments that maps city names to their corresponding monuments.\n",
    "\n",
    "Next, we accept the name of a city from the user using the input() function and store it in a variable called city.\n",
    "\n",
    "We then use an if statement to check if the city entered by the user is a valid key in the monuments dictionary. If it is, we look up the monument for that city using square bracket notation (i.e., monuments[city]) and print it out. If the city entered by the user is not a valid key in the monuments dictionary, we display an error message.\n",
    "\n"
   ]
  },
  {
   "cell_type": "markdown",
   "id": "077c0702-4c37-4aea-9fd1-d78001830cdb",
   "metadata": {},
   "source": [
    "***4.Check how many times a given number can be divided by 3 before it is less than or equal to 10.***"
   ]
  },
  {
   "cell_type": "code",
   "execution_count": 20,
   "id": "96455fd5-a86c-49e0-9a70-d1326326be10",
   "metadata": {},
   "outputs": [
    {
     "name": "stdin",
     "output_type": "stream",
     "text": [
      "Enter a number:  100\n"
     ]
    },
    {
     "name": "stdout",
     "output_type": "stream",
     "text": [
      "The number can be divided by 3, 3 times before it is less than or equal to 10.\n"
     ]
    }
   ],
   "source": [
    "# Accept a number from the user\n",
    "number = int(input(\"Enter a number: \"))\n",
    "\n",
    "# Determine how many times the number can be divided by 3 before it is <= 10\n",
    "count = 0\n",
    "while number > 10:\n",
    "    number = number / 3\n",
    "    count += 1\n",
    "\n",
    "# Display the result\n",
    "print(\"The number can be divided by 3,\", count, \"times before it is less than or equal to 10.\")\n"
   ]
  },
  {
   "cell_type": "markdown",
   "id": "8bda626d-be2a-4309-947b-a87ab86f4475",
   "metadata": {},
   "source": [
    "***EXPLANATION OF ABOVE CONCEPT***"
   ]
  },
  {
   "cell_type": "markdown",
   "id": "20bc10b1-1089-489b-b0f7-afb2e8ee3925",
   "metadata": {},
   "source": [
    "For example, let's say the user enters the number 100. Here's what happens in each iteration of the loop:\n",
    "\n",
    "Iteration 1: number is initially 100, which is greater than 10, so we enter the loop. We divide number by 3, which gives us 33.33. We also increment count by 1, which is now 1.\n",
    "\n",
    "\n",
    "Iteration 2: number is now 33.33, which is still greater than 10, so we continue the loop. We divide number by 3 again, which gives us 11.11. We increment count again, which is now 2.\n",
    "\n",
    "\n",
    "Iteration 3: number is now 11.11, which is still greater than 10, so we continue the loop. We divide number by 3 again, which gives us 3.70. We increment count again, which is now 3.\n",
    "\n",
    "Iteration 4: number is now 3.70, which is less than 10, so we exit the loop. The final value of count is 3, which means the original number (100) can be divided by 3 three times before it becomes less than or equal to 10.\n",
    "\n",
    "\n"
   ]
  },
  {
   "cell_type": "markdown",
   "id": "29d3b2fd-a606-4292-a6f7-b2a7b0007d45",
   "metadata": {},
   "source": [
    "***5. Why and When to Use while Loop in Python give a detailed description with example***"
   ]
  },
  {
   "cell_type": "markdown",
   "id": "fc569bd9-c85f-4636-8ccf-2af6e3ddef3e",
   "metadata": {},
   "source": [
    "\n",
    "\n",
    "\n",
    "In Python, a while loop is a control flow statement that allows you to execute a block of code repeatedly as long as a certain condition is true. It is useful when you want to repeat a task until a specific condition is met.\n",
    "\n",
    "Here's an example scenario where you might use a while loop: suppose you want to write a program that asks the user to enter a number between 1 and 10, and keeps asking until a valid number is entered. In this case, you can use a while loop to repeatedly ask for user input until a valid number is entered.\n",
    "\n",
    "Here's an example code snippet that uses a while loop to implement this scenario:"
   ]
  },
  {
   "cell_type": "code",
   "execution_count": 5,
   "id": "f096ad25-3ff7-4993-9d24-7971c7b9d429",
   "metadata": {},
   "outputs": [
    {
     "name": "stdin",
     "output_type": "stream",
     "text": [
      "Enter a number between 1 and 10:  23\n"
     ]
    },
    {
     "name": "stdout",
     "output_type": "stream",
     "text": [
      "Invalid input. Please try again.\n"
     ]
    },
    {
     "name": "stdin",
     "output_type": "stream",
     "text": [
      "Enter a number between 1 and 10:  4\n"
     ]
    },
    {
     "name": "stdout",
     "output_type": "stream",
     "text": [
      "You entered a valid number.\n"
     ]
    }
   ],
   "source": [
    "valid_number = False\n",
    "\n",
    "while not valid_number:\n",
    "    num = input(\"Enter a number between 1 and 10: \")\n",
    "    if num.isdigit() and 1 <= int(num) <= 10:\n",
    "        valid_number = True\n",
    "        print(\"You entered a valid number.\")\n",
    "    else:\n",
    "        print(\"Invalid input. Please try again.\")\n"
   ]
  },
  {
   "cell_type": "markdown",
   "id": "cbff0148-c325-4930-ad19-8c9ce744b9b8",
   "metadata": {},
   "source": [
    "Let's go through how this code works:\n",
    "\n",
    "We start by setting the valid_number variable to False, which indicates that the user has not entered a valid number yet.\n",
    "\n",
    "We then use a while loop with the condition not valid_number. This means the loop will continue as long as valid_number is False.\n",
    "\n",
    "Inside the loop, we ask the user to enter a number between 1 and 10 using the input() function.\n",
    "\n",
    "We then check whether the input is a valid number using the isdigit() method to check if the input consists of digits only, and then check whether the input is between 1 and 10 using an if statement.\n",
    "\n",
    "If the input is valid, we set valid_number to True to indicate that a valid number has been entered, and print a message to the user.\n",
    "\n",
    "If the input is not valid, we print an error message and the loop continues to the next iteration.\n",
    "\n",
    "The while loop will keep running until a valid number is entered, at which point the loop will exit and the program will continue executing the code after the loop.\n",
    "\n",
    "In summary, the while loop is useful when you want to repeat a task until a certain condition is met. You can use it to repeatedly execute a block of code until a condition becomes False."
   ]
  },
  {
   "cell_type": "raw",
   "id": "6298bc97-1ad2-4b52-b488-2b565fb0e4b6",
   "metadata": {},
   "source": [
    "****7.Use nested while loop  to print 3 diffrent pattern***"
   ]
  },
  {
   "cell_type": "markdown",
   "id": "1bb88581-654b-4f3a-953a-8c646ead356b",
   "metadata": {},
   "source": [
    "Sure, here are three different patterns that can be printed using nested while loops:\n",
    "    \n",
    "***Pattern 1: Square of Asterisks***    "
   ]
  },
  {
   "cell_type": "code",
   "execution_count": 7,
   "id": "08190822-2804-426b-9242-1c6189644974",
   "metadata": {},
   "outputs": [
    {
     "name": "stdout",
     "output_type": "stream",
     "text": [
      "*****\n",
      "*****\n",
      "*****\n",
      "*****\n",
      "*****\n"
     ]
    }
   ],
   "source": [
    "# Pattern 1: Square of Asterisks\n",
    "row = 1\n",
    "while row <= 5:\n",
    "    col = 1\n",
    "    while col <= 5:\n",
    "        print('*', end='')\n",
    "        col += 1\n",
    "    print()\n",
    "    row += 1\n"
   ]
  },
  {
   "cell_type": "markdown",
   "id": "0cc5e873-48ab-43b6-ad58-ec18c4de2f99",
   "metadata": {},
   "source": [
    "***Pattern 2: Right Angle Triangle***"
   ]
  },
  {
   "cell_type": "code",
   "execution_count": 8,
   "id": "6eaef729-5248-4068-9fb0-00ac13f6a1b4",
   "metadata": {},
   "outputs": [
    {
     "name": "stdout",
     "output_type": "stream",
     "text": [
      "*\n",
      "**\n",
      "***\n",
      "****\n",
      "*****\n"
     ]
    }
   ],
   "source": [
    "# Pattern 2: Right Angle Triangle\n",
    "row = 1\n",
    "while row <= 5:\n",
    "    col = 1\n",
    "    while col <= row:\n",
    "        print('*', end='')\n",
    "        col += 1\n",
    "    print()\n",
    "    row += 1\n"
   ]
  },
  {
   "cell_type": "markdown",
   "id": "197d1430-914d-47cc-90e8-d758f416a4b3",
   "metadata": {},
   "source": [
    "***Pattern 3: Diamond***"
   ]
  },
  {
   "cell_type": "code",
   "execution_count": 9,
   "id": "7c15eacf-ff48-4e89-b37c-996a4d634d15",
   "metadata": {},
   "outputs": [
    {
     "name": "stdout",
     "output_type": "stream",
     "text": [
      "  *\n",
      " ***\n",
      "*****\n",
      " ***\n",
      "  *\n"
     ]
    }
   ],
   "source": [
    "# Pattern 3: Diamond\n",
    "row = 1\n",
    "while row <= 3:\n",
    "    col = 1\n",
    "    while col <= (3-row):\n",
    "        print(' ', end='')\n",
    "        col += 1\n",
    "    col = 1\n",
    "    while col <= (2*row-1):\n",
    "        print('*', end='')\n",
    "        col += 1\n",
    "    print()\n",
    "    row += 1\n",
    "\n",
    "row = 2\n",
    "while row >= 1:\n",
    "    col = 1\n",
    "    while col <= (3-row):\n",
    "        print(' ', end='')\n",
    "        col += 1\n",
    "    col = 1\n",
    "    while col <= (2*row-1):\n",
    "        print('*', end='')\n",
    "        col += 1\n",
    "    print()\n",
    "    row -= 1\n"
   ]
  },
  {
   "cell_type": "markdown",
   "id": "685152bb-eae0-4da8-a08f-eff3cd4729db",
   "metadata": {},
   "source": [
    "***8.Reverse a while loop to display numbers from 10 to 1***"
   ]
  },
  {
   "cell_type": "markdown",
   "id": "e41be504-95e6-4a6d-b0d6-3c82cf3b6991",
   "metadata": {},
   "source": [
    "**here is the code**"
   ]
  },
  {
   "cell_type": "code",
   "execution_count": 10,
   "id": "caab1991-48f6-4e43-97b3-a2a825272755",
   "metadata": {},
   "outputs": [
    {
     "name": "stdout",
     "output_type": "stream",
     "text": [
      "10\n",
      "9\n",
      "8\n",
      "7\n",
      "6\n",
      "5\n",
      "4\n",
      "3\n",
      "2\n",
      "1\n"
     ]
    }
   ],
   "source": [
    "num = 10 \n",
    "while num >= 1:\n",
    "    print(num)\n",
    "    num -= 1"
   ]
  },
  {
   "cell_type": "markdown",
   "id": "217dd45f-6328-4d34-9577-1f815fd30627",
   "metadata": {},
   "source": [
    "#     <<<<<<<<<<<<<< COMPLETED >>>>>>>>>>>>>>>"
   ]
  },
  {
   "cell_type": "code",
   "execution_count": null,
   "id": "e8dc1a51-1137-4c71-8b31-c132e61b096f",
   "metadata": {},
   "outputs": [],
   "source": []
  }
 ],
 "metadata": {
  "kernelspec": {
   "display_name": "Python 3 (ipykernel)",
   "language": "python",
   "name": "python3"
  },
  "language_info": {
   "codemirror_mode": {
    "name": "ipython",
    "version": 3
   },
   "file_extension": ".py",
   "mimetype": "text/x-python",
   "name": "python",
   "nbconvert_exporter": "python",
   "pygments_lexer": "ipython3",
   "version": "3.10.6"
  }
 },
 "nbformat": 4,
 "nbformat_minor": 5
}
