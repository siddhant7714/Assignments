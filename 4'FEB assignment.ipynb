{
 "cells": [
  {
   "cell_type": "code",
   "execution_count": null,
   "id": "dad71038-ce2b-459d-8680-833f5855b63f",
   "metadata": {},
   "outputs": [],
   "source": [
    "# Assig"
   ]
  },
  {
   "cell_type": "markdown",
   "id": "9a88dddc-3fcc-4b8e-ae2d-2a22f5b93432",
   "metadata": {},
   "source": [
    "- ***Q1. Create a python program to sort the given list of tuples based on integer value using a\n",
    "lambda function.\n",
    "[('Sachin Tendulkar', 34357), ('Ricky Ponting', 27483), ('Jack Kallis', 25534), ('Virat Kohli', 24936)]***"
   ]
  },
  {
   "cell_type": "code",
   "execution_count": 1,
   "id": "d27f361f-d90c-4b43-9754-f013a322583a",
   "metadata": {},
   "outputs": [
    {
     "name": "stdout",
     "output_type": "stream",
     "text": [
      "[('Virat Kohli', 24936), ('Jack Kallis', 25534), ('Ricky Ponting', 27483), ('Sachin Tendulkar', 34357)]\n"
     ]
    }
   ],
   "source": [
    "lst = [('Sachin Tendulkar', 34357), ('Ricky Ponting', 27483), ('Jack Kallis', 25534), ('Virat Kohli', 24936)]\n",
    "\n",
    "# sort the list based on the integer value using a lambda function\n",
    "lst.sort(key=lambda x: x[1])\n",
    "\n",
    "# print the sorted list\n",
    "print(lst)\n"
   ]
  },
  {
   "cell_type": "markdown",
   "id": "aa45b6fd-cc75-4efd-bad9-b97a98b6dbc9",
   "metadata": {},
   "source": [
    "- ***Q2. Write a Python Program to find the squares of all the numbers in the given list of integers using\n",
    "lambda and map functions.\n",
    "[1, 2, 3, 4, 5, 6, 7, 8, 9, 10]***"
   ]
  },
  {
   "cell_type": "code",
   "execution_count": 10,
   "id": "c354a35c-7a3e-401e-91d7-aa26a6a61fb4",
   "metadata": {},
   "outputs": [
    {
     "name": "stdout",
     "output_type": "stream",
     "text": [
      "[1, 4, 9, 16, 25, 36, 49, 64, 81, 100]\n"
     ]
    }
   ],
   "source": [
    "lst = [1, 2, 3, 4, 5, 6, 7, 8, 9, 10]\n",
    "\n",
    "squares = list(map(lambda x: x**2, lst))\n",
    "\n",
    "print(squares)\n"
   ]
  },
  {
   "cell_type": "markdown",
   "id": "6e9acf15-be3a-4ab4-8a59-b550b7af1fa6",
   "metadata": {},
   "source": [
    "- ***Q3. Write a python program to convert the given list of integers into a tuple of strings. Use map and\n",
    "lambda functions\n",
    "Given String: [1, 2, 3, 4, 5, 6, 7, 8, 9, 10]\n",
    "Expected output: ('1', '2', '3', '4', '5', '6', '7', '8', '9', '10')***"
   ]
  },
  {
   "cell_type": "code",
   "execution_count": 11,
   "id": "a1f54c1f-2baa-431f-a709-83934288043d",
   "metadata": {},
   "outputs": [
    {
     "name": "stdout",
     "output_type": "stream",
     "text": [
      "('1', '2', '3', '4', '5', '6', '7', '8', '9', '10')\n"
     ]
    }
   ],
   "source": [
    "lst = [1, 2, 3, 4, 5, 6, 7, 8, 9, 10]\n",
    "\n",
    "string_tuple = tuple(map(lambda x: str(x), lst))\n",
    "\n",
    "print(string_tuple)\n"
   ]
  },
  {
   "cell_type": "markdown",
   "id": "5a6e60c8-428d-473d-80a7-75614f383c32",
   "metadata": {},
   "source": [
    "- ***Q4. Write a python program using reduce function to compute the product of a list containing numbers\n",
    "from 1 to 25.***"
   ]
  },
  {
   "cell_type": "code",
   "execution_count": 12,
   "id": "c55086bd-7200-41cd-82a2-0ee5c347733f",
   "metadata": {},
   "outputs": [
    {
     "name": "stdout",
     "output_type": "stream",
     "text": [
      "15511210043330985984000000\n"
     ]
    }
   ],
   "source": [
    "from functools import reduce\n",
    "\n",
    "lst = list(range(1, 26))\n",
    "\n",
    "product = reduce(lambda x, y: x*y, lst)\n",
    "\n",
    "print(product)\n"
   ]
  },
  {
   "cell_type": "markdown",
   "id": "c64084c1-2700-4be6-98e3-e40777d554d1",
   "metadata": {},
   "source": [
    "- ***Q5. Write a python program to filter the numbers in a given list that are divisible by 2 and 3 using the\n",
    "filter function.\n",
    "[2, 3, 6, 9, 27, 60, 90, 120, 55, 46]***"
   ]
  },
  {
   "cell_type": "code",
   "execution_count": 13,
   "id": "1146ee99-88d0-4371-8e37-143dbcc698ff",
   "metadata": {},
   "outputs": [
    {
     "name": "stdout",
     "output_type": "stream",
     "text": [
      "[6, 60, 90, 120]\n"
     ]
    }
   ],
   "source": [
    "lst = [2, 3, 6, 9, 27, 60, 90, 120, 55, 46]\n",
    "\n",
    "result = list(filter(lambda x: x % 2 == 0 and x % 3 == 0, lst))\n",
    "\n",
    "print(result)\n"
   ]
  },
  {
   "cell_type": "markdown",
   "id": "c85d6116-ed20-42f2-931b-a968e74215cc",
   "metadata": {},
   "source": [
    "- ***Q6. Write a python program to find palindromes in the given list of strings using lambda and filter\n",
    "function.\n",
    "['python', 'php', 'aba', 'radar', 'level']***"
   ]
  },
  {
   "cell_type": "code",
   "execution_count": 14,
   "id": "5abcc60a-7f9e-4d79-99ef-a0bb57660ffe",
   "metadata": {},
   "outputs": [
    {
     "name": "stdout",
     "output_type": "stream",
     "text": [
      "['php', 'aba', 'radar', 'level']\n"
     ]
    }
   ],
   "source": [
    "lst = ['python', 'php', 'aba', 'radar', 'level']\n",
    "\n",
    "result = list(filter(lambda x: x == x[::-1], lst))\n",
    "\n",
    "print(result)\n"
   ]
  },
  {
   "cell_type": "markdown",
   "id": "04b26deb-781c-4e31-8b7d-fadfc51d0704",
   "metadata": {},
   "source": [
    "#     <<<<<<<<<<<<<<  COMPLETED   >>>>>>>>>>>>>>"
   ]
  },
  {
   "cell_type": "code",
   "execution_count": null,
   "id": "66eaf1c5-f8a6-4b8b-a91b-8049b09bf486",
   "metadata": {},
   "outputs": [],
   "source": []
  }
 ],
 "metadata": {
  "kernelspec": {
   "display_name": "Python 3 (ipykernel)",
   "language": "python",
   "name": "python3"
  },
  "language_info": {
   "codemirror_mode": {
    "name": "ipython",
    "version": 3
   },
   "file_extension": ".py",
   "mimetype": "text/x-python",
   "name": "python",
   "nbconvert_exporter": "python",
   "pygments_lexer": "ipython3",
   "version": "3.10.6"
  }
 },
 "nbformat": 4,
 "nbformat_minor": 5
}
