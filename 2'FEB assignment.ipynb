{
 "cells": [
  {
   "cell_type": "markdown",
   "id": "4f38cd43-6d20-4eb0-bfbe-938030401795",
   "metadata": {},
   "source": [
    "# ASSIGNMENT NO :- 1   ........................................           DATE:- 2 FEB                                                                "
   ]
  },
  {
   "cell_type": "markdown",
   "id": "02c220e2-105d-4e27-b027-b7a6fa143dec",
   "metadata": {},
   "source": [
    " - ***Q1. Explain with an example each when to use a for loop and a while loop.***"
   ]
  },
  {
   "cell_type": "markdown",
   "id": "6c0dd9e8-69f2-4734-a673-2ca23f25f255",
   "metadata": {},
   "source": [
    "**A for loop is typically used when you know in advance the number of times you need to repeat a certain block of code. It's useful for iterating over arrays, lists, or any other data structure with a known length. Here's an example of using a for loop to iterate over a list of names:**"
   ]
  },
  {
   "cell_type": "code",
   "execution_count": 1,
   "id": "870870f0-d2e5-4763-a129-0e102046d482",
   "metadata": {},
   "outputs": [
    {
     "name": "stdout",
     "output_type": "stream",
     "text": [
      "Hello, Alice!\n",
      "Hello, Bob!\n",
      "Hello, Charlie!\n",
      "Hello, Dave!\n"
     ]
    }
   ],
   "source": [
    "names = [\"Alice\", \"Bob\", \"Charlie\", \"Dave\"]\n",
    "\n",
    "for name in names:\n",
    "    print(\"Hello, \" + name + \"!\")\n"
   ]
  },
  {
   "cell_type": "markdown",
   "id": "1a53ed27-2c05-494e-817b-85d347acb8b8",
   "metadata": {},
   "source": [
    "**On the other hand, a while loop is used when you want to repeat a block of code until a certain condition is met. It's often used for tasks that require user input, or for situations where you don't know in advance how many times you need to repeat a block of code. Here's an example of using a while loop to prompt the user for a password:**"
   ]
  },
  {
   "cell_type": "code",
   "execution_count": 1,
   "id": "66c4cc0d-0fc9-4389-bc3e-3786ec6ea24b",
   "metadata": {},
   "outputs": [
    {
     "name": "stdin",
     "output_type": "stream",
     "text": [
      "Enter the password:  sdfsdfsd\n",
      "Enter the password:  secret\n"
     ]
    },
    {
     "name": "stdout",
     "output_type": "stream",
     "text": [
      "Access granted!\n"
     ]
    }
   ],
   "source": [
    "password = \"\"\n",
    "\n",
    "while password != \"secret\":\n",
    "    password = input(\"Enter the password: \")\n",
    "\n",
    "print(\"Access granted!\")\n"
   ]
  },
  {
   "cell_type": "raw",
   "id": "b70215b4-d83a-43ca-8ecd-c58f6665a6dd",
   "metadata": {},
   "source": [
    "In this example, the while loop continues to prompt the user for a password until they enter the correct password (\"secret\"). Once the correct password is entered, the loop exits and the program continues"
   ]
  },
  {
   "cell_type": "markdown",
   "id": "47c000d8-c6be-4c00-82dd-8619ad6063ed",
   "metadata": {},
   "source": [
    "- ****Q2. Write a python program to print the sum and product of the first 10 natural numbers using for\n",
    "and while loop.***"
   ]
  },
  {
   "cell_type": "markdown",
   "id": "8b537496-7170-42bf-a422-d8e4bd34b69c",
   "metadata": {},
   "source": [
    "*here's the Python code to print the sum and product of the first 10 natural numbers using a for loop:"
   ]
  },
  {
   "cell_type": "code",
   "execution_count": 2,
   "id": "96c07edd-5bd1-4bbc-8580-86fdfb0f99c8",
   "metadata": {},
   "outputs": [
    {
     "name": "stdout",
     "output_type": "stream",
     "text": [
      "Sum of first 10 natural numbers: 55\n",
      "Product of first 10 natural numbers: 3628800\n"
     ]
    }
   ],
   "source": [
    "# Using for loop\n",
    "sum = 0\n",
    "product = 1\n",
    "\n",
    "for i in range(1, 11):\n",
    "    sum += i\n",
    "    product *= i\n",
    "\n",
    "print(\"Sum of first 10 natural numbers:\", sum)\n",
    "print(\"Product of first 10 natural numbers:\", product)\n"
   ]
  },
  {
   "cell_type": "markdown",
   "id": "11e20107-bbe9-4940-87b2-e0380e671dc3",
   "metadata": {},
   "source": [
    "*And here's the Python code to print the sum and product of the first 10 natural numbers using a while loop:*"
   ]
  },
  {
   "cell_type": "code",
   "execution_count": 3,
   "id": "f7910794-6bbe-46f1-84e5-dea865a86f98",
   "metadata": {},
   "outputs": [
    {
     "name": "stdout",
     "output_type": "stream",
     "text": [
      "Sum of first 10 natural numbers: 55\n",
      "Product of first 10 natural numbers: 3628800\n"
     ]
    }
   ],
   "source": [
    "# Using while loop\n",
    "sum = 0\n",
    "product = 1\n",
    "i = 1\n",
    "\n",
    "while i <= 10:\n",
    "    sum += i\n",
    "    product *= i\n",
    "    i += 1\n",
    "\n",
    "print(\"Sum of first 10 natural numbers:\", sum)\n",
    "print(\"Product of first 10 natural numbers:\", product)\n"
   ]
  },
  {
   "cell_type": "raw",
   "id": "9927eb46-70cf-426f-85c3-a0630ffa6d35",
   "metadata": {},
   "source": [
    "Both of these programs use a loop to iterate over the first 10 natural numbers (1 to 10) and calculate their sum and product. In the for loop, we use the range() function to generate a sequence of numbers from 1 to 10, and in the while loop, we use a counter variable i that starts at 1 and increments by 1 until it reaches 10."
   ]
  },
  {
   "cell_type": "markdown",
   "id": "e2f27624-9351-46a1-bf60-212d656fc580",
   "metadata": {},
   "source": [
    "- ***Q3. Create a python program to compute the electricity bill for a household.The per-unit charges in rupees are as follows: For the first 100 units, the user will be charged Rs. 4.5 per\n",
    "unit, for the next 100 units, the user will be charged Rs. 6 per unit, and for the next 100 units, the user will\n",
    "be charged Rs. 10 per unit, After 300 units and above the user will be charged Rs. 20 per unit.\n",
    "You are required to take the units of electricity consumed in a month from the user as input.Your program must pass this test case: when the unit of electricity consumed by the user in a month is\n",
    "310, the total electricity bill should be 2250.***"
   ]
  },
  {
   "cell_type": "code",
   "execution_count": 1,
   "id": "27400b86-f192-43b9-9052-05a85b53b86e",
   "metadata": {},
   "outputs": [
    {
     "name": "stdin",
     "output_type": "stream",
     "text": [
      "Enter the number of units consumed:  310\n"
     ]
    },
    {
     "name": "stdout",
     "output_type": "stream",
     "text": [
      "Electricity bill: Rs. 2250.0\n"
     ]
    }
   ],
   "source": [
    "units = int(input(\"Enter the number of units consumed: \"))\n",
    "\n",
    "if units <= 100:\n",
    "    bill = units * 4.5\n",
    "elif units <= 200:\n",
    "    bill = 100 * 4.5 + (units - 100) * 6\n",
    "elif units <= 300:\n",
    "    bill = 100 * 4.5 + 100 * 6 + (units - 200) * 10\n",
    "else:\n",
    "    bill = 100 * 4.5 + 100 * 6 + 100 * 10 + (units - 300) * 20\n",
    "\n",
    "print(\"Electricity bill: Rs.\", bill)\n"
   ]
  },
  {
   "cell_type": "markdown",
   "id": "bfd1af84-94ec-46bb-9d5c-9e38cc28c4aa",
   "metadata": {},
   "source": [
    "**EXPLANATION :-**"
   ]
  },
  {
   "cell_type": "raw",
   "id": "03226765-bba7-46a6-a793-e7b4ff843563",
   "metadata": {},
   "source": [
    "This code calculates the electricity bill for a household based on the number of units consumed.\n",
    "\n",
    "Here's how the code works:\n",
    "\n",
    "The input() function is used to take the number of units consumed as input from the user. The int() function is then used to convert the user input from a string to an integer.\n",
    "\n",
    "The code then checks the value of the units variable using an if-elif-else statement. Depending on the value of units, the code calculates the total bill using the corresponding rates.\n",
    "\n",
    "If the units consumed are less than or equal to 100, the charge is Rs. 4.5 per unit. So, the total bill is calculated by multiplying the number of units consumed by the rate of Rs. 4.5 per unit.\n",
    "\n",
    "If the units consumed are between 101 and 200, the charge is Rs. 6 per unit for the units consumed above 100. So, the first 100 units are charged at Rs. 4.5 per unit and the remaining units are charged at Rs. 6 per unit.\n",
    "\n",
    "If the units consumed are between 201 and 300, the charge is Rs. 10 per unit for the units consumed above 200. So, the first 100 units are charged at Rs. 4.5 per unit, the next 100 units are charged at Rs. 6 per unit, and the remaining units are charged at Rs. 10 per unit.\n",
    "\n",
    "If the units consumed are 301 or more, the charge is Rs. 20 per unit for the units consumed above 300. So, the first 100 units are charged at Rs. 4.5 per unit, the next 100 units are charged at Rs. 6 per unit, the next 100 units are charged at Rs. 10 per unit, and the remaining units are charged at Rs. 20 per unit.\n",
    "\n",
    "The total bill is calculated based on the rates determined in the if-elif-else statement and stored in the bill variable.\n",
    "\n",
    "The calculated bill is printed using the print() function, along with an appropriate message."
   ]
  },
  {
   "cell_type": "markdown",
   "id": "f8157989-d457-44a7-b2e4-715634e0619b",
   "metadata": {},
   "source": [
    "- ***Q4. Create a list of numbers from 1 to 100. Use for loop and while loop to calculate the cube of each\n",
    "number and if the cube of that number is divisible by 4 or 5 then append that number in a list and print\n",
    "that list.***"
   ]
  },
  {
   "cell_type": "code",
   "execution_count": 5,
   "id": "8ca2e361-14a5-4157-9417-74a0108d0165",
   "metadata": {},
   "outputs": [
    {
     "name": "stdout",
     "output_type": "stream",
     "text": [
      "[1, 8, 27, 64, 125, 216, 343, 512, 729, 1000, 1331, 1728, 2197, 2744, 3375, 4096, 4913, 5832, 6859, 8000, 9261, 10648, 12167, 13824, 15625, 17576, 19683, 21952, 24389, 27000, 29791, 32768, 35937, 39304, 42875, 46656, 50653, 54872, 59319, 64000, 68921, 74088, 79507, 85184, 91125, 97336, 103823, 110592, 117649, 125000, 132651, 140608, 148877, 157464, 166375, 175616, 185193, 195112, 205379, 216000, 226981, 238328, 250047, 262144, 274625, 287496, 300763, 314432, 328509, 343000, 357911, 373248, 389017, 405224, 421875, 438976, 456533, 474552, 493039, 512000, 531441, 551368, 571787, 592704, 614125, 636056, 658503, 681472, 704969, 729000, 753571, 778688, 804357, 830584, 857375, 884736, 912673, 941192, 970299, 1000000] \n",
      "\n",
      "[2, 4, 5, 6, 8, 10, 12, 14, 15, 16, 18, 20, 22, 24, 25, 26, 28, 30, 32, 34, 35, 36, 38, 40, 42, 44, 45, 46, 48, 50, 52, 54, 55, 56, 58, 60, 62, 64, 65, 66, 68, 70, 72, 74, 75, 76, 78, 80, 82, 84, 85, 86, 88, 90, 92, 94, 95, 96, 98, 100]\n"
     ]
    }
   ],
   "source": [
    "#BY USING FOR LOOP\n",
    "\n",
    "cubes = []\n",
    "divisible_by_4_or_5 = []\n",
    "\n",
    "for i in range(1, 101):\n",
    "    cube = i ** 3\n",
    "    cubes.append(cube)\n",
    "    if cube % 4 == 0 or cube % 5 == 0:\n",
    "        divisible_by_4_or_5.append(i)\n",
    "        \n",
    "print(cubes, \"\\n\")\n",
    "print(divisible_by_4_or_5)\n",
    "\n"
   ]
  },
  {
   "cell_type": "code",
   "execution_count": 6,
   "id": "b70261e7-bbe7-4f3f-aa3b-f76ccfbfe4e5",
   "metadata": {},
   "outputs": [
    {
     "name": "stdout",
     "output_type": "stream",
     "text": [
      "[2, 4, 5, 6, 8, 10, 12, 14, 15, 16, 18, 20, 22, 24, 25, 26, 28, 30, 32, 34, 35, 36, 38, 40, 42, 44, 45, 46, 48, 50, 52, 54, 55, 56, 58, 60, 62, 64, 65, 66, 68, 70, 72, 74, 75, 76, 78, 80, 82, 84, 85, 86, 88, 90, 92, 94, 95, 96, 98, 100]\n"
     ]
    }
   ],
   "source": [
    "#BY USING WHILE LOOOP\n",
    "\n",
    "cubes = []\n",
    "divisible_by_4_or_5 = []\n",
    "i = 1\n",
    "\n",
    "while i <= 100:\n",
    "    cube = i ** 3\n",
    "    cubes.append(cube)\n",
    "    if cube % 4 == 0 or cube % 5 == 0:\n",
    "        divisible_by_4_or_5.append(i)\n",
    "    i += 1\n",
    "\n",
    "print(divisible_by_4_or_5)\n"
   ]
  },
  {
   "cell_type": "markdown",
   "id": "006da9c6-c546-4f23-b143-196131636a9c",
   "metadata": {},
   "source": [
    "- ***Q5. Write a program to filter count vowels in the below-given string.\n",
    "string = \"I want to become a data scientist\"***"
   ]
  },
  {
   "cell_type": "code",
   "execution_count": 7,
   "id": "6179e1d8-a79f-4cff-8ac5-5359aa7740f5",
   "metadata": {},
   "outputs": [
    {
     "name": "stdout",
     "output_type": "stream",
     "text": [
      "The number of vowels in the string is: 12\n"
     ]
    }
   ],
   "source": [
    "string = \"I want to become a data scientist\"\n",
    "vowels = \"aeiouAEIOU\"\n",
    "count = 0\n",
    "\n",
    "for char in string:\n",
    "    if char in vowels:\n",
    "        count += 1\n",
    "\n",
    "print(\"The number of vowels in the string is:\", count)\n"
   ]
  },
  {
   "cell_type": "markdown",
   "id": "c05d951e-d9a4-47de-8170-b79b95bc7aad",
   "metadata": {},
   "source": [
    "#     <<<<<<<<<<<<<<  COMPLETED   >>>>>>>>>>>>>>"
   ]
  },
  {
   "cell_type": "code",
   "execution_count": null,
   "id": "3ceb7aa8-2de5-4bd1-adcf-a27c2d5ead0a",
   "metadata": {},
   "outputs": [],
   "source": []
  }
 ],
 "metadata": {
  "kernelspec": {
   "display_name": "Python 3 (ipykernel)",
   "language": "python",
   "name": "python3"
  },
  "language_info": {
   "codemirror_mode": {
    "name": "ipython",
    "version": 3
   },
   "file_extension": ".py",
   "mimetype": "text/x-python",
   "name": "python",
   "nbconvert_exporter": "python",
   "pygments_lexer": "ipython3",
   "version": "3.10.6"
  }
 },
 "nbformat": 4,
 "nbformat_minor": 5
}
