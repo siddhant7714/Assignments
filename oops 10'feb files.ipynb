{
 "cells": [
  {
   "cell_type": "markdown",
   "id": "17515d1e-b29f-4558-819e-5c6a03e9c3ef",
   "metadata": {},
   "source": [
    "- # OOPS Assignment'10 feb "
   ]
  },
  {
   "cell_type": "markdown",
   "id": "4154854f-301e-4b80-bc49-ee9dcb304f88",
   "metadata": {},
   "source": [
    "- ***Q1. Which function is used to open a file? What are the different modes of opening a file? Explain each mode of file opening.***"
   ]
  },
  {
   "cell_type": "markdown",
   "id": "a142edc4-1377-4d36-8479-74f043df1a0c",
   "metadata": {},
   "source": [
    "**In Python, you can use the open() function to open a file. The open() function allows you to specify the file you want to open and the mode in which you want to open it. Here's the basic syntax for the open() function:**"
   ]
  },
  {
   "cell_type": "markdown",
   "id": "44d690f8-5a4b-40cf-9980-17d20e826615",
   "metadata": {},
   "source": [
    "- ***open(filename, mode)***"
   ]
  },
  {
   "cell_type": "markdown",
   "id": "363ecf09-e51e-4c2d-954a-c56d4aeae59b",
   "metadata": {},
   "source": [
    "- **filename is the name of the file you want to open, including its path if it's not in the current working directory.**\n",
    "\n",
    "- **mode is a string that specifies how the file should be opened. There are several different modes available, each serving a specific purpose:**"
   ]
  },
  {
   "cell_type": "markdown",
   "id": "4f3ad986-fed7-4c34-a1b7-a50fa3d61837",
   "metadata": {},
   "source": [
    "***'r' (Read Mode):***\n",
    "This is the default mode if you don't specify a mode.\n",
    "It allows you to open a file for reading.\n",
    "If the file doesn't exist, it will raise a FileNotFoundError.\n",
    "You can use methods like read(), readline(), or readlines() to read data from the file.\n",
    "\n",
    "***'w' (Write Mode):***\n",
    "This mode opens the file for writing.\n",
    "If the file already exists, it will truncate (remove all contents) the file before writing.\n",
    "If the file doesn't exist, it will create a new empty file.\n",
    "You can use methods like write() to write data to the file.\n",
    "\n",
    "***'a' (Append Mode):***\n",
    "This mode opens the file for appending (adding data at the end of the file).\n",
    "If the file doesn't exist, it will create a new empty file.\n",
    "If the file exists, it will not truncate the existing data and will start writing at the end of the file.\n",
    "You can use methods like write() to add data to the file.\n",
    "\n",
    "***'x' (Exclusive Creation Mode):***\n",
    "This mode is used for exclusive creation, meaning it will fail if the file already exists.\n",
    "It raises a FileExistsError if the file exists.\n",
    "If the file doesn't exist, it will create a new empty file.\n",
    "\n",
    "**'b' (Binary Mode):**\n",
    "This mode can be added to any of the above modes to work with binary files (e.g., images, audio files).\n",
    "For example, 'rb' for reading a binary file and 'wb' for writing a binary file.\n",
    "\n",
    "**'t' (Text Mode):**\n",
    "This mode can be added to any of the above modes to work with text files (e.g., .txt files).\n",
    "For example, 'rt' for reading a text file and 'wt' for writing a text file. This is the default when 'b' is not specified.\n",
    "\n",
    "**'+' (Update Mode):**\n",
    "This mode can be added to any of the above modes to allow both reading and writing.\n",
    "For example, 'r+' for reading and writing a text file.\n",
    "\n",
    "Here are some examples of how to open files in different modes:"
   ]
  },
  {
   "cell_type": "code",
   "execution_count": 1,
   "id": "968c62e2-5bb8-4c5a-b95b-8e4ad4d68826",
   "metadata": {},
   "outputs": [],
   "source": [
    "# Read a text file\n",
    "file = open('example.txt', 'r')\n",
    "\n",
    "# Write to a text file (creates or truncates the file)\n",
    "file = open('example.txt', 'w')\n",
    "\n",
    "# Append to a text file (creates or appends to the file)\n",
    "file = open('example.txt', 'a')\n",
    "\n",
    "# Read and write to a text file\n",
    "file = open('example.txt', 'r+')\n",
    "\n",
    "# Read a binary file\n",
    "file = open('image.jpg', 'rb')\n",
    "\n",
    "# Write to a binary file (creates or truncates the file)\n",
    "file = open('data.bin', 'wb')\n"
   ]
  },
  {
   "cell_type": "markdown",
   "id": "d6a96807-8c21-4460-b1b5-32638133e740",
   "metadata": {},
   "source": [
    "- ***Q2. Why close() function is used? Why is it important to close a file?***"
   ]
  },
  {
   "cell_type": "markdown",
   "id": "d1bb6c1a-b7b4-48eb-afa2-cb76465b3469",
   "metadata": {},
   "source": [
    "**The close() function in Python is used to close a previously opened file. It is important to close a file for the following reasons:**\n",
    "\n",
    "- **Resource Management:** When you open a file, your computer allocates resources, such as memory and file handles, to handle the interaction between your program and the file. Not closing a file properly can lead to resource leaks, where these resources are not released when they are no longer needed, potentially slowing down your program or causing it to run out of resources.\n",
    "\n",
    "- **Data Integrity:** Most file operations involve buffering, which means that data is first written to an in-memory buffer before being written to the file on disk. Closing the file ensures that any buffered data is flushed (written) to the file, preventing data loss. If you don't close a file and your program terminates unexpectedly, any unwritten data in the buffer may be lost.\n",
    "\n",
    "- **Concurrency and File Locking:** In a multi-process or multi-threaded environment, not properly closing a file can lead to issues with file locking and concurrent access. Closing the file releases any locks associated with it, allowing other processes or threads to access it safely. Failing to close a file can result in conflicts and data corruption.\n",
    "\n",
    "- **Operating System Efficiency:** Properly closing files helps the operating system manage its resources efficiently. When you close a file, the operating system can free up resources associated with that file, making those resources available for other processes or programs.\n",
    "\n",
    "**To close a file, you typically call the close() method on the file object, like this:**"
   ]
  },
  {
   "cell_type": "code",
   "execution_count": 2,
   "id": "f3360712-0acb-477d-af7c-64e5c531d35d",
   "metadata": {},
   "outputs": [],
   "source": [
    "file = open('example.txt', 'r')\n",
    "# Perform file operations\n",
    "file.close()  # Close the file when done\n"
   ]
  },
  {
   "cell_type": "markdown",
   "id": "5385fbe6-d032-441c-b7b4-66dba84638d1",
   "metadata": {},
   "source": [
    "***A better practice is to use the with statement (context manager), which automatically closes the file when you exit the block, even if an exception occurs:***"
   ]
  },
  {
   "cell_type": "code",
   "execution_count": 5,
   "id": "0c154804-7d52-47b1-985c-cdaf82e39f3b",
   "metadata": {},
   "outputs": [],
   "source": [
    "with open('example.txt', 'r') as file:\n",
    "    # Perform file operations within this block\n",
    "    pass  # You can add any valid Python statement here\n",
    "# The file is automatically closed when the block is exited\n"
   ]
  },
  {
   "cell_type": "markdown",
   "id": "5624131b-f585-4055-b9c2-c418d8804bc6",
   "metadata": {},
   "source": [
    "***Using the with statement is recommended because it ensures that the file is always properly closed, even if an error occurs within the block.***"
   ]
  },
  {
   "cell_type": "markdown",
   "id": "2271b090-9ab6-4c6c-937c-1f1897eb1d88",
   "metadata": {},
   "source": [
    "- ***Q3. Write a python program to create a text file. Write ‘I want to become a Data Scientist’ in that file. Then close the file. Open this file and read the content of the file.***"
   ]
  },
  {
   "cell_type": "code",
   "execution_count": 6,
   "id": "2846bba5-6341-4347-9ee5-b8299b8af5cf",
   "metadata": {},
   "outputs": [
    {
     "name": "stdout",
     "output_type": "stream",
     "text": [
      "I want to become a Data Scientist\n"
     ]
    }
   ],
   "source": [
    "# Create a text file and write data to it\n",
    "with open('data_scientist.txt', 'w') as file:\n",
    "    file.write('I want to become a Data Scientist')\n",
    "\n",
    "# Open the file in read mode and read its content\n",
    "with open('data_scientist.txt', 'r') as file:\n",
    "    file_content = file.read()\n",
    "\n",
    "# Print the content of the file\n",
    "print(file_content)\n"
   ]
  },
  {
   "cell_type": "markdown",
   "id": "f06c8bee-de31-47be-8dd3-8530872a353f",
   "metadata": {},
   "source": [
    "***Here's what this program does step by step:***\n",
    "\n",
    "- It uses the open() function with the 'w' mode to create a file called 'data_scientist.txt' and opens it for writing.\n",
    "\n",
    "- It writes the text 'I want to become a Data Scientist' to the file.\n",
    "\n",
    "- The with block for writing automatically closes the file when the block is exited.\n",
    "\n",
    "- It then opens the same file in read mode ('r') using another with block.\n",
    "\n",
    "- It reads the content of the file using the read() method and stores it in the variable file_content.\n",
    "\n",
    "- Finally, it prints the content of the file, which will display \"I want to become a Data Scientist\" in this case.\n",
    "\n",
    "- Make sure to run this code in a directory where you have write permissions to create and modify files."
   ]
  },
  {
   "cell_type": "markdown",
   "id": "53b7b78c-d2d3-4539-ac9c-233bf547bc2f",
   "metadata": {},
   "source": [
    "- ***Q4. Explain the following with python code: read(), readline() and readlines().***"
   ]
  },
  {
   "cell_type": "code",
   "execution_count": 9,
   "id": "8d4329c0-3ad9-4e3c-b803-28d959c402e6",
   "metadata": {},
   "outputs": [],
   "source": [
    "# Writing some content to the 'example.txt' file\n",
    "with open('example.txt', 'w') as file:\n",
    "    file.write('I want to become a Data Scientist')\n"
   ]
  },
  {
   "cell_type": "markdown",
   "id": "ae79c4fd-a5b7-4d21-b018-975244d47337",
   "metadata": {},
   "source": [
    "**1. read()**: This method reads the entire contents of the file as a single string. It reads from the current file position (which starts at the beginning) up to the end of the file."
   ]
  },
  {
   "cell_type": "code",
   "execution_count": 10,
   "id": "bb07a73c-d6d5-449a-8f3f-4d113ac344f9",
   "metadata": {},
   "outputs": [
    {
     "name": "stdout",
     "output_type": "stream",
     "text": [
      "I want to become a Data Scientist\n"
     ]
    }
   ],
   "source": [
    "# Open a file for reading\n",
    "with open('example.txt', 'r') as file:\n",
    "    file_content = file.read()\n",
    "\n",
    "# Print the entire content of the file\n",
    "print(file_content)\n"
   ]
  },
  {
   "cell_type": "markdown",
   "id": "428ac0d0-a9a0-49b0-a14d-94066d467b21",
   "metadata": {},
   "source": [
    "**2.readline():** This method reads a single line from the file and returns it as a string. It reads from the current file position until it encounters a newline character ('\\n') or reaches the end of the file."
   ]
  },
  {
   "cell_type": "code",
   "execution_count": 11,
   "id": "19fe8079-59da-457f-b205-7a5f6b4f8bb3",
   "metadata": {},
   "outputs": [
    {
     "name": "stdout",
     "output_type": "stream",
     "text": [
      "Line 1: I want to become a Data Scientist\n",
      "Line 2: \n"
     ]
    }
   ],
   "source": [
    "# Open a file for reading\n",
    "with open('example.txt', 'r') as file:\n",
    "    line1 = file.readline()  # Read the first line\n",
    "    line2 = file.readline()  # Read the second line (if it exists)\n",
    "\n",
    "# Print the read lines\n",
    "print(\"Line 1:\", line1)\n",
    "print(\"Line 2:\", line2)\n"
   ]
  },
  {
   "cell_type": "markdown",
   "id": "19c72e21-87c9-4d8f-804d-17cfcb4b05da",
   "metadata": {},
   "source": [
    "***3.readlines():*** This method reads all lines from the current file position until the end of the file and returns them as a list of strings. Each element in the list corresponds to a line from the file."
   ]
  },
  {
   "cell_type": "code",
   "execution_count": 12,
   "id": "e8e98f58-21ec-40a7-956b-ea0bde52f05f",
   "metadata": {},
   "outputs": [
    {
     "name": "stdout",
     "output_type": "stream",
     "text": [
      "I want to become a Data Scientist\n"
     ]
    }
   ],
   "source": [
    "# Open a file for reading\n",
    "with open('example.txt', 'r') as file:\n",
    "    lines = file.readlines()\n",
    "\n",
    "# Print each line from the list\n",
    "for line in lines:\n",
    "    print(line)\n"
   ]
  },
  {
   "cell_type": "markdown",
   "id": "780e64ad-9e80-4442-b233-2a958239ca28",
   "metadata": {},
   "source": [
    "- ***Q5. Explain why with statement is used with open(). What is the advantage of using with statement and open() together?***"
   ]
  },
  {
   "cell_type": "markdown",
   "id": "f4b045ee-81b4-488d-a482-c394dc16abe1",
   "metadata": {},
   "source": [
    "**The with statement is used with the open() function in Python to provide a context for file operations. When you use the with statement in conjunction with open(), you create what's known as a \"context manager.\" The primary advantage of using the with statement with open() is automatic resource management, particularly in the context of file handling. Here's why it's advantageous:**"
   ]
  },
  {
   "cell_type": "markdown",
   "id": "09e3f450-eb46-481e-aa46-4678a13081a0",
   "metadata": {},
   "source": [
    "*Automatic Resource Management: When you use with open(...), Python automatically takes care of opening the file and, most importantly, closing it when you're done. This ensures that the file is properly closed, even if an exception occurs within the code block. Without with, you'd need to manually close the file using the close() method, which can be error-prone and can lead to resource leaks if you forget to close the file.*\n",
    "\n",
    "**Example without with:**"
   ]
  },
  {
   "cell_type": "code",
   "execution_count": 13,
   "id": "01b2de3d-4927-4bc7-9c09-77c380473634",
   "metadata": {},
   "outputs": [],
   "source": [
    "file = open('example.txt', 'r')\n",
    "# ... file operations ...\n",
    "file.close()  # Need to remember to close the file\n"
   ]
  },
  {
   "cell_type": "markdown",
   "id": "7fe750ca-2a7c-44fb-b00e-3f6e9edc12aa",
   "metadata": {},
   "source": [
    "**Example with with:**"
   ]
  },
  {
   "cell_type": "code",
   "execution_count": 15,
   "id": "506181ac-bc92-4689-80f6-db2b3bcea5aa",
   "metadata": {},
   "outputs": [],
   "source": [
    "with open('example.txt', 'r') as file:\n",
    "    pass\n",
    "    # ... file operations ...\n",
    "# File is automatically closed when the block is exited\n"
   ]
  },
  {
   "cell_type": "markdown",
   "id": "6842c931-65f7-401e-90c2-6cecea438ccf",
   "metadata": {},
   "source": [
    "*Safer Handling of Exceptions: In the absence of with, if an exception occurs while performing file operations, the close() method might not get called, leading to resource leaks. With with, the file is guaranteed to be closed properly, even if an exception is raised.*"
   ]
  },
  {
   "cell_type": "markdown",
   "id": "f44fc6f2-eb93-4820-b533-f303aaf63530",
   "metadata": {},
   "source": [
    "**In summary, the with statement with open() simplifies file handling by providing a convenient and safe way to manage files, ensuring that they are opened and closed properly. It promotes cleaner, more maintainable code and helps prevent common issues like resource leaks and file handling errors.**"
   ]
  },
  {
   "cell_type": "markdown",
   "id": "266a8a8a-6710-4524-bbfa-3695643bbe7d",
   "metadata": {},
   "source": [
    "- ***Q6. Explain the write() and writelines() functions. Give a suitable example.***"
   ]
  },
  {
   "cell_type": "markdown",
   "id": "3ccf5d29-af25-4937-bd92-257a7a2c46a6",
   "metadata": {},
   "source": [
    "*In Python, the write() and writelines() functions are used for writing data to a text file. They are methods provided by the file object returned when you open a file in write mode ('w'). Here's an explanation of each:*\n",
    "\n",
    "**write() Function:**\n",
    "*The write() function is used to write a string to a file.*\n",
    "\n",
    "*It appends the provided string to the end of the file or overwrites the file's content if it already exists.*\n",
    "\n",
    "*It does not automatically add newline characters ('\\n'), so you need to include them if you want to separate lines.*\n",
    "\n",
    "***Example of using write():***\n",
    "\n"
   ]
  },
  {
   "cell_type": "code",
   "execution_count": 20,
   "id": "431bf408-47ef-4279-bdab-9f4b94611e66",
   "metadata": {},
   "outputs": [
    {
     "name": "stdout",
     "output_type": "stream",
     "text": [
      "Hello, World!\n",
      "This is a new line.\n"
     ]
    }
   ],
   "source": [
    "# Open a file for writing (or create a new file)\n",
    "with open('example.txt', 'w') as file:\n",
    "    file.write('Hello, World!\\n')\n",
    "    file.write('This is a new line.')\n",
    "    \n",
    "# Open the same file for reading\n",
    "with open('example.txt', 'r') as file:\n",
    "    file_content = file.read()\n",
    "\n",
    "# Print the content of the file\n",
    "print(file_content)\n"
   ]
  },
  {
   "cell_type": "markdown",
   "id": "102698b6-9b06-4d5c-912f-2415632d2642",
   "metadata": {},
   "source": [
    "**This code will create a file called 'example.txt' or overwrite it if it exists, and write two lines of text to it.**"
   ]
  },
  {
   "cell_type": "markdown",
   "id": "eee1195a-f1f8-4794-9f0f-ea3fd4c791b6",
   "metadata": {},
   "source": [
    " **writelines() Function:**\n",
    "The writelines() function is used to write a sequence of strings to a file.\n",
    "\n",
    "It takes an iterable (e.g., a list or tuple) of strings and writes each string to the file.\n",
    "\n",
    "Like write(), it does not automatically add newline characters, so you need to include them in the strings if you want line breaks.\n",
    "\n",
    "**Example of using writelines():**"
   ]
  },
  {
   "cell_type": "code",
   "execution_count": 23,
   "id": "c48eb046-06d0-4c39-8383-25051036dd56",
   "metadata": {},
   "outputs": [
    {
     "name": "stdout",
     "output_type": "stream",
     "text": [
      "Line 1\n",
      "Line 2\n",
      "Line 3\n",
      "\n"
     ]
    }
   ],
   "source": [
    "# Open a file for writing (or create a new file)\n",
    "with open('example.txt', 'w') as file:\n",
    "    lines = ['Line 1\\n', 'Line 2\\n', 'Line 3\\n']\n",
    "    file.writelines(lines)\n",
    "\n",
    "    \n",
    "# Open the same file for reading\n",
    "with open('example.txt', 'r') as file:\n",
    "    file_content = file.read()\n",
    "\n",
    "# Print the content of the file\n",
    "print(file_content)"
   ]
  },
  {
   "cell_type": "markdown",
   "id": "1b010a6b-a4d7-4b25-b905-3d6fd0d698b9",
   "metadata": {},
   "source": [
    "This code will create a file called 'example.txt' or overwrite it if it exists, and write three lines of text to it.\n",
    "\n",
    "It's important to note that when using these functions, you need to be careful with newline characters ('\\n') if you want to format your file with line breaks. Also, when writing multiple lines with writelines(), each line should be a separate string in the iterable.\n",
    "\n",
    "After executing these write operations, you can use the read() or other file reading methods to read the content of the file, as demonstrated in a previous answer."
   ]
  },
  {
   "cell_type": "markdown",
   "id": "22d4f802-ba27-4df8-99a1-44836dbaca66",
   "metadata": {},
   "source": [
    "# <<<<<<<<<<<<<< Completed >>>>>>>>>>>>>>"
   ]
  }
 ],
 "metadata": {
  "kernelspec": {
   "display_name": "Python 3 (ipykernel)",
   "language": "python",
   "name": "python3"
  },
  "language_info": {
   "codemirror_mode": {
    "name": "ipython",
    "version": 3
   },
   "file_extension": ".py",
   "mimetype": "text/x-python",
   "name": "python",
   "nbconvert_exporter": "python",
   "pygments_lexer": "ipython3",
   "version": "3.10.6"
  }
 },
 "nbformat": 4,
 "nbformat_minor": 5
}
