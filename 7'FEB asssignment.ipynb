{
 "cells": [
  {
   "cell_type": "markdown",
   "id": "e78733a1-7e31-4a6c-8905-7d0a356cc461",
   "metadata": {},
   "source": [
    "- # Assignment'7 Feb"
   ]
  },
  {
   "cell_type": "markdown",
   "id": "00e53815-f459-4b52-84c0-ac031b3e91cc",
   "metadata": {},
   "source": [
    "- ***Q1. You are writing code for a company. The requirement of the company is that you create a python function that will check whether the password entered by the user is correct or not. The function should take the password as input and return the string “Valid Password” if the entered password follows the below-given password guidelines else it should return “Invalid Password”.***\n",
    "\n",
    "- **Note: 1. The Password should contain at least two uppercase letters and at least two lowercase letters.**\n",
    "- **2. The Password should contain at least a number and three special characters.**\n",
    "- **3. The length of the password should be 10 characters long.**"
   ]
  },
  {
   "cell_type": "code",
   "execution_count": 3,
   "id": "1460b91a-25e3-49ec-8855-22358e16706c",
   "metadata": {},
   "outputs": [
    {
     "name": "stdout",
     "output_type": "stream",
     "text": [
      "Valid Password\n"
     ]
    }
   ],
   "source": [
    "import re\n",
    "\n",
    "def is_valid_password(password):\n",
    "    # Check if the password is 10 characters long\n",
    "    if len(password) != 10:\n",
    "        return \"Invalid Password\"\n",
    "\n",
    "    # Count the number of uppercase and lowercase letters\n",
    "    uppercase_count = 0\n",
    "    lowercase_count = 0\n",
    "    for char in password:\n",
    "        if char.isupper():\n",
    "            uppercase_count += 1\n",
    "        elif char.islower():\n",
    "            lowercase_count += 1\n",
    "\n",
    "    # Check if there are at least two uppercase and two lowercase letters\n",
    "    if uppercase_count < 2 or lowercase_count < 2:\n",
    "        return \"Invalid Password\"\n",
    "\n",
    "    # Check if the password contains at least a number\n",
    "    if not any(char.isdigit() for char in password):\n",
    "        return \"Invalid Password\"\n",
    "\n",
    "    # Check if the password contains at least three special characters\n",
    "    special_chars = \"!@#$%^&*()_+\"\n",
    "    special_count = sum(1 for char in password if char in special_chars)\n",
    "    if special_count < 3:\n",
    "        return \"Invalid Password\"\n",
    "\n",
    "    # If all conditions are met, the password is valid\n",
    "    return \"Valid Password\"\n",
    "\n",
    "# Test the function with a sample password\n",
    "password = \"SSb@7#!si7\"\n",
    "result = is_valid_password(password)\n",
    "print(result)  # Output: \"Valid Password\"\n"
   ]
  },
  {
   "cell_type": "markdown",
   "id": "c29d67e6-e700-406a-b825-de351d424037",
   "metadata": {},
   "source": [
    "- # another way to write same "
   ]
  },
  {
   "cell_type": "code",
   "execution_count": 4,
   "id": "d24e4e8a-6220-4127-a13a-057df29692ad",
   "metadata": {},
   "outputs": [
    {
     "name": "stdin",
     "output_type": "stream",
     "text": [
      "Enter your password:  (SS@bb7$!)\n"
     ]
    },
    {
     "name": "stdout",
     "output_type": "stream",
     "text": [
      "Valid Password\n"
     ]
    }
   ],
   "source": [
    "import re\n",
    "\n",
    "def is_valid_password(password):\n",
    "    # Check if the password length is 10 characters\n",
    "    if len(password) != 10:\n",
    "        return \"Invalid Password\"\n",
    "    \n",
    "    # Count the number of uppercase and lowercase letters\n",
    "    uppercase_count = sum(1 for char in password if char.isupper())\n",
    "    lowercase_count = sum(1 for char in password if char.islower())\n",
    "    \n",
    "    # Check if there are at least two uppercase and two lowercase letters\n",
    "    if uppercase_count < 2 or lowercase_count < 2:\n",
    "        return \"Invalid Password\"\n",
    "    \n",
    "    # Check if the password contains at least one digit\n",
    "    if not any(char.isdigit() for char in password):\n",
    "        return \"Invalid Password\"\n",
    "    \n",
    "    # Check if the password contains at least three special characters (non-alphanumeric)\n",
    "    special_count = len(re.findall(r'[!@#$%^&*()_+{}\\[\\]:;<>,.?~\\\\|]', password))\n",
    "    if special_count < 3:\n",
    "        return \"Invalid Password\"\n",
    "    \n",
    "    return \"Valid Password\"\n",
    "\n",
    "# Test the function\n",
    "password = input(\"Enter your password: \")\n",
    "result = is_valid_password(password)\n",
    "print(result)\n"
   ]
  },
  {
   "cell_type": "markdown",
   "id": "797f32c2-89f2-4151-8fc6-83637ad33e90",
   "metadata": {},
   "source": [
    "- ***Q2. Solve the below-given questions using at least one of the following:***\n",
    "- **1. Lambda function**\n",
    "- **2. Filter function**\n",
    "- **3. Map function**\n",
    "- **4. List Comprehension**"
   ]
  },
  {
   "cell_type": "markdown",
   "id": "b3bd8211-aba5-48f1-9914-7b29e8ccf623",
   "metadata": {},
   "source": [
    "- Check if the string starts with a particular letter\n",
    "- Check if the string is numeric\n",
    "- Sort a list of tuples having fruit names and their quantity. [(\"mango\",99),(\"orange\",80), (\"grapes\", 1000)-\n",
    "- Find the squares of numbers from 1 to 10\n",
    "- Find the cube root of numbers from 1 to 10\n",
    "- Check if a given number is even\n",
    "- Filter odd numbers from the given list.\n",
    "[1,2,3,4,5,6,7,8,9,10]\n",
    "- Sort a list of integers into positive and negative integers lists.\n",
    "[1,2,3,4,5,6,-1,-2,-3,-4,-5,0]"
   ]
  },
  {
   "cell_type": "markdown",
   "id": "3fc06bf1-d5c7-41d4-b5d1-4b00abf98834",
   "metadata": {},
   "source": [
    "- # Answer"
   ]
  },
  {
   "cell_type": "markdown",
   "id": "69a6abdb-7528-4400-85fc-48a6391a3489",
   "metadata": {},
   "source": [
    "- **1. Check if the string starts with a particular letter:**\n",
    "  **Using a lambda function and the startswith method:**\n",
    "\n"
   ]
  },
  {
   "cell_type": "code",
   "execution_count": 2,
   "id": "2a3af3ca-513b-4943-af71-a9022b18b3a5",
   "metadata": {},
   "outputs": [
    {
     "name": "stdout",
     "output_type": "stream",
     "text": [
      "True\n"
     ]
    }
   ],
   "source": [
    "starts_with_letter = lambda string, letter: string.startswith(letter)\n",
    "result = starts_with_letter(\"Hello\", \"H\")\n",
    "print(result) \n"
   ]
  },
  {
   "cell_type": "code",
   "execution_count": 3,
   "id": "a0219f3a-db3a-4a6a-844d-e8246ba1560d",
   "metadata": {},
   "outputs": [
    {
     "name": "stdout",
     "output_type": "stream",
     "text": [
      "True\n"
     ]
    }
   ],
   "source": [
    "# Check if the string is numeric:\n",
    "# Using a lambda function and the isdigit method:\n",
    "\n",
    "is_numeric = lambda string: string.isdigit()\n",
    "result = is_numeric(\"12345\")\n",
    "print(result)  "
   ]
  },
  {
   "cell_type": "code",
   "execution_count": 4,
   "id": "2fdebc77-0f2a-43cb-b449-957d2159fd75",
   "metadata": {},
   "outputs": [
    {
     "name": "stdout",
     "output_type": "stream",
     "text": [
      "[('orange', 80), ('mango', 99), ('grapes', 1000)]\n"
     ]
    }
   ],
   "source": [
    "# Sort a list of tuples with fruit names and their quantity:\n",
    "# Using the sorted function with a lambda key function:\n",
    "\n",
    "fruit_list = [(\"mango\", 99), (\"orange\", 80), (\"grapes\", 1000)]\n",
    "sorted_fruit_list = sorted(fruit_list, key=lambda x: x[1])\n",
    "print(sorted_fruit_list) "
   ]
  },
  {
   "cell_type": "code",
   "execution_count": 5,
   "id": "e692cc7f-ebea-4948-9cd4-ed16ddc74bae",
   "metadata": {},
   "outputs": [
    {
     "name": "stdout",
     "output_type": "stream",
     "text": [
      "[1, 4, 9, 16, 25, 36, 49, 64, 81, 100]\n"
     ]
    }
   ],
   "source": [
    "# Find the squares of numbers from 1 to 10:\n",
    "# Using map and a lambda function:\n",
    "\n",
    "squares = list(map(lambda x: x ** 2, range(1, 11)))\n",
    "print(squares) "
   ]
  },
  {
   "cell_type": "code",
   "execution_count": 6,
   "id": "14356654-014b-4f7d-942a-b201fe190b55",
   "metadata": {},
   "outputs": [
    {
     "name": "stdout",
     "output_type": "stream",
     "text": [
      "[1.0, 1.2599210498948732, 1.4422495703074083, 1.5874010519681994, 1.7099759466766968, 1.8171205928321397, 1.912931182772389, 2.0, 2.080083823051904, 2.154434690031884]\n"
     ]
    }
   ],
   "source": [
    "# Find the cube root of numbers from 1 to 10:\n",
    "# Using a list comprehension and the math module:\n",
    "\n",
    "import math\n",
    "cube_roots = [math.pow(x, 1/3) for x in range(1, 11)]\n",
    "print(cube_roots)"
   ]
  },
  {
   "cell_type": "code",
   "execution_count": 7,
   "id": "710222a5-46da-4a83-93ae-d164f35c6324",
   "metadata": {},
   "outputs": [
    {
     "name": "stdin",
     "output_type": "stream",
     "text": [
      "Enter the number :  4\n"
     ]
    },
    {
     "name": "stdout",
     "output_type": "stream",
     "text": [
      "True\n"
     ]
    }
   ],
   "source": [
    "# Check if a given number is even:\n",
    "\n",
    "# Using a lambda function and the modulo operator:\n",
    "\n",
    "is_even = lambda number: number % 2 == 0\n",
    "number = int(input(\"Enter the number : \"))\n",
    "result = is_even(number)\n",
    "print(result) "
   ]
  },
  {
   "cell_type": "code",
   "execution_count": 8,
   "id": "ab04951c-580d-4473-823b-f01fad52ed97",
   "metadata": {},
   "outputs": [
    {
     "name": "stdout",
     "output_type": "stream",
     "text": [
      "[1, 3, 5, 7, 9]\n"
     ]
    }
   ],
   "source": [
    "# Filter odd numbers from the given list:\n",
    "# Using the filter function and a lambda function:\n",
    "\n",
    "numbers = [1, 2, 3, 4, 5, 6, 7, 8, 9, 10]\n",
    "odd_numbers = list(filter(lambda x: x % 2 != 0, numbers))\n",
    "print(odd_numbers)"
   ]
  },
  {
   "cell_type": "code",
   "execution_count": 9,
   "id": "02bfe893-05bc-4d10-8def-3f032e6b07b2",
   "metadata": {},
   "outputs": [
    {
     "name": "stdout",
     "output_type": "stream",
     "text": [
      "[1, 2, 3, 4, 5, 6]\n",
      "[-1, -2, -3, -4, -5]\n"
     ]
    }
   ],
   "source": [
    "# Sort a list of integers into positive and negative integers lists:\n",
    "# Using list comprehensions:\n",
    "\n",
    "numbers = [1, 2, 3, 4, 5, 6, -1, -2, -3, -4, -5, 0]\n",
    "positive_numbers = [x for x in numbers if x > 0]\n",
    "negative_numbers = [x for x in numbers if x < 0]\n",
    "print(positive_numbers)  \n",
    "print(negative_numbers)"
   ]
  },
  {
   "cell_type": "markdown",
   "id": "df59080d-5565-42d6-b6e3-cbdaff81ab88",
   "metadata": {},
   "source": [
    "# <<<<<<<<<<<<<<< Completed >>>>>>>>>>>>>>"
   ]
  }
 ],
 "metadata": {
  "kernelspec": {
   "display_name": "Python 3 (ipykernel)",
   "language": "python",
   "name": "python3"
  },
  "language_info": {
   "codemirror_mode": {
    "name": "ipython",
    "version": 3
   },
   "file_extension": ".py",
   "mimetype": "text/x-python",
   "name": "python",
   "nbconvert_exporter": "python",
   "pygments_lexer": "ipython3",
   "version": "3.10.6"
  }
 },
 "nbformat": 4,
 "nbformat_minor": 5
}
