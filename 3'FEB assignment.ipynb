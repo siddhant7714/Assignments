{
 "cells": [
  {
   "cell_type": "markdown",
   "id": "040667bb-1d8e-4e02-9bb9-58208aa4eb20",
   "metadata": {},
   "source": [
    "# ASSIGNMNET NO :- 2 <<<<<<<>>>>>>DATE:- 3'FEB"
   ]
  },
  {
   "cell_type": "markdown",
   "id": "1b2bd8dc-3b08-4917-8760-671e768bac7f",
   "metadata": {},
   "source": [
    "- ***Q1. Which keyword is used to create a function? Create a function to return a list of odd numbers in the\n",
    "range of 1 to 25.***\n"
   ]
  },
  {
   "cell_type": "raw",
   "id": "edbdae8c-b973-4856-b9be-0dd810c59700",
   "metadata": {},
   "source": [
    "In Python, the keyword used to create a function is def. Here's an example of a function that returns a list of odd numbers in the range of 1 to 25:"
   ]
  },
  {
   "cell_type": "code",
   "execution_count": 20,
   "id": "dc7fd03b-6100-4654-9876-6d057745ea74",
   "metadata": {},
   "outputs": [],
   "source": [
    "def odd_number():\n",
    "    return[i for i in range(1, 26) if i%2 != 0] \n"
   ]
  },
  {
   "cell_type": "code",
   "execution_count": 21,
   "id": "c418f6eb-94a2-41fb-908e-cbc42fddf502",
   "metadata": {},
   "outputs": [],
   "source": [
    "result = odd_number()"
   ]
  },
  {
   "cell_type": "code",
   "execution_count": 22,
   "id": "8d937d9b-07b6-4443-b758-fbd7e6f47155",
   "metadata": {},
   "outputs": [
    {
     "name": "stdout",
     "output_type": "stream",
     "text": [
      "[1, 3, 5, 7, 9, 11, 13, 15, 17, 19, 21, 23, 25]\n"
     ]
    }
   ],
   "source": [
    "print(result)"
   ]
  },
  {
   "cell_type": "markdown",
   "id": "829be9a3-d9f7-47d4-bc36-1e36cfd7257c",
   "metadata": {},
   "source": [
    " - Q2. Why *args and **kwargs is used in some functions? Create a function each for *args and **kwargs\n",
    "to demonstrate their use"
   ]
  },
  {
   "cell_type": "raw",
   "id": "b27c8c3d-8c6b-4c29-bea2-8e31620b14f2",
   "metadata": {},
   "source": [
    "In Python, *args and **kwargs are special syntax used in function definitions to allow for variable-length arguments to be passed to a function.\n",
    "\n",
    "*args is used to pass a variable number of positional arguments to a function. It allows you to pass any number of arguments to a function as a ((tuple)). \n",
    "\n",
    "**kwargs is used to pass a variable number of keyword arguments to a function. It allows you to pass any number of arguments to a function as a {{dictionary}}."
   ]
  },
  {
   "cell_type": "markdown",
   "id": "5c2684c3-3432-4879-b2bb-f77bbd64b6e1",
   "metadata": {},
   "source": [
    "- Example for *args:"
   ]
  },
  {
   "cell_type": "code",
   "execution_count": 1,
   "id": "3be2caa4-d4cb-4083-96af-cf50925fcb1b",
   "metadata": {},
   "outputs": [
    {
     "name": "stdout",
     "output_type": "stream",
     "text": [
      "1\n",
      "2\n",
      "3\n",
      "4\n",
      "5\n"
     ]
    }
   ],
   "source": [
    "def print_numbers(*numbers): #we can use anything in place of *args here *is important \n",
    "    for num in numbers:\n",
    "        print(num)\n",
    "\n",
    "# Example usage\n",
    "print_numbers(1, 2, 3, 4, 5)\n"
   ]
  },
  {
   "cell_type": "markdown",
   "id": "24e1cf06-403b-4e74-ab9f-40e1392c1489",
   "metadata": {},
   "source": [
    "- Example for **kwargs:"
   ]
  },
  {
   "cell_type": "code",
   "execution_count": 7,
   "id": "296e4113-96cd-4320-9a56-4f0215fc8b76",
   "metadata": {},
   "outputs": [
    {
     "name": "stdout",
     "output_type": "stream",
     "text": [
      "name: Siddhant\n",
      "age: 19\n",
      "city: Ahmedabad\n",
      "Profession: programmer\n"
     ]
    }
   ],
   "source": [
    "def print_user_info(**user):\n",
    "    for key, value in user.items():\n",
    "        print(f\"{key}: {value}\")\n",
    "\n",
    "# Example usage\n",
    "print_user_info(name=\"Siddhant\", age=19, city=\"Ahmedabad\" , Profession=\"programmer\") \n",
    "#we don't use this for name, age, city \" \" when we call in funcion\n"
   ]
  },
  {
   "cell_type": "markdown",
   "id": "0eb703f0-0c15-4cc2-bfe7-2fc5b272f8ad",
   "metadata": {},
   "source": [
    "- ***Q3. What is an iterator in python? Name the method used to initialise the iterator object and the method\n",
    "used for iteration. Use these methods to print the first five elements of the given list [2, 4, 6, 8, 10, 12, 14,\n",
    "16, 18, 20].***"
   ]
  },
  {
   "cell_type": "raw",
   "id": "86bd7efc-46c8-4cd2-b041-759b01d1d287",
   "metadata": {},
   "source": [
    "n Python, an iterator is an object that implements the iterator protocol, which consists of the __iter__() and __next__() methods. The __iter__() method returns the iterator object itself, while the __next__() method returns the next element of the collection or raises the StopIteration exception if there are no more elements.\n",
    "\n",
    "To create an iterator object, we can use the iter() method, which takes an iterable object as an argument and returns an iterator object.\n",
    "\n",
    "To iterate over the elements of an iterator, we can use a loop, such as a for loop, or call the next() method on the iterator object until we reach the end of the collection.\n",
    "\n",
    "Here's an example of how we can print the first five elements of the list [2, 4, 6, 8, 10, 12, 14, 16, 18, 20] using an iterator:"
   ]
  },
  {
   "cell_type": "code",
   "execution_count": 8,
   "id": "146dac36-35e2-4c35-bc94-d91151da1a68",
   "metadata": {},
   "outputs": [
    {
     "name": "stdout",
     "output_type": "stream",
     "text": [
      "2\n",
      "4\n",
      "6\n",
      "8\n",
      "10\n"
     ]
    }
   ],
   "source": [
    "my_list = [2, 4, 6, 8, 10, 12, 14, 16, 18, 20]\n",
    "my_iter = iter(my_list)\n",
    "\n",
    "for i in range(5):\n",
    "    print(next(my_iter))\n"
   ]
  },
  {
   "cell_type": "markdown",
   "id": "3bebc5fa-2508-486a-8c00-bf9106e0ffe7",
   "metadata": {},
   "source": [
    "- ***Q4. What is a generator function in python? Why yield keyword is used? Give an example of a generator\n",
    "function.***"
   ]
  },
  {
   "cell_type": "raw",
   "id": "ceebb0b5-937e-48f4-a8d0-19f7a634f464",
   "metadata": {},
   "source": [
    "In Python, a generator function is a special kind of function that can be used to create iterators in a more concise and efficient way than using a regular class-based iterator. A generator function uses the yield keyword instead of return to return a value and pause the function's execution, allowing it to resume later from where it left off.\n",
    "\n",
    "The main difference between a normal function and a generator function in Python is that a normal function runs to completion, returning a single value (if it has a return statement), while a generator function can be paused and resumed during execution, producing a sequence of values.\n",
    "\n",
    "When a normal function is called, it runs from start to finish, executing all of its statements and returning a single value (if it has a return statement). On the other hand, when a generator function is called, it returns an iterator object that can be used to iterate over the sequence of values produced by the function. Each time the iterator's next() method is called, the generator function's execution is resumed, and it continues to generate values until it reaches the end of the function or encounters a return statement.\n",
    "\n",
    "Another important difference is that a normal function can consume a lot of memory if it returns a large data structure like a list, while a generator function can produce a sequence of values on the fly without holding all of them in memory at once. This makes generator functions more memory-efficient than normal functions when generating large sequences."
   ]
  },
  {
   "cell_type": "code",
   "execution_count": 10,
   "id": "cb9ce6a0-ac69-4f23-8424-9c74deabff5a",
   "metadata": {},
   "outputs": [
    {
     "name": "stdout",
     "output_type": "stream",
     "text": [
      "[0, 1, 4, 9, 16]\n",
      "<generator object gen_squares at 0x7f0815208510>\n",
      "0\n",
      "1\n",
      "4\n",
      "9\n",
      "16\n"
     ]
    }
   ],
   "source": [
    "# Here's an example to illustrate the difference between a normal function and a generator function:\n",
    "\n",
    "\n",
    "\n",
    "# Normal function to generate a list of squares\n",
    "def get_squares(n):\n",
    "    return [i**2 for i in range(n)]\n",
    "\n",
    "squares = get_squares(5)\n",
    "print(squares)  # Output: [0, 1, 4, 9, 16]\n",
    "\n",
    "# Generator function to generate squares\n",
    "def gen_squares(n):\n",
    "    for i in range(n):\n",
    "        yield i**2\n",
    "\n",
    "squares = gen_squares(5)\n",
    "print(squares)  # Output: <generator object gen_squares at 0x7f23df79c200>\n",
    "\n",
    "# Iterating over the generator object to get squares\n",
    "for square in squares:\n",
    "    print(square)  # Output: 0 1 4 9 16\n"
   ]
  },
  {
   "cell_type": "raw",
   "id": "cf2eb74c-bdd0-44a3-a828-63083ce78045",
   "metadata": {},
   "source": [
    "In this example, we have defined a normal function get_squares that returns a list of squares of the first n integers.\n",
    "\n",
    "We have also defined a generator function gen_squares that generates the same sequence of squares but does so lazily using the yield keyword. When we call get_squares, it returns a list of squares immediately, \n",
    "\n",
    "while gen_squares returns a generator object that can be used to generate the squares lazily. We can iterate over the generator object using a for loop to generate the squares one by one without holding all of them in memory at once.\n"
   ]
  },
  {
   "cell_type": "markdown",
   "id": "42b541a8-d554-4cdb-bc9d-a02a11ea0c17",
   "metadata": {},
   "source": [
    "- ***Q5. Create a generator function for prime numbers less than 1000. Use the next() method to print the\n",
    "first 20 prime numbers.***"
   ]
  },
  {
   "cell_type": "code",
   "execution_count": 16,
   "id": "d2eeb67b-80c6-4c34-a0e8-9ad40f8c521c",
   "metadata": {},
   "outputs": [
    {
     "name": "stdout",
     "output_type": "stream",
     "text": [
      "2\n",
      "3\n",
      "5\n",
      "7\n",
      "11\n",
      "13\n",
      "17\n",
      "19\n",
      "23\n",
      "29\n",
      "31\n",
      "37\n",
      "41\n",
      "43\n",
      "47\n",
      "53\n",
      "59\n",
      "61\n",
      "67\n",
      "71\n"
     ]
    }
   ],
   "source": [
    "def prime_generator():\n",
    "    yield 2\n",
    "    n = 3\n",
    "    while n < 1000:\n",
    "        if all(n % i != 0 for i in range(2, int(n ** 0.5) + 1)):   #(n**0.5) = int(math.sqrt(n)) :- import math \n",
    "            yield n\n",
    "        n += 2  #here increment by 2 is because  (since even numbers other than 2 cannot be prime)  \n",
    "\n",
    "gen = prime_generator()\n",
    "for i in range(20):\n",
    "    print(next(gen))\n"
   ]
  },
  {
   "cell_type": "markdown",
   "id": "919d3beb-66b8-4e35-b688-3681b29dbb89",
   "metadata": {},
   "source": [
    "- ***Q6. Write a python program to print the first 10 Fibonacci numbers using a while loop.***"
   ]
  },
  {
   "cell_type": "code",
   "execution_count": 1,
   "id": "9ab5e083-854b-4ca0-9908-8b6dfd04ceff",
   "metadata": {},
   "outputs": [
    {
     "name": "stdout",
     "output_type": "stream",
     "text": [
      "0 1 1 2 3 5 8 13 21 34 "
     ]
    }
   ],
   "source": [
    "# initialize the first two Fibonacci numbers\n",
    "a, b = 0, 1\n",
    "\n",
    "# print the first 10 Fibonacci numbers using a while loop\n",
    "count = 0\n",
    "while count < 10:\n",
    "    print(a, end=\" \")\n",
    "    c = a + b\n",
    "    a = b\n",
    "    b = c\n",
    "    count += 1\n"
   ]
  },
  {
   "cell_type": "markdown",
   "id": "7239bca2-8504-483a-8834-f977b66489d3",
   "metadata": {},
   "source": [
    "- ***Q7. Write a List Comprehension to iterate through the given string: ‘pwskills’.\n",
    "Expected output: ['p', 'w', 's', 'k', 'i', 'l', 'l', 's']***"
   ]
  },
  {
   "cell_type": "code",
   "execution_count": 3,
   "id": "2872f8da-399b-4d68-8f4e-42479eeeedf6",
   "metadata": {},
   "outputs": [
    {
     "name": "stdout",
     "output_type": "stream",
     "text": [
      "['p', 'w', 's', 'k', 'i', 'l', 'l', 's']\n"
     ]
    }
   ],
   "source": [
    "string = 'pwskills'\n",
    "result = []\n",
    "\n",
    "for char in string:\n",
    "    if char in 'pwskills':\n",
    "        result.append(char)\n",
    "\n",
    "print(result)\n"
   ]
  },
  {
   "cell_type": "markdown",
   "id": "2e358ea2-3b68-46da-8c01-a49e34f02b0f",
   "metadata": {},
   "source": [
    "- ***Q8. Write a python program to check whether a given number is Palindrome or not using a while loop.***"
   ]
  },
  {
   "cell_type": "code",
   "execution_count": 3,
   "id": "57bf632b-93cc-46f0-b65c-7f01b68e8747",
   "metadata": {},
   "outputs": [
    {
     "name": "stdin",
     "output_type": "stream",
     "text": [
      "Enter the number:  1221\n"
     ]
    },
    {
     "name": "stdout",
     "output_type": "stream",
     "text": [
      "1221 is paladrome number\n"
     ]
    }
   ],
   "source": [
    "num = int(input(\"Enter the number: \"))\n",
    "temp = num    #temp = temparory_num  , here we asssing temp = num cuz below when it perform logic portion it loose\n",
    "                                      # losses it's original number for later comparsion\n",
    "rev = 0       #rev :- reverse_num\n",
    "\n",
    "while temp > 0 :            #logic portion \n",
    "    remainder = temp % 10 \n",
    "    rev = (rev * 10) + remainder\n",
    "    temp = temp//10                #this opertor use to remove last digit from number eg.123.4 = 123 \n",
    "\n",
    "    \n",
    "if num == rev :\n",
    "    print(num, \"is paladrome number\")\n",
    "else : \n",
    "    print(num, \"is not a paladrome number\" )"
   ]
  },
  {
   "cell_type": "markdown",
   "id": "f7f1a407-3443-47c4-aecf-81dd2d63836d",
   "metadata": {},
   "source": [
    "- ***Q9. Write a code to print odd numbers from 1 to 100 using list comprehension.***"
   ]
  },
  {
   "cell_type": "code",
   "execution_count": 4,
   "id": "66d360e6-21f9-4e4e-a4a3-e82981c8eaef",
   "metadata": {},
   "outputs": [
    {
     "name": "stdout",
     "output_type": "stream",
     "text": [
      "[1, 3, 5, 7, 9, 11, 13, 15, 17, 19, 21, 23, 25, 27, 29, 31, 33, 35, 37, 39, 41, 43, 45, 47, 49, 51, 53, 55, 57, 59, 61, 63, 65, 67, 69, 71, 73, 75, 77, 79, 81, 83, 85, 87, 89, 91, 93, 95, 97, 99]\n"
     ]
    }
   ],
   "source": [
    "odd_numbers = [num for num in range(1, 101) if num % 2 != 0]\n",
    "print(odd_numbers)\n"
   ]
  },
  {
   "cell_type": "markdown",
   "id": "97a0afb9-8a66-4d41-98b9-893dea2ef1c8",
   "metadata": {},
   "source": [
    "\n",
    "\n",
    "\n",
    "\n"
   ]
  },
  {
   "cell_type": "markdown",
   "id": "2793a252-27b9-4ea1-89e0-67d464bf740d",
   "metadata": {},
   "source": [
    "#     <<<<<<<<<<<<<<  COMPLETED   >>>>>>>>>>>>>>"
   ]
  },
  {
   "cell_type": "code",
   "execution_count": null,
   "id": "7617242c-1abf-442e-9688-79b84415584b",
   "metadata": {},
   "outputs": [],
   "source": []
  }
 ],
 "metadata": {
  "kernelspec": {
   "display_name": "Python 3 (ipykernel)",
   "language": "python",
   "name": "python3"
  },
  "language_info": {
   "codemirror_mode": {
    "name": "ipython",
    "version": 3
   },
   "file_extension": ".py",
   "mimetype": "text/x-python",
   "name": "python",
   "nbconvert_exporter": "python",
   "pygments_lexer": "ipython3",
   "version": "3.10.6"
  }
 },
 "nbformat": 4,
 "nbformat_minor": 5
}
